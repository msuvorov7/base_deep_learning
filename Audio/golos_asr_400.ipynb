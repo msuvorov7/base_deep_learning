{
 "cells": [
  {
   "cell_type": "code",
   "execution_count": 1,
   "id": "oGrdjDX-QCP5",
   "metadata": {
    "id": "oGrdjDX-QCP5",
    "tags": []
   },
   "outputs": [],
   "source": [
    "# %%time\n",
    "# !tar -xf golos_100hours.tar"
   ]
  },
  {
   "cell_type": "code",
   "execution_count": 2,
   "id": "1198e47d-4ec1-4574-8bca-412046481449",
   "metadata": {
    "id": "1198e47d-4ec1-4574-8bca-412046481449",
    "tags": []
   },
   "outputs": [],
   "source": [
    "import torch\n",
    "import torch.nn as nn\n",
    "import torchaudio"
   ]
  },
  {
   "cell_type": "code",
   "execution_count": 3,
   "id": "e859e6a0-e3c5-4e05-a57e-29016ce2feab",
   "metadata": {
    "id": "e859e6a0-e3c5-4e05-a57e-29016ce2feab",
    "tags": []
   },
   "outputs": [],
   "source": [
    "import torch.nn.functional as F\n",
    "from torch.nn.utils.rnn import pad_sequence\n",
    "from torch.utils.data import DataLoader, Dataset"
   ]
  },
  {
   "cell_type": "code",
   "execution_count": 4,
   "id": "692883cd-a62c-4cd7-9510-5c77222e1d10",
   "metadata": {
    "id": "692883cd-a62c-4cd7-9510-5c77222e1d10",
    "tags": []
   },
   "outputs": [],
   "source": [
    "import logging\n",
    "import re\n",
    "import os\n",
    "import sys\n",
    "\n",
    "import matplotlib.pyplot as plt\n",
    "import pandas as pd\n",
    "import numpy as np\n",
    "from IPython.display import clear_output\n",
    "from tqdm import tqdm"
   ]
  },
  {
   "cell_type": "code",
   "execution_count": 5,
   "id": "e1f467fa-4415-4b7b-b051-18e7f60cb7c7",
   "metadata": {
    "id": "e1f467fa-4415-4b7b-b051-18e7f60cb7c7",
    "tags": []
   },
   "outputs": [],
   "source": [
    "logging.basicConfig(\n",
    "    level=logging.INFO,\n",
    "    format=\"%(asctime)s - %(name)s - %(levelname)s - %(message)s\",\n",
    "    handlers=[logging.StreamHandler(sys.stdout)],\n",
    ")"
   ]
  },
  {
   "cell_type": "code",
   "execution_count": 6,
   "id": "7754b3f7-9c41-433b-aef0-ff0f08fd3997",
   "metadata": {
    "id": "7754b3f7-9c41-433b-aef0-ff0f08fd3997",
    "tags": []
   },
   "outputs": [],
   "source": [
    "class QuartzNet(nn.Module):\n",
    "    def __init__(self, R_repeat, in_channels, out_channels):\n",
    "        super(QuartzNet, self).__init__()\n",
    "\n",
    "        block_channels = [256, 256, 256, 512, 512, 512]\n",
    "        block_k = [33, 39, 51, 63, 75]\n",
    "\n",
    "        self.C1 = nn.Sequential(\n",
    "            nn.Conv1d(\n",
    "                in_channels,\n",
    "                in_channels,\n",
    "                kernel_size=33,\n",
    "                padding=16,\n",
    "                stride=2,\n",
    "                groups=in_channels,\n",
    "                bias=False,\n",
    "            ),\n",
    "            nn.Conv1d(in_channels, 256, kernel_size=1, stride=1, bias=False),\n",
    "            nn.BatchNorm1d(256, eps=0.001, momentum=0.1, affine=True),\n",
    "            nn.ReLU(),\n",
    "            nn.Dropout(p=0.2),\n",
    "        )\n",
    "\n",
    "        self.B = nn.ModuleList([])\n",
    "\n",
    "        for i in range(5):\n",
    "            num_in = block_channels[i]\n",
    "            num_out = block_channels[i + 1]\n",
    "            pad = block_k[i] // 2\n",
    "            k = block_k[i]\n",
    "\n",
    "            print(i, num_in, num_out, pad, k)\n",
    "\n",
    "            self.B.append(JasperBlock(num_in, num_out, k, pad))\n",
    "\n",
    "            for rep in range(R_repeat):\n",
    "                self.B.append(JasperBlock(num_out, num_out, k, pad))\n",
    "\n",
    "        self.C2 = nn.Sequential(\n",
    "            nn.Conv1d(\n",
    "                512, 512, kernel_size=87, padding=86, dilation=2, groups=512, bias=False\n",
    "            ),\n",
    "            nn.Conv1d(512, 512, kernel_size=1, stride=1, bias=False),\n",
    "            nn.BatchNorm1d(512, eps=0.001, momentum=0.1, affine=True),\n",
    "            nn.ReLU(),\n",
    "            nn.Dropout(p=0.2),\n",
    "        )\n",
    "\n",
    "        self.C3 = nn.Sequential(\n",
    "            nn.Conv1d(512, 1024, kernel_size=1, stride=1, bias=False),\n",
    "            nn.BatchNorm1d(1024, eps=0.001, momentum=0.1, affine=True),\n",
    "            nn.ReLU(),\n",
    "            nn.Dropout(p=0.2),\n",
    "        )\n",
    "\n",
    "        self.C4 = nn.Conv1d(1024, out_channels, kernel_size=1, stride=1)\n",
    "\n",
    "    def forward(self, x):\n",
    "        x = self.C1(x)\n",
    "\n",
    "        for block in self.B:\n",
    "            x = block(x)\n",
    "\n",
    "        x = self.C2(x)\n",
    "        x = self.C3(x)\n",
    "        x = self.C4(x)\n",
    "\n",
    "        return x"
   ]
  },
  {
   "cell_type": "code",
   "execution_count": 7,
   "id": "355fe27c-d4cb-4eb8-b9d3-638860fd2ebe",
   "metadata": {
    "id": "355fe27c-d4cb-4eb8-b9d3-638860fd2ebe",
    "tags": []
   },
   "outputs": [],
   "source": [
    "class JasperBlock(nn.Module):\n",
    "    def __init__(self, in_channels, out_channels, k, padding):\n",
    "        super(JasperBlock, self).__init__()\n",
    "\n",
    "        self.blocks = nn.Sequential(\n",
    "            ConvBlock(in_channels, out_channels, k, padding),\n",
    "            ConvBlock(out_channels, out_channels, k, padding),\n",
    "            ConvBlock(out_channels, out_channels, k, padding),\n",
    "            ConvBlock(out_channels, out_channels, k, padding),\n",
    "            ConvBlock(out_channels, out_channels, k, padding),\n",
    "        )\n",
    "\n",
    "        self.residual = nn.Sequential(\n",
    "            nn.Conv1d(\n",
    "                in_channels, out_channels, kernel_size=(1,), stride=[1], bias=False\n",
    "            ),\n",
    "            nn.BatchNorm1d(out_channels, eps=0.001, momentum=0.1, affine=True),\n",
    "        )\n",
    "\n",
    "        self.relu = nn.ReLU()\n",
    "        self.dropout = nn.Dropout(p=0.2)\n",
    "\n",
    "    def forward(self, x):\n",
    "        return self.dropout(self.relu(self.residual(x) + self.blocks(x)))"
   ]
  },
  {
   "cell_type": "code",
   "execution_count": 8,
   "id": "c77a14f0-b7a5-469b-880c-bb1826ad6c0d",
   "metadata": {
    "id": "c77a14f0-b7a5-469b-880c-bb1826ad6c0d",
    "tags": []
   },
   "outputs": [],
   "source": [
    "class ConvBlock(nn.Module):\n",
    "    def __init__(self, in_channels, out_channels, k, padding):\n",
    "        super(ConvBlock, self).__init__()\n",
    "\n",
    "        self.layers = nn.Sequential(\n",
    "            nn.Conv1d(\n",
    "                in_channels,\n",
    "                in_channels,\n",
    "                kernel_size=k,\n",
    "                stride=[1],\n",
    "                padding=(padding,),\n",
    "                dilation=[1],\n",
    "                groups=in_channels,\n",
    "                bias=False,\n",
    "            ),\n",
    "            nn.Conv1d(\n",
    "                in_channels, out_channels, kernel_size=(1,), stride=(1,), bias=False\n",
    "            ),\n",
    "            nn.BatchNorm1d(out_channels, eps=0.001, momentum=0.1, affine=True),\n",
    "            nn.ReLU(),\n",
    "            nn.Dropout(p=0.2),\n",
    "        )\n",
    "\n",
    "    def forward(self, x):\n",
    "        return self.layers(x)"
   ]
  },
  {
   "cell_type": "code",
   "execution_count": 9,
   "id": "3155db4a-26b6-46d8-96ae-7e3bf26e276c",
   "metadata": {
    "id": "3155db4a-26b6-46d8-96ae-7e3bf26e276c",
    "tags": []
   },
   "outputs": [],
   "source": [
    "# files = (\n",
    "#     pd.read_json(path_or_buf=\"100hours.jsonl\", lines=True)\n",
    "#     .iloc[:75_000]\n",
    "#     .reset_index(drop=True)\n",
    "# )"
   ]
  },
  {
   "cell_type": "code",
   "execution_count": 10,
   "id": "04a3a5d3-664b-41b1-b7bc-2c136b651e11",
   "metadata": {
    "id": "NR8cSgjpQSyc",
    "tags": []
   },
   "outputs": [],
   "source": [
    "# test_files = (\n",
    "#     pd.read_json(path_or_buf=\"100hours.jsonl\", lines=True)\n",
    "#     .iloc[75_000:]\n",
    "#     .reset_index(drop=True)\n",
    "# )"
   ]
  },
  {
   "cell_type": "code",
   "execution_count": 11,
   "id": "254c453b-4bb4-46bb-a282-592ac4106b04",
   "metadata": {
    "id": "3155db4a-26b6-46d8-96ae-7e3bf26e276c",
    "tags": []
   },
   "outputs": [],
   "source": [
    "files = (\n",
    "    pd.read_json(path_or_buf=\"train_opus/manifest.jsonl\", lines=True)\n",
    ")\n",
    "files = files[files['duration'] > 1].sample(400_000).reset_index(drop=True)"
   ]
  },
  {
   "cell_type": "code",
   "execution_count": 12,
   "id": "89a8c9fb-1ee9-451f-baf7-abf91a1f9e33",
   "metadata": {},
   "outputs": [
    {
     "data": {
      "text/plain": [
       "444.93871824652786"
      ]
     },
     "execution_count": 12,
     "metadata": {},
     "output_type": "execute_result"
    }
   ],
   "source": [
    "files.duration.sum() / 3600"
   ]
  },
  {
   "cell_type": "code",
   "execution_count": 13,
   "id": "ca79577b-84aa-46fd-a55f-9c050d8e95d8",
   "metadata": {},
   "outputs": [],
   "source": [
    "test_crowd = pd.read_json(path_or_buf=\"test_opus/crowd/manifest.jsonl\", lines=True)\n",
    "test_crowd['audio_filepath'] = 'crowd/' + test_crowd['audio_filepath']\n",
    "\n",
    "test_farfield = pd.read_json(path_or_buf=\"test_opus/farfield/manifest.jsonl\", lines=True)\n",
    "test_farfield['audio_filepath'] = 'farfield/' + test_farfield['audio_filepath']"
   ]
  },
  {
   "cell_type": "code",
   "execution_count": 14,
   "id": "NR8cSgjpQSyc",
   "metadata": {
    "id": "NR8cSgjpQSyc",
    "tags": []
   },
   "outputs": [],
   "source": [
    "test_files = (\n",
    "    pd.concat(\n",
    "        [\n",
    "            test_crowd,\n",
    "            test_farfield,\n",
    "        ]\n",
    "    )\n",
    "    .reset_index(drop=True)\n",
    ")\n",
    "test_files = test_files[test_files['duration'] > 1].reset_index(drop=True)"
   ]
  },
  {
   "cell_type": "code",
   "execution_count": 15,
   "id": "0d5c9e1d-ddb6-4f86-94bc-ccaa5fa34440",
   "metadata": {
    "id": "0d5c9e1d-ddb6-4f86-94bc-ccaa5fa34440",
    "tags": []
   },
   "outputs": [],
   "source": [
    "chars = [\n",
    "    \" \",\n",
    "    \"а\",\n",
    "    \"б\",\n",
    "    \"в\",\n",
    "    \"г\",\n",
    "    \"д\",\n",
    "    \"е\",\n",
    "    \"ж\",\n",
    "    \"з\",\n",
    "    \"и\",\n",
    "    \"й\",\n",
    "    \"к\",\n",
    "    \"л\",\n",
    "    \"м\",\n",
    "    \"н\",\n",
    "    \"о\",\n",
    "    \"п\",\n",
    "    \"р\",\n",
    "    \"с\",\n",
    "    \"т\",\n",
    "    \"у\",\n",
    "    \"ф\",\n",
    "    \"х\",\n",
    "    \"ц\",\n",
    "    \"ч\",\n",
    "    \"ш\",\n",
    "    \"щ\",\n",
    "    \"ъ\",\n",
    "    \"ы\",\n",
    "    \"ь\",\n",
    "    \"э\",\n",
    "    \"ю\",\n",
    "    \"я\",\n",
    "]\n",
    "int_to_char = dict(enumerate(chars))\n",
    "char_to_int = {v: k for k, v in int_to_char.items()}"
   ]
  },
  {
   "cell_type": "code",
   "execution_count": 16,
   "id": "7e6a800c-9bc5-485d-83b6-ffe6cfeed231",
   "metadata": {
    "id": "7e6a800c-9bc5-485d-83b6-ffe6cfeed231",
    "tags": []
   },
   "outputs": [],
   "source": [
    "class GolosDataset(Dataset):\n",
    "    def __init__(self, mode: str, files, spec_aug=None):\n",
    "        super(GolosDataset, self).__init__()\n",
    "\n",
    "        self.mode = mode\n",
    "        self.collection = files\n",
    "        self.sr = 16_000\n",
    "        self.spec_aug = spec_aug\n",
    "\n",
    "    def __len__(self):\n",
    "        return len(self.collection)\n",
    "\n",
    "    def __getitem__(self, item):\n",
    "        audio_path = self.collection[\"audio_filepath\"][item]\n",
    "        transcript = self.collection[\"text\"][item]\n",
    "\n",
    "        transcript_tensor = torch.tensor(\n",
    "            [char_to_int[i] for i in transcript], dtype=torch.long\n",
    "        )\n",
    "\n",
    "        if self.mode == \"train\":\n",
    "            waveform, sample_rate = torchaudio.load(\n",
    "                \"train_opus/\" + audio_path, normalize=True\n",
    "            )\n",
    "        else:\n",
    "            waveform, sample_rate = torchaudio.load(\n",
    "                \"test_opus/\" + audio_path, normalize=True\n",
    "            )\n",
    "        waveform = torchaudio.transforms.Resample(sample_rate, self.sr)(waveform)\n",
    "        \n",
    "        if self.spec_aug is None:\n",
    "            mel_spectrogram = torchaudio.transforms.MelSpectrogram(\n",
    "                n_mels=64,\n",
    "                sample_rate=self.sr,\n",
    "                n_fft=400,\n",
    "                power=2,\n",
    "                f_min=0.0,\n",
    "            )(waveform)\n",
    "        else:\n",
    "            # Convert to power spectrogram\n",
    "            spectrogram = torchaudio.transforms.Spectrogram(\n",
    "                n_fft=400,\n",
    "                power=2,\n",
    "            )(waveform)\n",
    "            # Apply SpecAugment\n",
    "            aug_spectrogram = self.spec_aug(spectrogram)\n",
    "            # Convert to mel-scale\n",
    "            mel_spectrogram = torchaudio.transforms.MelScale(\n",
    "                n_mels=64,\n",
    "                sample_rate=self.sr,\n",
    "                f_min=0.0,\n",
    "            )(aug_spectrogram)\n",
    "        \n",
    "        log_mel_spec = torch.log(torch.clamp(mel_spectrogram, min=1e-10))\n",
    "\n",
    "        input_length = log_mel_spec.shape[-1]\n",
    "        label_length = len(transcript_tensor)\n",
    "\n",
    "        return {\n",
    "            \"melspec\": log_mel_spec.squeeze(0),\n",
    "            \"text\": transcript_tensor,\n",
    "            \"input_length\": input_length,\n",
    "            \"label_length\": label_length,\n",
    "        }"
   ]
  },
  {
   "cell_type": "code",
   "execution_count": 17,
   "id": "9edef4e7-8b59-4e99-a928-84ac0843efbc",
   "metadata": {},
   "outputs": [],
   "source": [
    "spec_aug = torch.nn.Sequential(\n",
    "    # torchaudio.transforms.TimeStretch(0.9, fixed_rate=True),\n",
    "    torchaudio.transforms.FrequencyMasking(freq_mask_param=20),\n",
    "    torchaudio.transforms.TimeMasking(time_mask_param=5),\n",
    ")"
   ]
  },
  {
   "cell_type": "code",
   "execution_count": 18,
   "id": "03108d4c-2487-4d51-9bad-09c6e7b99840",
   "metadata": {
    "id": "03108d4c-2487-4d51-9bad-09c6e7b99840",
    "tags": []
   },
   "outputs": [],
   "source": [
    "def count_parameters(model: nn.Module):\n",
    "    \"\"\"Количество обучаемых параметров модели\"\"\"\n",
    "    return sum(p.numel() for p in model.parameters() if p.requires_grad)"
   ]
  },
  {
   "cell_type": "code",
   "execution_count": 19,
   "id": "aeb3d3ef-93af-4566-bd2c-183ac79c2f70",
   "metadata": {
    "id": "aeb3d3ef-93af-4566-bd2c-183ac79c2f70",
    "tags": []
   },
   "outputs": [],
   "source": [
    "train_dataset = GolosDataset(\"train\", files, spec_aug)\n",
    "test_dataset = GolosDataset(\"test\", test_files)"
   ]
  },
  {
   "cell_type": "code",
   "execution_count": 20,
   "id": "47458051-07b0-4524-888d-e92917d4893c",
   "metadata": {
    "id": "47458051-07b0-4524-888d-e92917d4893c",
    "tags": []
   },
   "outputs": [],
   "source": [
    "data = train_dataset[1]\n",
    "log_mel_spec = data[\"melspec\"]\n",
    "transcript = data[\"text\"]\n",
    "input_length = data[\"input_length\"]\n",
    "label_length = data[\"label_length\"]"
   ]
  },
  {
   "cell_type": "code",
   "execution_count": 21,
   "id": "d1ca50ff-888a-467c-93c8-fd17607274b7",
   "metadata": {
    "id": "47458051-07b0-4524-888d-e92917d4893c",
    "tags": []
   },
   "outputs": [],
   "source": [
    "data = test_dataset[1]\n",
    "log_mel_spec = data[\"melspec\"]\n",
    "transcript = data[\"text\"]\n",
    "input_length = data[\"input_length\"]\n",
    "label_length = data[\"label_length\"]"
   ]
  },
  {
   "cell_type": "code",
   "execution_count": 22,
   "id": "d5781e47-266a-4de4-8767-241add7ce8e6",
   "metadata": {
    "colab": {
     "base_uri": "https://localhost:8080/"
    },
    "id": "d5781e47-266a-4de4-8767-241add7ce8e6",
    "outputId": "ab59c85f-4bd9-4d09-bc75-3f197f821629",
    "tags": []
   },
   "outputs": [
    {
     "data": {
      "text/plain": [
       "33"
      ]
     },
     "execution_count": 22,
     "metadata": {},
     "output_type": "execute_result"
    }
   ],
   "source": [
    "len(chars)"
   ]
  },
  {
   "cell_type": "code",
   "execution_count": 23,
   "id": "e50c4d44",
   "metadata": {
    "colab": {
     "base_uri": "https://localhost:8080/"
    },
    "id": "e50c4d44",
    "outputId": "79346cdf-0ad8-45c0-9878-1a5417384871",
    "tags": []
   },
   "outputs": [
    {
     "name": "stdout",
     "output_type": "stream",
     "text": [
      "0 256 256 16 33\n",
      "1 256 256 19 39\n",
      "2 256 512 25 51\n",
      "3 512 512 31 63\n",
      "4 512 512 37 75\n"
     ]
    }
   ],
   "source": [
    "model = QuartzNet(\n",
    "    R_repeat=0,\n",
    "    in_channels=64,\n",
    "    out_channels=len(chars) + 1,  # for blank token (ctc loss)\n",
    ")"
   ]
  },
  {
   "cell_type": "code",
   "execution_count": 24,
   "id": "bb80afc3-870d-4c02-ad26-0d87b6a9e9ef",
   "metadata": {
    "id": "bb80afc3-870d-4c02-ad26-0d87b6a9e9ef",
    "tags": []
   },
   "outputs": [],
   "source": [
    "# model = torch.load('quartznet_5x5.model')"
   ]
  },
  {
   "cell_type": "code",
   "execution_count": 25,
   "id": "4c01c614",
   "metadata": {
    "colab": {
     "base_uri": "https://localhost:8080/"
    },
    "id": "4c01c614",
    "outputId": "fd490b43-fabf-46c5-9a6d-142239df6f93",
    "tags": []
   },
   "outputs": [
    {
     "name": "stdout",
     "output_type": "stream",
     "text": [
      "The model has 6,718,306 trainable parameters\n"
     ]
    }
   ],
   "source": [
    "print(f\"The model has {count_parameters(model):,} trainable parameters\")"
   ]
  },
  {
   "cell_type": "code",
   "execution_count": 26,
   "id": "112bd1fa-a83c-4e62-b75b-f85a5573b651",
   "metadata": {
    "id": "112bd1fa-a83c-4e62-b75b-f85a5573b651",
    "tags": []
   },
   "outputs": [],
   "source": [
    "def collate_fn(batch):\n",
    "    melspecs = [row[\"melspec\"] for row in batch]\n",
    "    texts = [row[\"text\"] for row in batch]\n",
    "    input_lengths = [row[\"input_length\"] for row in batch]\n",
    "    label_lengths = [row[\"label_length\"] for row in batch]\n",
    "\n",
    "    specs = [torch.transpose(spec, 0, 1) for spec in melspecs]\n",
    "    specs = pad_sequence(specs, batch_first=True)\n",
    "    specs = torch.transpose(specs, 1, 2)\n",
    "\n",
    "    labels = pad_sequence(texts, batch_first=True)\n",
    "    return (\n",
    "        specs,\n",
    "        labels,\n",
    "        torch.tensor(input_lengths),\n",
    "        torch.tensor(label_lengths),\n",
    "    )"
   ]
  },
  {
   "cell_type": "code",
   "execution_count": 27,
   "id": "fe79ca40-4b56-40e4-b30e-b82500c5a188",
   "metadata": {
    "id": "fe79ca40-4b56-40e4-b30e-b82500c5a188",
    "tags": []
   },
   "outputs": [],
   "source": [
    "train_loader = DataLoader(\n",
    "    train_dataset,\n",
    "    batch_size=32,\n",
    "    shuffle=True,\n",
    "    collate_fn=collate_fn,\n",
    "    num_workers=0,\n",
    "    pin_memory=True,\n",
    ")\n",
    "\n",
    "test_loader = DataLoader(\n",
    "    test_dataset,\n",
    "    batch_size=32,\n",
    "    shuffle=False,\n",
    "    collate_fn=collate_fn,\n",
    "    num_workers=0,\n",
    "    pin_memory=True,\n",
    ")"
   ]
  },
  {
   "cell_type": "code",
   "execution_count": 28,
   "id": "4443a1a7-8aa8-4df5-9b78-e89380461a84",
   "metadata": {
    "id": "4443a1a7-8aa8-4df5-9b78-e89380461a84",
    "tags": []
   },
   "outputs": [],
   "source": [
    "# sum_stat = 0\n",
    "# for i in tqdm(train_dataset):\n",
    "#     sum_stat = i['melspec'].sum(1)\n",
    "\n",
    "# mean = sum_stat / len(train_dataset)\n",
    "\n",
    "# sum_stat = 0\n",
    "# for i in tqdm(train_dataset):\n",
    "#     sum_stat += ((i['melspec'] - mean.unsqueeze(1))**2).sum(1)\n",
    "\n",
    "# std = (sum_stat / len(train_dataset)) ** (0.5)"
   ]
  },
  {
   "cell_type": "code",
   "execution_count": 29,
   "id": "f08c519f-bc31-4b89-a931-96ce086ca1a8",
   "metadata": {
    "colab": {
     "base_uri": "https://localhost:8080/"
    },
    "id": "f08c519f-bc31-4b89-a931-96ce086ca1a8",
    "outputId": "8379ac2f-3f39-4ce0-b32b-91337c3df72b",
    "tags": []
   },
   "outputs": [
    {
     "name": "stdout",
     "output_type": "stream",
     "text": [
      "mel torch.Size([32, 64, 479])\n",
      "texts torch.Size([32, 64])\n",
      "torch.Size([32, 34, 240])\n"
     ]
    }
   ],
   "source": [
    "for batch in train_loader:\n",
    "    melspecs = batch[0]\n",
    "    texts = batch[1]\n",
    "    input_lengths = batch[2]\n",
    "    label_lengths = batch[3]\n",
    "    output = model(melspecs)\n",
    "    output = F.log_softmax(output, dim=1)\n",
    "    print(\"mel\", melspecs.shape)\n",
    "    print(\"texts\", texts.shape)\n",
    "    print(output.shape)\n",
    "    break"
   ]
  },
  {
   "cell_type": "code",
   "execution_count": 30,
   "id": "bR-r77VCXWFu",
   "metadata": {
    "colab": {
     "base_uri": "https://localhost:8080/"
    },
    "id": "bR-r77VCXWFu",
    "outputId": "234feb1e-c5a4-4e9e-dc65-977636d11d5a",
    "tags": []
   },
   "outputs": [
    {
     "data": {
      "text/plain": [
       "tensor(0)"
      ]
     },
     "execution_count": 30,
     "metadata": {},
     "output_type": "execute_result"
    }
   ],
   "source": [
    "melspecs.isinf().sum()"
   ]
  },
  {
   "cell_type": "code",
   "execution_count": 31,
   "id": "ded810fb-4f9c-4ce8-b401-08bd51f08593",
   "metadata": {
    "colab": {
     "base_uri": "https://localhost:8080/"
    },
    "id": "ded810fb-4f9c-4ce8-b401-08bd51f08593",
    "outputId": "7544056b-15c5-4e2e-d0a9-5102f560837c",
    "tags": []
   },
   "outputs": [
    {
     "data": {
      "text/plain": [
       "tensor([18,  6, 17,  9,  1, 12,  0, 15, 19,  6, 12, 29,  0,  3,  1,  3,  9, 12,\n",
       "        15, 14,  0, 18,  6,  8, 15, 14,  0, 25,  6, 18, 19, 29,  0, 24,  1, 18,\n",
       "        19, 29,  0, 25,  6, 18, 19, 14,  1,  5, 23,  1, 19, 29,  0,  0,  0,  0,\n",
       "         0,  0,  0,  0,  0,  0,  0,  0,  0,  0])"
      ]
     },
     "execution_count": 31,
     "metadata": {},
     "output_type": "execute_result"
    }
   ],
   "source": [
    "texts[1]"
   ]
  },
  {
   "cell_type": "code",
   "execution_count": 32,
   "id": "9806f528-852b-4598-9edb-98f23bfde852",
   "metadata": {
    "colab": {
     "base_uri": "https://localhost:8080/",
     "height": 386
    },
    "id": "9806f528-852b-4598-9edb-98f23bfde852",
    "outputId": "75a30147-c2a3-49f7-d864-5b9e5f354db9",
    "tags": []
   },
   "outputs": [
    {
     "data": {
      "text/plain": [
       "<matplotlib.image.AxesImage at 0x1f8c9be66d0>"
      ]
     },
     "execution_count": 32,
     "metadata": {},
     "output_type": "execute_result"
    },
    {
     "data": {
      "image/png": "[encoded data removed]",
      "text/plain": [
       "<Figure size 1200x400 with 1 Axes>"
      ]
     },
     "metadata": {},
     "output_type": "display_data"
    }
   ],
   "source": [
    "plt.figure(figsize=(12, 4))\n",
    "plt.imshow(melspecs[20].numpy(), aspect=\"auto\", origin=\"lower\", interpolation=\"none\")"
   ]
  },
  {
   "cell_type": "code",
   "execution_count": 33,
   "id": "eba20305",
   "metadata": {
    "colab": {
     "base_uri": "https://localhost:8080/"
    },
    "id": "eba20305",
    "outputId": "1fec9a15-98e8-4fd9-e15e-c1e9eff135df",
    "tags": []
   },
   "outputs": [],
   "source": [
    "# output.shape"
   ]
  },
  {
   "cell_type": "code",
   "execution_count": 34,
   "id": "0a1c483d",
   "metadata": {
    "colab": {
     "base_uri": "https://localhost:8080/"
    },
    "id": "0a1c483d",
    "outputId": "fcc70ebc-d8f1-4adc-9a4a-32ecbc571ecb",
    "tags": []
   },
   "outputs": [],
   "source": [
    "# melspecs.shape"
   ]
  },
  {
   "cell_type": "code",
   "execution_count": 35,
   "id": "2d0c559f",
   "metadata": {
    "colab": {
     "base_uri": "https://localhost:8080/"
    },
    "id": "2d0c559f",
    "outputId": "5f06a92a-6d22-450e-f2a6-3226c0ed6821",
    "tags": []
   },
   "outputs": [],
   "source": [
    "# melspecs[2]"
   ]
  },
  {
   "cell_type": "code",
   "execution_count": 36,
   "id": "731afb59",
   "metadata": {
    "colab": {
     "base_uri": "https://localhost:8080/"
    },
    "id": "731afb59",
    "outputId": "0d4375c3-0ada-4549-d7ea-da8a4e5c46bd",
    "tags": []
   },
   "outputs": [],
   "source": [
    "# input_lengths"
   ]
  },
  {
   "cell_type": "code",
   "execution_count": 37,
   "id": "b4aedf3b-7d13-4765-b68a-9c83f82267de",
   "metadata": {
    "colab": {
     "base_uri": "https://localhost:8080/"
    },
    "id": "b4aedf3b-7d13-4765-b68a-9c83f82267de",
    "outputId": "daaf16a5-c7b1-428a-d473-2d5fc7cb987f",
    "tags": []
   },
   "outputs": [],
   "source": [
    "# criterion = nn.CTCLoss(blank=len(chars), zero_infinity=True)\n",
    "# criterion(\n",
    "#     output.permute(2, 0, 1),\n",
    "#     texts,\n",
    "#     torch.ceil(input_lengths.float() / 2).int(),\n",
    "#     label_lengths,\n",
    "# )"
   ]
  },
  {
   "cell_type": "code",
   "execution_count": 38,
   "id": "58a53bff-8a29-4649-b8e3-03170b70277f",
   "metadata": {
    "colab": {
     "base_uri": "https://localhost:8080/"
    },
    "id": "58a53bff-8a29-4649-b8e3-03170b70277f",
    "outputId": "6d1c11c7-0b66-43d0-864a-8a3441f7f0d3",
    "tags": []
   },
   "outputs": [
    {
     "data": {
      "text/plain": [
       "True"
      ]
     },
     "execution_count": 38,
     "metadata": {},
     "output_type": "execute_result"
    }
   ],
   "source": [
    "torch.cuda.is_available()"
   ]
  },
  {
   "cell_type": "code",
   "execution_count": 39,
   "id": "7829a9aa-914a-497a-9eb1-3f25566b974d",
   "metadata": {},
   "outputs": [
    {
     "name": "stdout",
     "output_type": "stream",
     "text": [
      "2024-04-05 22:11:48,698 - root - INFO - cuda\n"
     ]
    }
   ],
   "source": [
    "device = \"cuda\" if torch.cuda.is_available() else \"cpu\"\n",
    "logging.info(device)\n",
    "\n",
    "model = model.to(device)"
   ]
  },
  {
   "cell_type": "code",
   "execution_count": 40,
   "id": "d7b02933-3cd0-4738-ae9f-58e1f701ed4b",
   "metadata": {
    "id": "d7b02933-3cd0-4738-ae9f-58e1f701ed4b",
    "tags": []
   },
   "outputs": [],
   "source": [
    "def train(\n",
    "    model: nn.Module,\n",
    "    train_loader: DataLoader,\n",
    "    criterion: nn.Module,\n",
    "    optimizer: torch.optim.Optimizer,\n",
    "    scheduler,\n",
    "    device: str,\n",
    "    clip: float = 3.0,\n",
    "    train_history=None,\n",
    "    valid_history=None,\n",
    "):\n",
    "    epoch_loss = 0\n",
    "    history = []\n",
    "\n",
    "    model.train()\n",
    "    for i, batch in enumerate(tqdm(train_loader)):\n",
    "        try:\n",
    "            melspecs = batch[0].to(device)\n",
    "            texts = batch[1].to(device)\n",
    "            input_lengths = batch[2].to(device)\n",
    "            label_lengths = batch[3].to(device)\n",
    "    \n",
    "            output = model(melspecs).permute(2, 0, 1)\n",
    "            output = F.log_softmax(output, dim=2)\n",
    "    \n",
    "            loss = criterion(\n",
    "                output,\n",
    "                texts,\n",
    "                torch.ceil(input_lengths.float() / 2).int(),\n",
    "                label_lengths,\n",
    "            )\n",
    "        except Exception as e:\n",
    "            print(e)\n",
    "            continue\n",
    "        epoch_loss += loss.item()\n",
    "\n",
    "        optimizer.zero_grad()\n",
    "        loss.backward()\n",
    "        # torch.nn.utils.clip_grad_norm_(model.parameters(), clip)\n",
    "        optimizer.step()\n",
    "        # scheduler.step()\n",
    "\n",
    "        history.append(loss.cpu().data.numpy())\n",
    "        if ((i + 1) % 30 == 0) or (i == (len(train_loader) - 1)):\n",
    "            fig, ax = plt.subplots(nrows=1, ncols=2, figsize=(12, 6))\n",
    "\n",
    "            clear_output(True)\n",
    "            ax[0].plot(history, label=\"train loss\")\n",
    "            ax[0].set_xlabel(\"Batch\")\n",
    "            ax[0].set_title(\"Train loss\")\n",
    "            if train_history is not None:\n",
    "                ax[1].plot(train_history, label=\"general train history\")\n",
    "                ax[1].set_xlabel(\"Epoch\")\n",
    "            if valid_history is not None:\n",
    "                ax[1].plot(valid_history, label=\"general valid history\")\n",
    "            plt.legend()\n",
    "\n",
    "            plt.show()\n",
    "        i += 1\n",
    "\n",
    "    return epoch_loss / len(train_loader), loss"
   ]
  },
  {
   "cell_type": "code",
   "execution_count": 41,
   "id": "26ce2190-997c-429a-893a-dbcddafc3437",
   "metadata": {
    "id": "26ce2190-997c-429a-893a-dbcddafc3437",
    "tags": []
   },
   "outputs": [],
   "source": [
    "def validate(\n",
    "    model: nn.Module, valid_loader: DataLoader, criterion: nn.Module, device: str\n",
    "):\n",
    "\n",
    "    epoch_loss = 0\n",
    "    model.eval()\n",
    "    with torch.no_grad():\n",
    "        for batch in tqdm(valid_loader):\n",
    "            melspecs = batch[0].to(device)\n",
    "            texts = batch[1].to(device)\n",
    "            input_lengths = batch[2].to(device)\n",
    "            label_lengths = batch[3].to(device)\n",
    "\n",
    "            output = model(melspecs).permute(2, 0, 1)\n",
    "            output = F.log_softmax(output, dim=2)\n",
    "            loss = criterion(\n",
    "                output,\n",
    "                texts,\n",
    "                torch.ceil(input_lengths.float() / 2).int(),\n",
    "                label_lengths,\n",
    "            )\n",
    "            epoch_loss += loss.item()\n",
    "\n",
    "    return epoch_loss / len(valid_loader)"
   ]
  },
  {
   "cell_type": "code",
   "execution_count": 42,
   "id": "31243c91-7b55-4dd1-80bd-81b116f23a9d",
   "metadata": {
    "tags": []
   },
   "outputs": [],
   "source": [
    "def test(\n",
    "    model: nn.Module, dataset: Dataset, ind: int\n",
    "):\n",
    "    model.eval()\n",
    "    \n",
    "    with torch.no_grad():\n",
    "    \n",
    "        melspecs = dataset[ind][\"melspec\"]\n",
    "        texts = dataset[ind][\"text\"]\n",
    "        input_lengths = dataset[ind][\"input_length\"]\n",
    "        label_lengths = dataset[ind][\"label_length\"]\n",
    "\n",
    "        output = model(melspecs.to('cuda').unsqueeze(0)).permute(2, 0, 1)\n",
    "        output = F.log_softmax(output, dim=2)\n",
    "        output = output.permute(1, 0, 2)\n",
    "        output.shape\n",
    "\n",
    "        ground_true = ''.join([int_to_char[i] for i in texts.cpu().numpy().tolist()])\n",
    "        predicted = ''.join([int_to_char.get(i, '') for i in output.argmax(dim=2).cpu().numpy().tolist()[0]])\n",
    "\n",
    "        print(f'ground_true: {ground_true}')\n",
    "        print(f'predicted: {predicted}')"
   ]
  },
  {
   "cell_type": "code",
   "execution_count": 49,
   "id": "fa42e34d-8a34-4b06-b07e-51f453c0056f",
   "metadata": {
    "id": "fa42e34d-8a34-4b06-b07e-51f453c0056f",
    "tags": []
   },
   "outputs": [],
   "source": [
    "def fit(\n",
    "    model: nn.Module,\n",
    "    train_loader: DataLoader,\n",
    "    valid_loader: DataLoader,\n",
    "    criterion,\n",
    "    optimizer,\n",
    "    scheduler,\n",
    "    start_epoch: int,\n",
    "    end_epoch: int,\n",
    "    clip: float = 3.0,\n",
    "):\n",
    "    \n",
    "    train_losses = []\n",
    "    valid_losses = []\n",
    "\n",
    "    best_valid_loss = 0.9\n",
    "\n",
    "    for epoch in range(start_epoch, end_epoch):\n",
    "        train_loss, last_batch_loss = train(\n",
    "            model,\n",
    "            train_loader,\n",
    "            criterion,\n",
    "            optimizer,\n",
    "            scheduler,\n",
    "            device,\n",
    "            clip,\n",
    "            train_losses,\n",
    "            valid_losses,\n",
    "        )\n",
    "        valid_loss = validate(model, valid_loader, criterion, device)\n",
    "        logging.info(\n",
    "            f\"Epoch: {epoch}, Training Loss: {train_loss}, Valid Loss: {valid_loss}\"\n",
    "        )\n",
    "        \n",
    "        test(model, test_dataset, 300)\n",
    "\n",
    "        train_losses.append(train_loss)\n",
    "        valid_losses.append(valid_loss)\n",
    "        \n",
    "        if valid_loss < best_valid_loss:\n",
    "            torch.save(model, f\"quartznet_5x5_{epoch}.model\")\n",
    "            best_valid_loss = valid_loss\n",
    "\n",
    "        save_checkpoint(\n",
    "            last_epoch=epoch,\n",
    "            last_batch_idx=epoch * len(train_loader) - 1,\n",
    "            model=model,\n",
    "            optimizer=optimizer,\n",
    "            scheduler=scheduler,\n",
    "            loss=last_batch_loss,\n",
    "        )\n",
    "        logging.info('checkpoint created')\n",
    "        \n",
    "    return train_losses, valid_losses"
   ]
  },
  {
   "cell_type": "code",
   "execution_count": 50,
   "id": "de0d7394-4748-4722-898f-b91a9c1c272a",
   "metadata": {},
   "outputs": [],
   "source": [
    "def save_checkpoint(\n",
    "    last_epoch: int,\n",
    "    last_batch_idx: int,\n",
    "    model,\n",
    "    optimizer,\n",
    "    scheduler,\n",
    "    loss,\n",
    "    path: str = \"quartznet\",\n",
    "    postfix: str = \"last_667\",\n",
    "):\n",
    "\n",
    "    if not os.path.exists(path):\n",
    "        os.mkdir(path)\n",
    "\n",
    "    torch.save({\n",
    "        'last_epoch': last_epoch,\n",
    "        'last_batch_idx': last_batch_idx,\n",
    "        'model_state_dict': model.state_dict(),\n",
    "        'optimizer_state_dict': optimizer.state_dict(),\n",
    "        'scheduler_state_dict': scheduler.state_dict(),\n",
    "        'loss': loss,\n",
    "        }, os.path.join(path, f\"model_{postfix}.checkpoint\"))"
   ]
  },
  {
   "cell_type": "code",
   "execution_count": 51,
   "id": "264ec03a-403f-4b94-b1b0-4e92acca5c37",
   "metadata": {},
   "outputs": [],
   "source": [
    "def load_checkpoint(\n",
    "    model,\n",
    "    optimizer,\n",
    "    scheduler,\n",
    "    path: str = \"quartznet\",\n",
    "    postfix: str = \"last_667\",\n",
    "):\n",
    "    checkpoint = torch.load(os.path.join(path, f\"model_{postfix}.checkpoint\"))\n",
    "    \n",
    "    model.load_state_dict(checkpoint['model_state_dict'])\n",
    "    optimizer.load_state_dict(checkpoint['optimizer_state_dict'])\n",
    "    scheduler.load_state_dict(checkpoint['scheduler_state_dict'])\n",
    "    last_epoch = checkpoint['last_epoch']\n",
    "    last_batch_idx = checkpoint['last_batch_idx']\n",
    "    loss = checkpoint['loss']\n",
    "\n",
    "    return (\n",
    "        model,\n",
    "        optimizer,\n",
    "        scheduler,\n",
    "        last_epoch,\n",
    "        last_batch_idx,\n",
    "    )"
   ]
  },
  {
   "cell_type": "code",
   "execution_count": 52,
   "id": "97ce5d8a-ed0e-4b14-81ae-3dc7a8cb9510",
   "metadata": {},
   "outputs": [],
   "source": [
    "from_checkpoint = True"
   ]
  },
  {
   "cell_type": "code",
   "execution_count": 53,
   "id": "8e780693-2f1c-4b5a-8e1c-dc660fb0bb76",
   "metadata": {},
   "outputs": [],
   "source": [
    "end_epoch = 10\n",
    "criterion = nn.CTCLoss(blank=len(chars), zero_infinity=True)\n",
    "if from_checkpoint:\n",
    "    optimizer = torch.optim.Adam(model.parameters(), lr=5e-4, weight_decay=0.0001)\n",
    "    scheduler = torch.optim.lr_scheduler.OneCycleLR(\n",
    "        optimizer,\n",
    "        max_lr=1e-3,\n",
    "        steps_per_epoch=len(train_loader),\n",
    "        epochs=end_epoch,\n",
    "        div_factor=25.0,\n",
    "        pct_start=0.3,\n",
    "        last_epoch=-1,\n",
    "    )\n",
    "    model, optimizer, scheduler, last_epoch, last_batch_idx = load_checkpoint(\n",
    "        model,\n",
    "        optimizer,\n",
    "        scheduler,\n",
    "    )\n",
    "    start_epoch = last_epoch + 1\n",
    "    scheduler.last_epoch = last_batch_idx\n",
    "else:\n",
    "    start_epoch = 0\n",
    "    optimizer = torch.optim.Adam(model.parameters(), lr=5e-4, weight_decay=0.0001)\n",
    "    scheduler = torch.optim.lr_scheduler.OneCycleLR(\n",
    "        optimizer,\n",
    "        max_lr=1e-3,\n",
    "        steps_per_epoch=len(train_loader),\n",
    "        epochs=end_epoch,\n",
    "        div_factor=25.0,\n",
    "        pct_start=0.3,\n",
    "        last_epoch=-1,\n",
    "    )"
   ]
  },
  {
   "cell_type": "code",
   "execution_count": 54,
   "id": "7ef441c2-7eeb-407e-8fa4-9be4220dde28",
   "metadata": {},
   "outputs": [
    {
     "data": {
      "text/plain": [
       "9"
      ]
     },
     "execution_count": 54,
     "metadata": {},
     "output_type": "execute_result"
    }
   ],
   "source": [
    "start_epoch"
   ]
  },
  {
   "cell_type": "code",
   "execution_count": 55,
   "id": "e601cad0-d00b-4cd0-b763-8d76c12734a2",
   "metadata": {
    "colab": {
     "base_uri": "https://localhost:8080/",
     "height": 582
    },
    "id": "e601cad0-d00b-4cd0-b763-8d76c12734a2",
    "outputId": "6a0c4748-1b89-4507-8256-70c25c48744b",
    "tags": []
   },
   "outputs": [
    {
     "data": {
      "image/png": "[encoded data removed]",
      "text/plain": [
       "<Figure size 1200x600 with 2 Axes>"
      ]
     },
     "metadata": {},
     "output_type": "display_data"
    },
    {
     "name": "stderr",
     "output_type": "stream",
     "text": [
      "100%|██████████████████████████████████████████████████████████████████████████| 12500/12500 [2:46:58<00:00,  1.25it/s]\n",
      "100%|████████████████████████████████████████████████████████████████████████████████| 372/372 [01:46<00:00,  3.51it/s]"
     ]
    },
    {
     "name": "stdout",
     "output_type": "stream",
     "text": [
      "2024-04-06 01:03:21,027 - root - INFO - Epoch: 9, Training Loss: 0.9845657639980316, Valid Loss: 0.8699753078561957\n"
     ]
    },
    {
     "name": "stderr",
     "output_type": "stream",
     "text": [
      "\n"
     ]
    },
    {
     "name": "stdout",
     "output_type": "stream",
     "text": [
      "ground_true: можешь включить сорок девять дней\n",
      "predicted: можжеешшьь  вкклюючиитьь ссергени\n",
      "2024-04-06 01:03:21,298 - root - INFO - checkpoint created\n"
     ]
    }
   ],
   "source": [
    "train_losses, valid_losses = fit(\n",
    "    model=model,\n",
    "    train_loader=train_loader,\n",
    "    valid_loader=test_loader,\n",
    "    criterion=criterion,\n",
    "    optimizer=optimizer,\n",
    "    scheduler=scheduler,\n",
    "    start_epoch=start_epoch,\n",
    "    end_epoch=end_epoch,\n",
    ")"
   ]
  },
  {
   "cell_type": "code",
   "execution_count": 56,
   "id": "6603b58b-11e5-4961-a7fb-cd8bcbab686c",
   "metadata": {},
   "outputs": [
    {
     "data": {
      "text/plain": [
       "QuartzNet(\n",
       "  (C1): Sequential(\n",
       "    (0): Conv1d(64, 64, kernel_size=(33,), stride=(2,), padding=(16,), groups=64, bias=False)\n",
       "    (1): Conv1d(64, 256, kernel_size=(1,), stride=(1,), bias=False)\n",
       "    (2): BatchNorm1d(256, eps=0.001, momentum=0.1, affine=True, track_running_stats=True)\n",
       "    (3): ReLU()\n",
       "    (4): Dropout(p=0.2, inplace=False)\n",
       "  )\n",
       "  (B): ModuleList(\n",
       "    (0): JasperBlock(\n",
       "      (blocks): Sequential(\n",
       "        (0): ConvBlock(\n",
       "          (layers): Sequential(\n",
       "            (0): Conv1d(256, 256, kernel_size=(33,), stride=(1,), padding=(16,), groups=256, bias=False)\n",
       "            (1): Conv1d(256, 256, kernel_size=(1,), stride=(1,), bias=False)\n",
       "            (2): BatchNorm1d(256, eps=0.001, momentum=0.1, affine=True, track_running_stats=True)\n",
       "            (3): ReLU()\n",
       "            (4): Dropout(p=0.2, inplace=False)\n",
       "          )\n",
       "        )\n",
       "        (1): ConvBlock(\n",
       "          (layers): Sequential(\n",
       "            (0): Conv1d(256, 256, kernel_size=(33,), stride=(1,), padding=(16,), groups=256, bias=False)\n",
       "            (1): Conv1d(256, 256, kernel_size=(1,), stride=(1,), bias=False)\n",
       "            (2): BatchNorm1d(256, eps=0.001, momentum=0.1, affine=True, track_running_stats=True)\n",
       "            (3): ReLU()\n",
       "            (4): Dropout(p=0.2, inplace=False)\n",
       "          )\n",
       "        )\n",
       "        (2): ConvBlock(\n",
       "          (layers): Sequential(\n",
       "            (0): Conv1d(256, 256, kernel_size=(33,), stride=(1,), padding=(16,), groups=256, bias=False)\n",
       "            (1): Conv1d(256, 256, kernel_size=(1,), stride=(1,), bias=False)\n",
       "            (2): BatchNorm1d(256, eps=0.001, momentum=0.1, affine=True, track_running_stats=True)\n",
       "            (3): ReLU()\n",
       "            (4): Dropout(p=0.2, inplace=False)\n",
       "          )\n",
       "        )\n",
       "        (3): ConvBlock(\n",
       "          (layers): Sequential(\n",
       "            (0): Conv1d(256, 256, kernel_size=(33,), stride=(1,), padding=(16,), groups=256, bias=False)\n",
       "            (1): Conv1d(256, 256, kernel_size=(1,), stride=(1,), bias=False)\n",
       "            (2): BatchNorm1d(256, eps=0.001, momentum=0.1, affine=True, track_running_stats=True)\n",
       "            (3): ReLU()\n",
       "            (4): Dropout(p=0.2, inplace=False)\n",
       "          )\n",
       "        )\n",
       "        (4): ConvBlock(\n",
       "          (layers): Sequential(\n",
       "            (0): Conv1d(256, 256, kernel_size=(33,), stride=(1,), padding=(16,), groups=256, bias=False)\n",
       "            (1): Conv1d(256, 256, kernel_size=(1,), stride=(1,), bias=False)\n",
       "            (2): BatchNorm1d(256, eps=0.001, momentum=0.1, affine=True, track_running_stats=True)\n",
       "            (3): ReLU()\n",
       "            (4): Dropout(p=0.2, inplace=False)\n",
       "          )\n",
       "        )\n",
       "      )\n",
       "      (residual): Sequential(\n",
       "        (0): Conv1d(256, 256, kernel_size=(1,), stride=(1,), bias=False)\n",
       "        (1): BatchNorm1d(256, eps=0.001, momentum=0.1, affine=True, track_running_stats=True)\n",
       "      )\n",
       "      (relu): ReLU()\n",
       "      (dropout): Dropout(p=0.2, inplace=False)\n",
       "    )\n",
       "    (1): JasperBlock(\n",
       "      (blocks): Sequential(\n",
       "        (0): ConvBlock(\n",
       "          (layers): Sequential(\n",
       "            (0): Conv1d(256, 256, kernel_size=(39,), stride=(1,), padding=(19,), groups=256, bias=False)\n",
       "            (1): Conv1d(256, 256, kernel_size=(1,), stride=(1,), bias=False)\n",
       "            (2): BatchNorm1d(256, eps=0.001, momentum=0.1, affine=True, track_running_stats=True)\n",
       "            (3): ReLU()\n",
       "            (4): Dropout(p=0.2, inplace=False)\n",
       "          )\n",
       "        )\n",
       "        (1): ConvBlock(\n",
       "          (layers): Sequential(\n",
       "            (0): Conv1d(256, 256, kernel_size=(39,), stride=(1,), padding=(19,), groups=256, bias=False)\n",
       "            (1): Conv1d(256, 256, kernel_size=(1,), stride=(1,), bias=False)\n",
       "            (2): BatchNorm1d(256, eps=0.001, momentum=0.1, affine=True, track_running_stats=True)\n",
       "            (3): ReLU()\n",
       "            (4): Dropout(p=0.2, inplace=False)\n",
       "          )\n",
       "        )\n",
       "        (2): ConvBlock(\n",
       "          (layers): Sequential(\n",
       "            (0): Conv1d(256, 256, kernel_size=(39,), stride=(1,), padding=(19,), groups=256, bias=False)\n",
       "            (1): Conv1d(256, 256, kernel_size=(1,), stride=(1,), bias=False)\n",
       "            (2): BatchNorm1d(256, eps=0.001, momentum=0.1, affine=True, track_running_stats=True)\n",
       "            (3): ReLU()\n",
       "            (4): Dropout(p=0.2, inplace=False)\n",
       "          )\n",
       "        )\n",
       "        (3): ConvBlock(\n",
       "          (layers): Sequential(\n",
       "            (0): Conv1d(256, 256, kernel_size=(39,), stride=(1,), padding=(19,), groups=256, bias=False)\n",
       "            (1): Conv1d(256, 256, kernel_size=(1,), stride=(1,), bias=False)\n",
       "            (2): BatchNorm1d(256, eps=0.001, momentum=0.1, affine=True, track_running_stats=True)\n",
       "            (3): ReLU()\n",
       "            (4): Dropout(p=0.2, inplace=False)\n",
       "          )\n",
       "        )\n",
       "        (4): ConvBlock(\n",
       "          (layers): Sequential(\n",
       "            (0): Conv1d(256, 256, kernel_size=(39,), stride=(1,), padding=(19,), groups=256, bias=False)\n",
       "            (1): Conv1d(256, 256, kernel_size=(1,), stride=(1,), bias=False)\n",
       "            (2): BatchNorm1d(256, eps=0.001, momentum=0.1, affine=True, track_running_stats=True)\n",
       "            (3): ReLU()\n",
       "            (4): Dropout(p=0.2, inplace=False)\n",
       "          )\n",
       "        )\n",
       "      )\n",
       "      (residual): Sequential(\n",
       "        (0): Conv1d(256, 256, kernel_size=(1,), stride=(1,), bias=False)\n",
       "        (1): BatchNorm1d(256, eps=0.001, momentum=0.1, affine=True, track_running_stats=True)\n",
       "      )\n",
       "      (relu): ReLU()\n",
       "      (dropout): Dropout(p=0.2, inplace=False)\n",
       "    )\n",
       "    (2): JasperBlock(\n",
       "      (blocks): Sequential(\n",
       "        (0): ConvBlock(\n",
       "          (layers): Sequential(\n",
       "            (0): Conv1d(256, 256, kernel_size=(51,), stride=(1,), padding=(25,), groups=256, bias=False)\n",
       "            (1): Conv1d(256, 512, kernel_size=(1,), stride=(1,), bias=False)\n",
       "            (2): BatchNorm1d(512, eps=0.001, momentum=0.1, affine=True, track_running_stats=True)\n",
       "            (3): ReLU()\n",
       "            (4): Dropout(p=0.2, inplace=False)\n",
       "          )\n",
       "        )\n",
       "        (1): ConvBlock(\n",
       "          (layers): Sequential(\n",
       "            (0): Conv1d(512, 512, kernel_size=(51,), stride=(1,), padding=(25,), groups=512, bias=False)\n",
       "            (1): Conv1d(512, 512, kernel_size=(1,), stride=(1,), bias=False)\n",
       "            (2): BatchNorm1d(512, eps=0.001, momentum=0.1, affine=True, track_running_stats=True)\n",
       "            (3): ReLU()\n",
       "            (4): Dropout(p=0.2, inplace=False)\n",
       "          )\n",
       "        )\n",
       "        (2): ConvBlock(\n",
       "          (layers): Sequential(\n",
       "            (0): Conv1d(512, 512, kernel_size=(51,), stride=(1,), padding=(25,), groups=512, bias=False)\n",
       "            (1): Conv1d(512, 512, kernel_size=(1,), stride=(1,), bias=False)\n",
       "            (2): BatchNorm1d(512, eps=0.001, momentum=0.1, affine=True, track_running_stats=True)\n",
       "            (3): ReLU()\n",
       "            (4): Dropout(p=0.2, inplace=False)\n",
       "          )\n",
       "        )\n",
       "        (3): ConvBlock(\n",
       "          (layers): Sequential(\n",
       "            (0): Conv1d(512, 512, kernel_size=(51,), stride=(1,), padding=(25,), groups=512, bias=False)\n",
       "            (1): Conv1d(512, 512, kernel_size=(1,), stride=(1,), bias=False)\n",
       "            (2): BatchNorm1d(512, eps=0.001, momentum=0.1, affine=True, track_running_stats=True)\n",
       "            (3): ReLU()\n",
       "            (4): Dropout(p=0.2, inplace=False)\n",
       "          )\n",
       "        )\n",
       "        (4): ConvBlock(\n",
       "          (layers): Sequential(\n",
       "            (0): Conv1d(512, 512, kernel_size=(51,), stride=(1,), padding=(25,), groups=512, bias=False)\n",
       "            (1): Conv1d(512, 512, kernel_size=(1,), stride=(1,), bias=False)\n",
       "            (2): BatchNorm1d(512, eps=0.001, momentum=0.1, affine=True, track_running_stats=True)\n",
       "            (3): ReLU()\n",
       "            (4): Dropout(p=0.2, inplace=False)\n",
       "          )\n",
       "        )\n",
       "      )\n",
       "      (residual): Sequential(\n",
       "        (0): Conv1d(256, 512, kernel_size=(1,), stride=(1,), bias=False)\n",
       "        (1): BatchNorm1d(512, eps=0.001, momentum=0.1, affine=True, track_running_stats=True)\n",
       "      )\n",
       "      (relu): ReLU()\n",
       "      (dropout): Dropout(p=0.2, inplace=False)\n",
       "    )\n",
       "    (3): JasperBlock(\n",
       "      (blocks): Sequential(\n",
       "        (0): ConvBlock(\n",
       "          (layers): Sequential(\n",
       "            (0): Conv1d(512, 512, kernel_size=(63,), stride=(1,), padding=(31,), groups=512, bias=False)\n",
       "            (1): Conv1d(512, 512, kernel_size=(1,), stride=(1,), bias=False)\n",
       "            (2): BatchNorm1d(512, eps=0.001, momentum=0.1, affine=True, track_running_stats=True)\n",
       "            (3): ReLU()\n",
       "            (4): Dropout(p=0.2, inplace=False)\n",
       "          )\n",
       "        )\n",
       "        (1): ConvBlock(\n",
       "          (layers): Sequential(\n",
       "            (0): Conv1d(512, 512, kernel_size=(63,), stride=(1,), padding=(31,), groups=512, bias=False)\n",
       "            (1): Conv1d(512, 512, kernel_size=(1,), stride=(1,), bias=False)\n",
       "            (2): BatchNorm1d(512, eps=0.001, momentum=0.1, affine=True, track_running_stats=True)\n",
       "            (3): ReLU()\n",
       "            (4): Dropout(p=0.2, inplace=False)\n",
       "          )\n",
       "        )\n",
       "        (2): ConvBlock(\n",
       "          (layers): Sequential(\n",
       "            (0): Conv1d(512, 512, kernel_size=(63,), stride=(1,), padding=(31,), groups=512, bias=False)\n",
       "            (1): Conv1d(512, 512, kernel_size=(1,), stride=(1,), bias=False)\n",
       "            (2): BatchNorm1d(512, eps=0.001, momentum=0.1, affine=True, track_running_stats=True)\n",
       "            (3): ReLU()\n",
       "            (4): Dropout(p=0.2, inplace=False)\n",
       "          )\n",
       "        )\n",
       "        (3): ConvBlock(\n",
       "          (layers): Sequential(\n",
       "            (0): Conv1d(512, 512, kernel_size=(63,), stride=(1,), padding=(31,), groups=512, bias=False)\n",
       "            (1): Conv1d(512, 512, kernel_size=(1,), stride=(1,), bias=False)\n",
       "            (2): BatchNorm1d(512, eps=0.001, momentum=0.1, affine=True, track_running_stats=True)\n",
       "            (3): ReLU()\n",
       "            (4): Dropout(p=0.2, inplace=False)\n",
       "          )\n",
       "        )\n",
       "        (4): ConvBlock(\n",
       "          (layers): Sequential(\n",
       "            (0): Conv1d(512, 512, kernel_size=(63,), stride=(1,), padding=(31,), groups=512, bias=False)\n",
       "            (1): Conv1d(512, 512, kernel_size=(1,), stride=(1,), bias=False)\n",
       "            (2): BatchNorm1d(512, eps=0.001, momentum=0.1, affine=True, track_running_stats=True)\n",
       "            (3): ReLU()\n",
       "            (4): Dropout(p=0.2, inplace=False)\n",
       "          )\n",
       "        )\n",
       "      )\n",
       "      (residual): Sequential(\n",
       "        (0): Conv1d(512, 512, kernel_size=(1,), stride=(1,), bias=False)\n",
       "        (1): BatchNorm1d(512, eps=0.001, momentum=0.1, affine=True, track_running_stats=True)\n",
       "      )\n",
       "      (relu): ReLU()\n",
       "      (dropout): Dropout(p=0.2, inplace=False)\n",
       "    )\n",
       "    (4): JasperBlock(\n",
       "      (blocks): Sequential(\n",
       "        (0): ConvBlock(\n",
       "          (layers): Sequential(\n",
       "            (0): Conv1d(512, 512, kernel_size=(75,), stride=(1,), padding=(37,), groups=512, bias=False)\n",
       "            (1): Conv1d(512, 512, kernel_size=(1,), stride=(1,), bias=False)\n",
       "            (2): BatchNorm1d(512, eps=0.001, momentum=0.1, affine=True, track_running_stats=True)\n",
       "            (3): ReLU()\n",
       "            (4): Dropout(p=0.2, inplace=False)\n",
       "          )\n",
       "        )\n",
       "        (1): ConvBlock(\n",
       "          (layers): Sequential(\n",
       "            (0): Conv1d(512, 512, kernel_size=(75,), stride=(1,), padding=(37,), groups=512, bias=False)\n",
       "            (1): Conv1d(512, 512, kernel_size=(1,), stride=(1,), bias=False)\n",
       "            (2): BatchNorm1d(512, eps=0.001, momentum=0.1, affine=True, track_running_stats=True)\n",
       "            (3): ReLU()\n",
       "            (4): Dropout(p=0.2, inplace=False)\n",
       "          )\n",
       "        )\n",
       "        (2): ConvBlock(\n",
       "          (layers): Sequential(\n",
       "            (0): Conv1d(512, 512, kernel_size=(75,), stride=(1,), padding=(37,), groups=512, bias=False)\n",
       "            (1): Conv1d(512, 512, kernel_size=(1,), stride=(1,), bias=False)\n",
       "            (2): BatchNorm1d(512, eps=0.001, momentum=0.1, affine=True, track_running_stats=True)\n",
       "            (3): ReLU()\n",
       "            (4): Dropout(p=0.2, inplace=False)\n",
       "          )\n",
       "        )\n",
       "        (3): ConvBlock(\n",
       "          (layers): Sequential(\n",
       "            (0): Conv1d(512, 512, kernel_size=(75,), stride=(1,), padding=(37,), groups=512, bias=False)\n",
       "            (1): Conv1d(512, 512, kernel_size=(1,), stride=(1,), bias=False)\n",
       "            (2): BatchNorm1d(512, eps=0.001, momentum=0.1, affine=True, track_running_stats=True)\n",
       "            (3): ReLU()\n",
       "            (4): Dropout(p=0.2, inplace=False)\n",
       "          )\n",
       "        )\n",
       "        (4): ConvBlock(\n",
       "          (layers): Sequential(\n",
       "            (0): Conv1d(512, 512, kernel_size=(75,), stride=(1,), padding=(37,), groups=512, bias=False)\n",
       "            (1): Conv1d(512, 512, kernel_size=(1,), stride=(1,), bias=False)\n",
       "            (2): BatchNorm1d(512, eps=0.001, momentum=0.1, affine=True, track_running_stats=True)\n",
       "            (3): ReLU()\n",
       "            (4): Dropout(p=0.2, inplace=False)\n",
       "          )\n",
       "        )\n",
       "      )\n",
       "      (residual): Sequential(\n",
       "        (0): Conv1d(512, 512, kernel_size=(1,), stride=(1,), bias=False)\n",
       "        (1): BatchNorm1d(512, eps=0.001, momentum=0.1, affine=True, track_running_stats=True)\n",
       "      )\n",
       "      (relu): ReLU()\n",
       "      (dropout): Dropout(p=0.2, inplace=False)\n",
       "    )\n",
       "  )\n",
       "  (C2): Sequential(\n",
       "    (0): Conv1d(512, 512, kernel_size=(87,), stride=(1,), padding=(86,), dilation=(2,), groups=512, bias=False)\n",
       "    (1): Conv1d(512, 512, kernel_size=(1,), stride=(1,), bias=False)\n",
       "    (2): BatchNorm1d(512, eps=0.001, momentum=0.1, affine=True, track_running_stats=True)\n",
       "    (3): ReLU()\n",
       "    (4): Dropout(p=0.2, inplace=False)\n",
       "  )\n",
       "  (C3): Sequential(\n",
       "    (0): Conv1d(512, 1024, kernel_size=(1,), stride=(1,), bias=False)\n",
       "    (1): BatchNorm1d(1024, eps=0.001, momentum=0.1, affine=True, track_running_stats=True)\n",
       "    (2): ReLU()\n",
       "    (3): Dropout(p=0.2, inplace=False)\n",
       "  )\n",
       "  (C4): Conv1d(1024, 34, kernel_size=(1,), stride=(1,))\n",
       ")"
      ]
     },
     "execution_count": 56,
     "metadata": {},
     "output_type": "execute_result"
    }
   ],
   "source": [
    "model.eval()"
   ]
  },
  {
   "cell_type": "code",
   "execution_count": 57,
   "id": "cd55ba01-e983-43b7-b984-33f3b997eeef",
   "metadata": {
    "colab": {
     "base_uri": "https://localhost:8080/",
     "height": 144
    },
    "id": "cd55ba01-e983-43b7-b984-33f3b997eeef",
    "outputId": "8b217526-0f10-4409-eab6-e0a91d68e685",
    "tags": []
   },
   "outputs": [],
   "source": [
    "torch.save(model, \"quartznet/quartznet_5x5_667.model\")"
   ]
  },
  {
   "cell_type": "code",
   "execution_count": 53,
   "id": "113115ae-ab09-4052-af12-a5b2b5a313b7",
   "metadata": {},
   "outputs": [],
   "source": [
    "checkpoint = torch.load(os.path.join(\"quartznet\", f\"model_last_667.checkpoint\"))"
   ]
  },
  {
   "cell_type": "code",
   "execution_count": 54,
   "id": "fe5ec454-df6c-4ceb-82bc-e371974a6189",
   "metadata": {},
   "outputs": [
    {
     "data": {
      "text/plain": [
       "<All keys matched successfully>"
      ]
     },
     "execution_count": 54,
     "metadata": {},
     "output_type": "execute_result"
    }
   ],
   "source": [
    "model.load_state_dict(checkpoint['model_state_dict'])"
   ]
  },
  {
   "cell_type": "code",
   "execution_count": 69,
   "id": "656348e9-3511-4461-8d59-1b41cb71128a",
   "metadata": {
    "id": "656348e9-3511-4461-8d59-1b41cb71128a"
   },
   "outputs": [],
   "source": [
    "ind = 3\n",
    "melspecs = test_dataset[ind][\"melspec\"]\n",
    "texts = test_dataset[ind][\"text\"]\n",
    "input_lengths = test_dataset[ind][\"input_length\"]\n",
    "label_lengths = test_dataset[ind][\"label_length\"]"
   ]
  },
  {
   "cell_type": "code",
   "execution_count": 59,
   "id": "d362a3f2-5f33-47c4-bd97-feeb2d292dc3",
   "metadata": {
    "id": "d362a3f2-5f33-47c4-bd97-feeb2d292dc3",
    "tags": []
   },
   "outputs": [],
   "source": [
    "ind = 30\n",
    "melspecs = train_dataset[ind][\"melspec\"]\n",
    "texts = train_dataset[ind][\"text\"]\n",
    "input_lengths = train_dataset[ind][\"input_length\"]\n",
    "label_lengths = train_dataset[ind][\"label_length\"]"
   ]
  },
  {
   "cell_type": "code",
   "execution_count": 60,
   "id": "f5ab4858-69c5-427f-bdbd-23bbbec1199f",
   "metadata": {
    "id": "f5ab4858-69c5-427f-bdbd-23bbbec1199f",
    "outputId": "b831a3f9-2ff1-4890-c532-f42081789d58",
    "tags": []
   },
   "outputs": [
    {
     "data": {
      "text/plain": [
       "torch.Size([1, 146, 34])"
      ]
     },
     "execution_count": 60,
     "metadata": {},
     "output_type": "execute_result"
    }
   ],
   "source": [
    "output = model(melspecs.to(device).unsqueeze(0)).permute(2, 0, 1)\n",
    "output = F.log_softmax(output, dim=2)\n",
    "output = output.permute(1, 0, 2)\n",
    "output.shape"
   ]
  },
  {
   "cell_type": "code",
   "execution_count": 61,
   "id": "1090e1bc-37ce-4074-a49c-7cc165d0a10c",
   "metadata": {
    "id": "1090e1bc-37ce-4074-a49c-7cc165d0a10c",
    "outputId": "a9f61018-2e78-4ee9-a4eb-f566890359ce",
    "tags": []
   },
   "outputs": [
    {
     "data": {
      "text/plain": [
       "'марина федоровна'"
      ]
     },
     "execution_count": 61,
     "metadata": {},
     "output_type": "execute_result"
    }
   ],
   "source": [
    "\"\".join([int_to_char[i] for i in texts.cpu().numpy().tolist()])"
   ]
  },
  {
   "cell_type": "code",
   "execution_count": 62,
   "id": "1de50f56-f115-4d68-9991-0e5d4b8a0902",
   "metadata": {
    "id": "1de50f56-f115-4d68-9991-0e5d4b8a0902",
    "outputId": "5e6c3c7d-f7ec-46f1-e8b3-4b245a1eb9c2",
    "tags": []
   },
   "outputs": [
    {
     "data": {
      "text/plain": [
       "<matplotlib.image.AxesImage at 0x1f8d32aa4d0>"
      ]
     },
     "execution_count": 62,
     "metadata": {},
     "output_type": "execute_result"
    },
    {
     "data": {
      "image/png": "[encoded data removed]",
      "text/plain": [
       "<Figure size 1200x400 with 1 Axes>"
      ]
     },
     "metadata": {},
     "output_type": "display_data"
    }
   ],
   "source": [
    "plt.figure(figsize=(12, 4))\n",
    "plt.imshow(melspecs.numpy(), aspect=\"auto\", origin=\"lower\", interpolation=\"none\")"
   ]
  },
  {
   "cell_type": "code",
   "execution_count": 63,
   "id": "98b544ac-7230-4b50-b0e3-25ce75a1a3e0",
   "metadata": {
    "id": "98b544ac-7230-4b50-b0e3-25ce75a1a3e0",
    "outputId": "b433e537-9c7a-4f1e-cc9f-4676fbb5005b",
    "tags": []
   },
   "outputs": [
    {
     "data": {
      "text/plain": [
       "'$$$$$$$$$$$$$$$$$$$$$$$$$$$$$$$$$$$$$$$$$$$$$$$$$$$$$$$$$$$$$$$$ммаа$$$рр$и$$$нн$а$$$$ $$$с$$е$$$$$д$оо$рооовввннна$$$$$$$$$$$$$$$$$$$$$$$$$$$$$$$'"
      ]
     },
     "execution_count": 63,
     "metadata": {},
     "output_type": "execute_result"
    }
   ],
   "source": [
    "\"\".join(\n",
    "    [int_to_char.get(i, \"$\") for i in output.argmax(dim=2).cpu().numpy().tolist()[0]]\n",
    ")"
   ]
  },
  {
   "cell_type": "code",
   "execution_count": 64,
   "id": "1a2f17ce-d998-407d-b56a-18d243d21289",
   "metadata": {
    "id": "98b544ac-7230-4b50-b0e3-25ce75a1a3e0",
    "outputId": "b433e537-9c7a-4f1e-cc9f-4676fbb5005b",
    "tags": []
   },
   "outputs": [
    {
     "data": {
      "text/plain": [
       "'ммаарринна седоорооовввннна'"
      ]
     },
     "execution_count": 64,
     "metadata": {},
     "output_type": "execute_result"
    }
   ],
   "source": [
    "\"\".join(\n",
    "    [int_to_char.get(i, \"\") for i in output.argmax(dim=2).cpu().numpy().tolist()[0]]\n",
    ")"
   ]
  },
  {
   "cell_type": "code",
   "execution_count": 65,
   "id": "34ef3809-c5f3-4c66-844d-8a2d0d92039e",
   "metadata": {},
   "outputs": [
    {
     "name": "stdout",
     "output_type": "stream",
     "text": [
      "2024-04-06 01:04:39,348 - root - INFO - 6813: курс тысяч казахских тенге к английскому фунту на сегодня\n",
      "ккурррсь  ттыыссяячччи  поззаххсскиххх   пеннге каннлийскомму  фундув  на ссеггодддння\n",
      "2024-04-06 01:04:39,445 - root - INFO - 2947: у тебя в запасе есть спасти санту\n",
      "у  ттееббяя вв  ззаппассее    есстттьь   пасстисаант\n",
      "2024-04-06 01:04:39,496 - root - INFO - 2899: фэнтези\n",
      "файктззии\n",
      "2024-04-06 01:04:39,561 - root - INFO - 8494: киношка люди в черном три покажи\n",
      "кииноошка  любивчоррнном трри  ппокажиии\n",
      "2024-04-06 01:04:39,616 - root - INFO - 2685: покажи мне встречу апл манчестер против манчестер сити\n",
      "пппокажи  ммнее всстрреччу  апплллл   ммааннчеесссттеерр  ппрооттиввв мманннччеесссттеерр сситии\n",
      "2024-04-06 01:04:39,678 - root - INFO - 2099: музыка ютуб\n",
      "ммозыкаа ютубб\n",
      "2024-04-06 01:04:39,736 - root - INFO - 1518: джой запиши меня к терапевту на понедельник\n",
      "ддджжоййй   зааппееше меення ктееррпетта на  понденик\n",
      "2024-04-06 01:04:39,789 - root - INFO - 9437: севак ханагян на ютюбе\n",
      "фивоокмаге  ннаа   ююютттюббеее\n",
      "2024-04-06 01:04:39,846 - root - INFO - 6363: сезон один сериала сабрина маленькая ведьма\n",
      "ссееззоонннн  ооддиинннн  ссеерррииаааалллллаа   с апрриноо  ммаленнкая ветьва\n",
      "2024-04-06 01:04:39,907 - root - INFO - 820: люди как мы можешь включить\n",
      "ллудикауткман можешьь ввкллююччиитььь\n"
     ]
    }
   ],
   "source": [
    "model.eval()\n",
    "for ind in np.random.randint(0, len(test_dataset), size=10):\n",
    "    melspecs = test_dataset[ind][\"melspec\"]\n",
    "    texts = test_dataset[ind][\"text\"]\n",
    "    input_lengths = test_dataset[ind][\"input_length\"]\n",
    "    label_lengths = test_dataset[ind][\"label_length\"]\n",
    "\n",
    "    output = model(melspecs.unsqueeze(0).to(device)).permute(2, 0, 1)\n",
    "    output = F.log_softmax(output, dim=2)\n",
    "    output = output.permute(1, 0, 2)\n",
    "\n",
    "    original_text = \"\".join([int_to_char[i] for i in texts.cpu().numpy().tolist()])\n",
    "\n",
    "    predicted_text = \"\".join(\n",
    "        [int_to_char.get(i, \"\") for i in output.argmax(dim=2).cpu().numpy().tolist()[0]]\n",
    "    )\n",
    "\n",
    "    logging.info(f'{ind}: {original_text}\\n{predicted_text}')"
   ]
  },
  {
   "cell_type": "code",
   "execution_count": 66,
   "id": "0572cecc-341a-4f55-90ee-a5da1e8bd865",
   "metadata": {},
   "outputs": [
    {
     "name": "stdout",
     "output_type": "stream",
     "text": [
      "2024-04-06 01:06:46,237 - root - INFO - 1074: где находится девять акров\n",
      "ггдде  нахходдииттссяя  деввячкка\n",
      "2024-04-06 01:06:46,290 - root - INFO - 4670: включи биг бэнг\n",
      "ввкклллюччии  бегданк\n",
      "2024-04-06 01:06:46,343 - root - INFO - 3550: хочу на телевизоре канал амедиа один\n",
      "чуу ннаа   ттеелллеевввииззоорррее  ккканнааллл  амеегииодиинн\n",
      "2024-04-06 01:06:46,391 - root - INFO - 9637: вилюйске\n",
      "ввилевойсске\n",
      "2024-04-06 01:06:46,424 - root - INFO - 9192: поиск любимые команды манчестер юнайтед матчи\n",
      "ожжа крлюббиемный  ккооммаада   мманннччеееттерр    юююннайййттеедд   маати\n",
      "2024-04-06 01:06:46,477 - root - INFO - 2019: джой долгота измайловский парк\n",
      "дджжжооййй  далнаа  изнаасипа\n",
      "2024-04-06 01:06:46,537 - root - INFO - 4549: давайте втроем\n",
      "довааййки  тровеем\n",
      "2024-04-06 01:06:46,586 - root - INFO - 607: найти лучшие фильмы жанра драма\n",
      "ннайййттии    ллллуучччшшшииее  фффиилльььммыыы    жжаанннрррааа   дррааммаа\n",
      "2024-04-06 01:06:46,632 - root - INFO - 11494: сбер следующая\n",
      "ссбберрр  ссеб\n",
      "2024-04-06 01:06:46,679 - root - INFO - 6469: выведи мне падение последней империи ультра эйч ди\n",
      "ввыывведии  ммнннее  подеьнни  послледдни  перриутрроч\n"
     ]
    }
   ],
   "source": [
    "model.eval()\n",
    "for ind in np.random.randint(0, len(test_dataset), size=10):\n",
    "    melspecs = test_dataset[ind][\"melspec\"]\n",
    "    texts = test_dataset[ind][\"text\"]\n",
    "    input_lengths = test_dataset[ind][\"input_length\"]\n",
    "    label_lengths = test_dataset[ind][\"label_length\"]\n",
    "\n",
    "    output = model(melspecs.unsqueeze(0).to(device)).permute(2, 0, 1)\n",
    "    output = F.log_softmax(output, dim=2)\n",
    "    output = output.permute(1, 0, 2)\n",
    "\n",
    "    original_text = \"\".join([int_to_char[i] for i in texts.cpu().numpy().tolist()])\n",
    "\n",
    "    predicted_text = \"\".join(\n",
    "        [int_to_char.get(i, \"\") for i in output.argmax(dim=2).cpu().numpy().tolist()[0]]\n",
    "    )\n",
    "\n",
    "    logging.info(f'{ind}: {original_text}\\n{predicted_text}')"
   ]
  },
  {
   "cell_type": "code",
   "execution_count": null,
   "id": "d35273c3-ebcf-4e75-b434-61e70e9e6c48",
   "metadata": {
    "id": "d35273c3-ebcf-4e75-b434-61e70e9e6c48"
   },
   "outputs": [],
   "source": []
  }
 ],
 "metadata": {
  "colab": {
   "provenance": []
  },
  "kernelspec": {
   "display_name": "Python 3 (ipykernel)",
   "language": "python",
   "name": "python3"
  },
  "language_info": {
   "codemirror_mode": {
    "name": "ipython",
    "version": 3
   },
   "file_extension": ".py",
   "mimetype": "text/x-python",
   "name": "python",
   "nbconvert_exporter": "python",
   "pygments_lexer": "ipython3",
   "version": "3.11.4"
  }
 },
 "nbformat": 4,
 "nbformat_minor": 5
}