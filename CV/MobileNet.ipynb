{
 "cells": [
  {
   "cell_type": "markdown",
   "id": "d206d82b-85db-422d-8a8c-2dab0735109b",
   "metadata": {},
   "source": [
    "# Import"
   ]
  },
  {
   "cell_type": "code",
   "execution_count": 1,
   "id": "8f4833de-ac80-41a5-b4d5-22a628c34d48",
   "metadata": {},
   "outputs": [],
   "source": [
    "import torch\n",
    "import torch.nn as nn\n",
    "from torch.utils.data import DataLoader, WeightedRandomSampler\n",
    "\n",
    "import torchvision.transforms as transforms\n",
    "from torchvision.datasets import ImageFolder\n",
    "from torchvision.utils import make_grid\n",
    "\n",
    "import pytorch_lightning as pl\n",
    "from torchmetrics import F1Score\n",
    "from torchmetrics import MetricCollection\n",
    "\n",
    "import numpy as np\n",
    "import pandas as pd\n",
    "import seaborn as sns\n",
    "import matplotlib.pyplot as plt\n",
    "\n",
    "import multiprocessing\n",
    "from tqdm import tqdm"
   ]
  },
  {
   "cell_type": "code",
   "execution_count": 2,
   "id": "98940772-2e25-46b2-beb5-384f1726370b",
   "metadata": {},
   "outputs": [],
   "source": [
    "# multiprocessing.set_start_method('fork')"
   ]
  },
  {
   "cell_type": "code",
   "execution_count": 3,
   "id": "c37cc4ce-f4f5-44d6-bb4a-48df71278069",
   "metadata": {},
   "outputs": [
    {
     "name": "stderr",
     "output_type": "stream",
     "text": [
      "Seed set to 42\n"
     ]
    },
    {
     "data": {
      "text/plain": [
       "42"
      ]
     },
     "execution_count": 3,
     "metadata": {},
     "output_type": "execute_result"
    }
   ],
   "source": [
    "pl.seed_everything(seed=42)"
   ]
  },
  {
   "cell_type": "code",
   "execution_count": 4,
   "id": "74531753-b08c-4aca-908d-d1334c26c509",
   "metadata": {},
   "outputs": [],
   "source": [
    "def count_parameters(model):\n",
    "    return sum(p.numel() for p in model.parameters() if p.requires_grad)"
   ]
  },
  {
   "cell_type": "markdown",
   "id": "1ed38517-d852-4433-8b3e-d785afa1b166",
   "metadata": {},
   "source": [
    "# MobileNetV1"
   ]
  },
  {
   "cell_type": "code",
   "execution_count": 5,
   "id": "f0de0c71-e89e-4a12-8ea7-8afbbbb8f3c4",
   "metadata": {},
   "outputs": [],
   "source": [
    "class DepthwiseSeparableConvBlock(nn.Module):\n",
    "    def __init__(\n",
    "        self,\n",
    "        in_channels: int,\n",
    "        out_channels: int,\n",
    "        stride: int,\n",
    "    ):\n",
    "        super().__init__()\n",
    "        self.in_channels = in_channels\n",
    "\n",
    "        self.conv = nn.Sequential(\n",
    "            nn.Conv2d(\n",
    "                in_channels=in_channels,\n",
    "                out_channels=in_channels,\n",
    "                kernel_size=(3, 3),\n",
    "                padding=1,\n",
    "                stride=stride,\n",
    "                groups=in_channels,\n",
    "                bias=False,\n",
    "            ),\n",
    "            nn.BatchNorm2d(num_features=in_channels),\n",
    "            nn.ReLU(),\n",
    "            nn.Conv2d(\n",
    "                in_channels=in_channels,\n",
    "                out_channels=out_channels,\n",
    "                kernel_size=(1, 1),\n",
    "                stride=1,\n",
    "                bias=False,\n",
    "            ),\n",
    "            nn.BatchNorm2d(num_features=out_channels),\n",
    "            nn.ReLU(),\n",
    "        )\n",
    "\n",
    "    def forward(self, x: torch.Tensor) -> torch.Tensor:\n",
    "        return self.conv(x)"
   ]
  },
  {
   "cell_type": "code",
   "execution_count": 6,
   "id": "aa7f5625-86c7-4434-96eb-5507a5ee46a1",
   "metadata": {},
   "outputs": [],
   "source": [
    "class MobileNetV1(nn.Module):\n",
    "    def __init__(\n",
    "        self,\n",
    "        in_channels: int,\n",
    "        num_classes: int,\n",
    "        depth_multiplier: float = 1.0,\n",
    "        resolution_multiplier: float = 1.0,\n",
    "    ):\n",
    "        super().__init__()\n",
    "        self.depth_multiplier = depth_multiplier\n",
    "        self.resolution_multiplier = resolution_multiplier\n",
    "        \n",
    "        self.conv_1 = nn.Sequential(\n",
    "            nn.Conv2d(\n",
    "                in_channels=in_channels,\n",
    "                out_channels=int(32 * self.depth_multiplier),\n",
    "                kernel_size=(3, 3),\n",
    "                padding=1,\n",
    "                stride=2,\n",
    "            ),\n",
    "        )\n",
    "\n",
    "        # (in_channels, out_channels, stride)\n",
    "        config = (\n",
    "            (32, 64, 1),\n",
    "            (64, 128, 2),\n",
    "            (128, 128, 1),\n",
    "            (128, 256, 2),\n",
    "            (256, 256, 1),\n",
    "            (256, 512, 2),\n",
    "            (512, 512, 1),\n",
    "            (512, 512, 1),\n",
    "            (512, 512, 1),\n",
    "            (512, 512, 1),\n",
    "            (512, 512, 1),\n",
    "            (512, 1024, 2),\n",
    "            (1024, 1024, 1),\n",
    "        )\n",
    "\n",
    "        depthwise_blocks = []\n",
    "        for in_channels, out_channels, stride in config:\n",
    "            depthwise_blocks.append(\n",
    "                DepthwiseSeparableConvBlock(\n",
    "                    in_channels=int(in_channels * self.depth_multiplier),\n",
    "                    out_channels=int(out_channels * self.depth_multiplier),\n",
    "                    stride=stride,\n",
    "                )\n",
    "            )\n",
    "        self.depthwise_blocks = nn.Sequential(*depthwise_blocks)\n",
    "        self.avg_pool = nn.Sequential(\n",
    "            nn.AdaptiveAvgPool2d(1),\n",
    "            nn.Flatten(1),\n",
    "        )\n",
    "        self.classifier = nn.Sequential(\n",
    "            nn.Linear(\n",
    "                in_features=int(1024 * self.depth_multiplier),\n",
    "                out_features=num_classes,\n",
    "            )\n",
    "        )\n",
    "\n",
    "    def forward(self, x: torch.Tensor) -> torch.Tensor:\n",
    "        out = self.conv_1(x)\n",
    "        out = self.depthwise_blocks(out)\n",
    "        out = self.avg_pool(out)\n",
    "        out = self.classifier(out)\n",
    "        return out"
   ]
  },
  {
   "cell_type": "code",
   "execution_count": 7,
   "id": "a9706e0e-2925-4e19-80ed-37e2fa6577e8",
   "metadata": {},
   "outputs": [],
   "source": [
    "model = MobileNetV1(\n",
    "    in_channels=3,\n",
    "    num_classes=1_000,\n",
    "    depth_multiplier=0.75,\n",
    "    resolution_multiplier=1.0,\n",
    ")"
   ]
  },
  {
   "cell_type": "code",
   "execution_count": 8,
   "id": "f95fe8cc-60cc-4535-8d00-6a1d086037cc",
   "metadata": {},
   "outputs": [
    {
     "data": {
      "text/plain": [
       "torch.Size([32, 1000])"
      ]
     },
     "execution_count": 8,
     "metadata": {},
     "output_type": "execute_result"
    }
   ],
   "source": [
    "model(torch.randn(32, 3, 224, 224)).shape"
   ]
  },
  {
   "cell_type": "code",
   "execution_count": 9,
   "id": "4b1ece66-983d-4393-aea9-b75d9df94b27",
   "metadata": {},
   "outputs": [
    {
     "name": "stdout",
     "output_type": "stream",
     "text": [
      "The model has 2,585,536 trainable parameters\n"
     ]
    }
   ],
   "source": [
    "print(f'The model has {count_parameters(model):,} trainable parameters')"
   ]
  },
  {
   "cell_type": "markdown",
   "id": "87cb7f96-ba36-422f-99d6-759eac852e01",
   "metadata": {},
   "source": [
    "# MobileNetV2"
   ]
  },
  {
   "cell_type": "code",
   "execution_count": 10,
   "id": "45bde00d-a3a1-4ded-85f5-c155dd670c8e",
   "metadata": {},
   "outputs": [],
   "source": [
    "class InvertedResidualBlock(nn.Module):\n",
    "    def __init__(\n",
    "        self,\n",
    "        in_channels: int,\n",
    "        out_channels: int,\n",
    "        stride: int,\n",
    "        expansion_factor: int = 6,\n",
    "    ):\n",
    "        super().__init__()\n",
    "\n",
    "        self.in_channels = in_channels\n",
    "        self.out_channels = out_channels\n",
    "        self.stride = stride\n",
    "        \n",
    "        hid_channels: int = int(in_channels * expansion_factor)\n",
    "\n",
    "        if in_channels == hid_channels:\n",
    "            self.pointwise_conv_1 = nn.Sequential(nn.Identity())\n",
    "        else:\n",
    "            self.pointwise_conv_1 = nn.Sequential(\n",
    "                nn.Conv2d(\n",
    "                    in_channels=in_channels,\n",
    "                    out_channels=hid_channels,\n",
    "                    kernel_size=(1, 1),\n",
    "                    stride=1,\n",
    "                    bias=False,\n",
    "                ),\n",
    "                nn.BatchNorm2d(hid_channels),\n",
    "                nn.ReLU6(inplace=True),\n",
    "            )\n",
    "        self.depthwise_conv = nn.Sequential(\n",
    "            nn.Conv2d(\n",
    "                in_channels=hid_channels,\n",
    "                out_channels=hid_channels,\n",
    "                kernel_size=(3, 3),\n",
    "                padding=1,\n",
    "                stride=stride,\n",
    "                groups=hid_channels,\n",
    "                bias=False,\n",
    "            ),\n",
    "            nn.BatchNorm2d(hid_channels),\n",
    "            nn.ReLU6(inplace=True),\n",
    "        )\n",
    "        self.pointwise_conv_2 = nn.Sequential(\n",
    "            nn.Conv2d(\n",
    "                in_channels=hid_channels,\n",
    "                out_channels=out_channels,\n",
    "                kernel_size=(1, 1),\n",
    "                stride=1,\n",
    "                bias=False,\n",
    "            ),\n",
    "            nn.BatchNorm2d(out_channels),\n",
    "        )\n",
    "\n",
    "        self.residual = (stride == 1) and (in_channels == out_channels)\n",
    "\n",
    "    def forward(self, x: torch.Tensor) -> torch.Tensor:\n",
    "        out = self.pointwise_conv_1(x)\n",
    "        out = self.depthwise_conv(out)\n",
    "        out = self.pointwise_conv_2(out)\n",
    "\n",
    "        if self.residual:\n",
    "            return out + x\n",
    "        return out"
   ]
  },
  {
   "cell_type": "code",
   "execution_count": 11,
   "id": "08531c68-5fd2-4e6d-93bd-ddfc718b94fa",
   "metadata": {},
   "outputs": [],
   "source": [
    "class MobileNetV2(nn.Module):\n",
    "    def __init__(\n",
    "        self,\n",
    "        in_channels: int,\n",
    "        num_classes: int,\n",
    "    ):\n",
    "        super().__init__()\n",
    "\n",
    "        # in_channels, expansion_factor, out_channels, repeated, stride\n",
    "        config = (\n",
    "            (32, 1, 16, 1, 1),\n",
    "            (16, 6, 24, 2, 2),\n",
    "            (24, 6, 32, 3, 2),\n",
    "            (32, 6, 64, 4, 2),\n",
    "            (64, 6, 96, 3, 1),\n",
    "            (96, 6, 160, 3, 2),\n",
    "            (160, 6, 320, 1, 1),\n",
    "        )\n",
    "\n",
    "        self.conv_1 = nn.Sequential(\n",
    "            nn.Conv2d(\n",
    "                in_channels=in_channels,\n",
    "                out_channels=32,\n",
    "                kernel_size=(3, 3),\n",
    "                stride=2,\n",
    "                padding=1,\n",
    "                bias=False,\n",
    "            ),\n",
    "            nn.BatchNorm2d(32),\n",
    "            nn.ReLU6(inplace=True),\n",
    "        )\n",
    "\n",
    "        self.bottlenecks = nn.ModuleList([])\n",
    "        for in_channels, exp_factor, out_channels, repeat, stride in config:\n",
    "            bottleneck = []\n",
    "            # The first layer of each sequence has a stride 's' and all others use stride 1\n",
    "            for r in range(repeat):\n",
    "                bottleneck.append(\n",
    "                    InvertedResidualBlock(\n",
    "                        in_channels=in_channels,\n",
    "                        out_channels=out_channels,\n",
    "                        stride=stride,\n",
    "                        expansion_factor=exp_factor,\n",
    "                    )\n",
    "                )\n",
    "                in_channels = out_channels\n",
    "                stride = 1\n",
    "            \n",
    "            self.bottlenecks.append(nn.Sequential(*bottleneck))\n",
    "\n",
    "        self.conv_2 = nn.Sequential(\n",
    "            nn.Conv2d(\n",
    "                in_channels=320,\n",
    "                out_channels=1280,\n",
    "                kernel_size=(1, 1),\n",
    "                stride=1,\n",
    "                padding=0,\n",
    "                bias=False,\n",
    "            ),\n",
    "            nn.BatchNorm2d(1280),\n",
    "            nn.ReLU6(inplace=True),\n",
    "        )\n",
    "\n",
    "        self.avg_pool = nn.Sequential(\n",
    "            nn.AdaptiveAvgPool2d(1),\n",
    "            nn.Flatten(start_dim=1),\n",
    "        )\n",
    "\n",
    "        self.classifier = nn.Sequential(\n",
    "            nn.Dropout(p=0.2),\n",
    "            nn.Linear(\n",
    "                in_features=1280,\n",
    "                out_features=num_classes,\n",
    "            )\n",
    "        )\n",
    "\n",
    "    def forward(self, x: torch.Tensor) -> torch.Tensor:\n",
    "        out = self.conv_1(x)\n",
    "        \n",
    "        for block in self.bottlenecks:\n",
    "            out = block(out)\n",
    "\n",
    "        out = self.conv_2(out)\n",
    "        out = self.avg_pool(out)\n",
    "        out = self.classifier(out)\n",
    "        \n",
    "        return out"
   ]
  },
  {
   "cell_type": "code",
   "execution_count": 12,
   "id": "d1ee5cc4-84eb-45c8-af51-c7d68c5034e3",
   "metadata": {},
   "outputs": [],
   "source": [
    "mobile_net_v2 = MobileNetV2(\n",
    "    in_channels=3,\n",
    "    num_classes=1000,\n",
    ")"
   ]
  },
  {
   "cell_type": "code",
   "execution_count": 13,
   "id": "af01591c-1659-44e7-8f9c-477ffd8d7b0f",
   "metadata": {},
   "outputs": [
    {
     "name": "stdout",
     "output_type": "stream",
     "text": [
      "The model has 3,504,872 trainable parameters\n"
     ]
    }
   ],
   "source": [
    "print(f'The model has {count_parameters(mobile_net_v2):,} trainable parameters')"
   ]
  },
  {
   "cell_type": "code",
   "execution_count": 14,
   "id": "90f980fb-df1e-4134-ba58-fc23864cd279",
   "metadata": {},
   "outputs": [
    {
     "data": {
      "text/plain": [
       "torch.Size([32, 1000])"
      ]
     },
     "execution_count": 14,
     "metadata": {},
     "output_type": "execute_result"
    }
   ],
   "source": [
    "mobile_net_v2(torch.randn(32, 3, 224, 224)).shape"
   ]
  },
  {
   "cell_type": "markdown",
   "id": "888cf252-cdb2-48fa-a1cf-1c5551cdbeb2",
   "metadata": {},
   "source": [
    "# Competition"
   ]
  },
  {
   "cell_type": "markdown",
   "id": "a2e0e48e-1e5f-46af-b747-cc859defd543",
   "metadata": {},
   "source": [
    "https://www.kaggle.com/competitions/journey-springfield/"
   ]
  },
  {
   "cell_type": "markdown",
   "id": "bb7ad84d-36fe-43be-b568-1fe81f82a50e",
   "metadata": {},
   "source": [
    "## Transforms"
   ]
  },
  {
   "cell_type": "code",
   "execution_count": 15,
   "id": "781a6994-1a40-4221-934e-d5d8b0da83a2",
   "metadata": {},
   "outputs": [],
   "source": [
    "train_transform = transforms.Compose([\n",
    "    transforms.Resize((224, 224)),\n",
    "    transforms.ColorJitter(brightness=(0.6, 1.5), contrast=(0.6, 1.5)),\n",
    "    transforms.GaussianBlur(3),\n",
    "    transforms.RandomRotation((-60, 60)),\n",
    "    transforms.RandomHorizontalFlip(p=0.5),\n",
    "    transforms.RandomResizedCrop(size=224, scale=(0.8, 1.0), ratio=(0.75, 1.33)),\n",
    "    transforms.ToTensor(),\n",
    "])\n",
    "\n",
    "val_transform = transforms.Compose([\n",
    "    transforms.Resize((224, 224)),\n",
    "    transforms.ToTensor(),\n",
    "])"
   ]
  },
  {
   "cell_type": "markdown",
   "id": "db7128bc-f555-4abc-9127-7cf8728ddc10",
   "metadata": {},
   "source": [
    "## Data load"
   ]
  },
  {
   "cell_type": "code",
   "execution_count": 16,
   "id": "1c74fc2a-df20-4cab-8e63-6c1709b707d6",
   "metadata": {},
   "outputs": [],
   "source": [
    "train_dataset = ImageFolder('~/Downloads/journey-springfield/train/simpsons_dataset')\n",
    "test_dataset = ImageFolder('~/Downloads/journey-springfield/testset')"
   ]
  },
  {
   "cell_type": "code",
   "execution_count": 17,
   "id": "07abb918-2a08-41ff-9835-fe8b83c37a2a",
   "metadata": {},
   "outputs": [],
   "source": [
    "train_size = int(len(train_dataset) * 0.75)\n",
    "val_size = len(train_dataset) - train_size\n",
    "\n",
    "train_dataset, val_dataset = torch.utils.data.random_split(train_dataset, [train_size, val_size])"
   ]
  },
  {
   "cell_type": "code",
   "execution_count": 18,
   "id": "ee4dc069-c209-46f8-920b-458eed7a3f89",
   "metadata": {},
   "outputs": [],
   "source": [
    "train_dataset.dataset.transform = train_transform\n",
    "val_dataset.dataset.transform = train_transform\n",
    "\n",
    "test_dataset.transform = val_transform"
   ]
  },
  {
   "cell_type": "code",
   "execution_count": 19,
   "id": "43b04bcb-a42f-41da-a51c-171909d976db",
   "metadata": {},
   "outputs": [],
   "source": [
    "train_dataset.dataset.transforms"
   ]
  },
  {
   "cell_type": "code",
   "execution_count": 20,
   "id": "e542fc93-d1ea-43b1-968f-59b24c34f8f6",
   "metadata": {},
   "outputs": [],
   "source": [
    "classes = [sample[1] for sample in train_dataset.dataset.samples]"
   ]
  },
  {
   "cell_type": "code",
   "execution_count": 21,
   "id": "44f7c6fa-28b8-43bf-a61d-16f79656f30d",
   "metadata": {},
   "outputs": [
    {
     "data": {
      "text/plain": [
       "<Axes: ylabel='Count'>"
      ]
     },
     "execution_count": 21,
     "metadata": {},
     "output_type": "execute_result"
    },
    {
     "data": {
      "image/png": "[encoded data removed]",
      "text/plain": [
       "<Figure size 640x480 with 1 Axes>"
      ]
     },
     "metadata": {},
     "output_type": "display_data"
    }
   ],
   "source": [
    "sns.histplot(x=classes)"
   ]
  },
  {
   "cell_type": "code",
   "execution_count": 22,
   "id": "b073552f-51bc-4ef0-8e96-2a1669038ca7",
   "metadata": {},
   "outputs": [],
   "source": [
    "class_dist = pd.Series(classes).value_counts()\n",
    "\n",
    "weights = 1 / class_dist.values\n",
    "class_weights = dict(zip(class_dist.index, weights))\n",
    "\n",
    "sample_weights = [class_weights[train_dataset.dataset[ind][1]] for ind in train_dataset.indices]"
   ]
  },
  {
   "cell_type": "code",
   "execution_count": 23,
   "id": "8b935d89-97f0-4347-b6c4-3f51053be642",
   "metadata": {},
   "outputs": [],
   "source": [
    "sampler = WeightedRandomSampler(weights=sample_weights, num_samples=len(train_dataset), replacement=True)"
   ]
  },
  {
   "cell_type": "code",
   "execution_count": 24,
   "id": "99a9c27b-b0d5-44a1-a7d6-c20560cde728",
   "metadata": {},
   "outputs": [],
   "source": [
    "batch_size: int = 32\n",
    "\n",
    "train_loader = DataLoader(\n",
    "    train_dataset,\n",
    "    batch_size=batch_size,\n",
    "    sampler=sampler,\n",
    "    num_workers=8,\n",
    "    persistent_workers=True,\n",
    "    pin_memory=True,\n",
    ")\n",
    "val_loader = DataLoader(\n",
    "    val_dataset,\n",
    "    batch_size=batch_size,\n",
    "    shuffle=False,\n",
    "    num_workers=8,\n",
    "    persistent_workers=True,\n",
    "    pin_memory=True,\n",
    ")\n",
    "test_loader = DataLoader(\n",
    "    test_dataset,\n",
    "    batch_size=batch_size,\n",
    "    shuffle=False,\n",
    "    num_workers=8,\n",
    "    persistent_workers=True,\n",
    "    pin_memory=True,\n",
    ")"
   ]
  },
  {
   "cell_type": "code",
   "execution_count": 25,
   "id": "4693ec17-2cfc-446d-b7c3-76c6ea34074f",
   "metadata": {},
   "outputs": [
    {
     "data": {
      "text/plain": [
       "(15699, 491, 15699)"
      ]
     },
     "execution_count": 25,
     "metadata": {},
     "output_type": "execute_result"
    }
   ],
   "source": [
    "len(train_dataset), len(train_loader), len(sample_weights)"
   ]
  },
  {
   "cell_type": "code",
   "execution_count": 26,
   "id": "6d598d28-f1c6-41e8-8d18-43b6296788c3",
   "metadata": {},
   "outputs": [
    {
     "name": "stderr",
     "output_type": "stream",
     "text": [
      "100%|███████████████████████████████████████████████████████████████████████████████████████████████████████████████████████| 491/491 [00:28<00:00, 16.97it/s]\n"
     ]
    }
   ],
   "source": [
    "targets = []\n",
    "for batch in tqdm(train_loader):\n",
    "    img, target = batch[0], batch[1]\n",
    "    targets += target.detach().numpy().tolist()\n",
    "    # print(img.shape, model(img).shape)\n",
    "    # break"
   ]
  },
  {
   "cell_type": "code",
   "execution_count": 27,
   "id": "22742a80-9c80-4651-813c-2f053db64a62",
   "metadata": {},
   "outputs": [
    {
     "data": {
      "text/plain": [
       "<Axes: ylabel='Count'>"
      ]
     },
     "execution_count": 27,
     "metadata": {},
     "output_type": "execute_result"
    },
    {
     "data": {
      "image/png": "[encoded data removed]",
      "text/plain": [
       "<Figure size 640x480 with 1 Axes>"
      ]
     },
     "metadata": {},
     "output_type": "display_data"
    }
   ],
   "source": [
    "sns.histplot(x=targets)"
   ]
  },
  {
   "cell_type": "code",
   "execution_count": 28,
   "id": "f3a41a93-efda-4909-ba7d-13510b529546",
   "metadata": {},
   "outputs": [
    {
     "data": {
      "image/png": "[encoded data removed]",
      "text/plain": [
       "<Figure size 640x480 with 1 Axes>"
      ]
     },
     "metadata": {},
     "output_type": "display_data"
    }
   ],
   "source": [
    "imgs = make_grid(batch[0])\n",
    "\n",
    "def show(imgs):\n",
    "    if not isinstance(imgs, list):\n",
    "        imgs = [imgs]\n",
    "    fig, axs = plt.subplots(ncols=len(imgs), squeeze=False)\n",
    "    for i, img in enumerate(imgs):\n",
    "        img = img.detach()\n",
    "        img = transforms.functional.to_pil_image(img)\n",
    "        axs[0, i].imshow(np.asarray(img))\n",
    "        axs[0, i].set(xticklabels=[], yticklabels=[], xticks=[], yticks=[])\n",
    "\n",
    "show(imgs)"
   ]
  },
  {
   "cell_type": "markdown",
   "id": "2d142f2c-7dac-4ff4-840b-3a8d40d52a5c",
   "metadata": {},
   "source": [
    "## Lightning Wrapper"
   ]
  },
  {
   "cell_type": "code",
   "execution_count": 29,
   "id": "5b890aae-5e00-4db1-b0e3-2d2568b61a3b",
   "metadata": {},
   "outputs": [],
   "source": [
    "class MobileNetLightning(pl.LightningModule):\n",
    "    def __init__(\n",
    "        self,\n",
    "        model,\n",
    "        criterion,\n",
    "        t_max,\n",
    "    ):\n",
    "        super().__init__()\n",
    "\n",
    "        self.model = model\n",
    "        self.criterion = criterion\n",
    "        self.t_max = t_max\n",
    "\n",
    "        self.save_hyperparameters(ignore=['model', 'criterion'])\n",
    "\n",
    "        metric = MetricCollection({'f1': F1Score(task='multiclass', num_classes=42)})\n",
    "        self.train_metric = metric.clone(prefix='train/')\n",
    "        self.valid_metric = metric.clone(prefix='valid/')\n",
    "\n",
    "    def forward(self, x: torch.Tensor) -> torch.Tensor:\n",
    "        return self.model(x)\n",
    "\n",
    "    def evaluate(self, batch, metric_func):\n",
    "        output = self.model(batch[0])\n",
    "        \n",
    "        # eval loss\n",
    "        loss = self.criterion(output, batch[1])\n",
    "\n",
    "        # eval metric\n",
    "        metric = metric_func(output.argmax(dim=-1), batch[1])\n",
    "\n",
    "        return loss, metric\n",
    "    \n",
    "    def training_step(self, batch, batch_idx):\n",
    "        train_loss, train_metric = self.evaluate(batch, self.train_metric)\n",
    "        self.log(\"train_loss\", train_loss, on_step=True, on_epoch=True, prog_bar=True, logger=True)\n",
    "        self.log_dict(train_metric, on_step=True, on_epoch=True, prog_bar=True, logger=True)\n",
    "        return train_loss\n",
    "\n",
    "    def validation_step(self, batch, batch_idx):\n",
    "        valid_loss, val_metric = self.evaluate(batch, self.valid_metric)\n",
    "        self.log(\"valid_loss\", valid_loss, on_step=True, on_epoch=True, prog_bar=True, logger=True)\n",
    "        self.log_dict(val_metric, on_step=True, on_epoch=True, prog_bar=True, logger=True)\n",
    "        return valid_loss\n",
    "\n",
    "    def predict_step(self, batch, batch_idx):\n",
    "        pred = self.model(batch[0]).argmax(dim=-1)\n",
    "        return pred\n",
    "    \n",
    "    def configure_optimizers(self):\n",
    "        optimizer = torch.optim.AdamW(self.model.parameters(), 1e-3)\n",
    "        scheduler = torch.optim.lr_scheduler.CosineAnnealingLR(\n",
    "            optimizer,\n",
    "            T_max=self.t_max,\n",
    "        )\n",
    "        return [optimizer], [scheduler]"
   ]
  },
  {
   "cell_type": "code",
   "execution_count": 30,
   "id": "2694e239-09df-457f-b0a4-830264a932cf",
   "metadata": {},
   "outputs": [],
   "source": [
    "class CustomClassificationLoss(nn.Module):\n",
    "    def __init__(self):\n",
    "        super().__init__()\n",
    "        self.loss = None\n",
    "        self.criterion = nn.CrossEntropyLoss()\n",
    "\n",
    "    def forward(self, output, target):\n",
    "        self.loss = self.criterion(output, target)\n",
    "        return self.loss\n",
    "\n",
    "    def backward(self, retain_graph=True):\n",
    "        self.loss.backward(retain_graph=retain_graph)\n",
    "        return self.loss"
   ]
  },
  {
   "cell_type": "markdown",
   "id": "96c14950-bb1c-41bd-bf05-624f6d8edbbf",
   "metadata": {},
   "source": [
    "## Trainer"
   ]
  },
  {
   "cell_type": "code",
   "execution_count": 31,
   "id": "57859803-f5dd-4334-b94d-951d79e5b328",
   "metadata": {},
   "outputs": [],
   "source": [
    "num_epochs = 10"
   ]
  },
  {
   "cell_type": "code",
   "execution_count": 32,
   "id": "7fa0aa1b-63ce-4a39-9f34-756ac65b9d6f",
   "metadata": {},
   "outputs": [],
   "source": [
    "mobile_net_v1 = MobileNetV1(\n",
    "    in_channels=3,\n",
    "    num_classes=len(train_dataset.dataset.classes),\n",
    "    depth_multiplier=1,\n",
    "    resolution_multiplier=1.0,\n",
    ")\n",
    "mobile_net_v2 = MobileNetV2(\n",
    "    in_channels=3,\n",
    "    num_classes=len(train_dataset.dataset.classes),\n",
    ")\n",
    "\n",
    "criterion = CustomClassificationLoss()\n",
    "\n",
    "model = MobileNetLightning(\n",
    "    model=mobile_net_v2,\n",
    "    criterion=criterion,\n",
    "    t_max=int(len(train_dataset) / batch_size + 1) * num_epochs,\n",
    ")"
   ]
  },
  {
   "cell_type": "code",
   "execution_count": 33,
   "id": "199c0996-55a6-467e-9a04-acc28c3e7ccc",
   "metadata": {},
   "outputs": [
    {
     "name": "stderr",
     "output_type": "stream",
     "text": [
      "Using 16bit Automatic Mixed Precision (AMP)\n",
      "/Users/ruasvmv/common/lib/python3.9/site-packages/torch/amp/grad_scaler.py:132: UserWarning: torch.cuda.amp.GradScaler is enabled, but CUDA is not available.  Disabling.\n",
      "  warnings.warn(\n",
      "GPU available: True (mps), used: True\n",
      "TPU available: False, using: 0 TPU cores\n",
      "HPU available: False, using: 0 HPUs\n",
      "/Users/ruasvmv/common/lib/python3.9/site-packages/pytorch_lightning/trainer/connectors/logger_connector/logger_connector.py:76: Starting from v1.9.0, `tensorboardX` has been removed as a dependency of the `pytorch_lightning` package, due to potential conflicts with other packages in the ML ecosystem. For this reason, `logger=True` will use `CSVLogger` as the default logger, unless the `tensorboard` or `tensorboardX` packages are found. Please `pip install lightning[extra]` or one of them to enable TensorBoard support by default\n"
     ]
    }
   ],
   "source": [
    "trainer = pl.Trainer(\n",
    "    accelerator='mps',\n",
    "    max_epochs=num_epochs,\n",
    "    accumulate_grad_batches=1,\n",
    "    precision=\"16-mixed\",\n",
    "    log_every_n_steps=1,\n",
    "    enable_checkpointing=True,\n",
    "    enable_progress_bar=True,\n",
    "    gradient_clip_val=5,\n",
    "    use_distributed_sampler=True,\n",
    ")"
   ]
  },
  {
   "cell_type": "code",
   "execution_count": 34,
   "id": "9602fd36-e637-4e04-bd5d-c84930c03d05",
   "metadata": {},
   "outputs": [
    {
     "name": "stderr",
     "output_type": "stream",
     "text": [
      "\n",
      "  | Name         | Type                     | Params | Mode \n",
      "------------------------------------------------------------------\n",
      "0 | model        | MobileNetV2              | 2.3 M  | train\n",
      "1 | criterion    | CustomClassificationLoss | 0      | train\n",
      "2 | train_metric | MetricCollection         | 0      | train\n",
      "3 | valid_metric | MetricCollection         | 0      | train\n",
      "------------------------------------------------------------------\n",
      "2.3 M     Trainable params\n",
      "0         Non-trainable params\n",
      "2.3 M     Total params\n",
      "9.111     Total estimated model params size (MB)\n",
      "231       Modules in train mode\n",
      "0         Modules in eval mode\n"
     ]
    },
    {
     "data": {
      "application/vnd.jupyter.widget-view+json": {
       "model_id": "7711efa4bf6847bba2d351062a03fcf1",
       "version_major": 2,
       "version_minor": 0
      },
      "text/plain": [
       "Sanity Checking: |                                                                                            …"
      ]
     },
     "metadata": {},
     "output_type": "display_data"
    },
    {
     "name": "stderr",
     "output_type": "stream",
     "text": [
      "/Users/ruasvmv/common/lib/python3.9/site-packages/torch/amp/autocast_mode.py:266: UserWarning: User provided device_type of 'cuda', but CUDA is not available. Disabling\n",
      "  warnings.warn(\n"
     ]
    },
    {
     "data": {
      "application/vnd.jupyter.widget-view+json": {
       "model_id": "0c11f9bc718248aba4fb1e49ef51aa21",
       "version_major": 2,
       "version_minor": 0
      },
      "text/plain": [
       "Training: |                                                                                                   …"
      ]
     },
     "metadata": {},
     "output_type": "display_data"
    },
    {
     "data": {
      "application/vnd.jupyter.widget-view+json": {
       "model_id": "809cdcce1c504ac6a48558ab41ff63d4",
       "version_major": 2,
       "version_minor": 0
      },
      "text/plain": [
       "Validation: |                                                                                                 …"
      ]
     },
     "metadata": {},
     "output_type": "display_data"
    },
    {
     "data": {
      "application/vnd.jupyter.widget-view+json": {
       "model_id": "cbfe9c03dc72410c95afb7d1e3b0468c",
       "version_major": 2,
       "version_minor": 0
      },
      "text/plain": [
       "Validation: |                                                                                                 …"
      ]
     },
     "metadata": {},
     "output_type": "display_data"
    },
    {
     "data": {
      "application/vnd.jupyter.widget-view+json": {
       "model_id": "31ccb2eb0a644a4d995c34002c1ad98a",
       "version_major": 2,
       "version_minor": 0
      },
      "text/plain": [
       "Validation: |                                                                                                 …"
      ]
     },
     "metadata": {},
     "output_type": "display_data"
    },
    {
     "data": {
      "application/vnd.jupyter.widget-view+json": {
       "model_id": "f63955e0a6a24c009b14385c7079bc4b",
       "version_major": 2,
       "version_minor": 0
      },
      "text/plain": [
       "Validation: |                                                                                                 …"
      ]
     },
     "metadata": {},
     "output_type": "display_data"
    },
    {
     "data": {
      "application/vnd.jupyter.widget-view+json": {
       "model_id": "e37ca0668881484ea326bed73d9fd4d1",
       "version_major": 2,
       "version_minor": 0
      },
      "text/plain": [
       "Validation: |                                                                                                 …"
      ]
     },
     "metadata": {},
     "output_type": "display_data"
    },
    {
     "data": {
      "application/vnd.jupyter.widget-view+json": {
       "model_id": "168b33ba25a24c93ab89cb0688557349",
       "version_major": 2,
       "version_minor": 0
      },
      "text/plain": [
       "Validation: |                                                                                                 …"
      ]
     },
     "metadata": {},
     "output_type": "display_data"
    },
    {
     "data": {
      "application/vnd.jupyter.widget-view+json": {
       "model_id": "b031dc220820473f8c0f3ed1fbe16d71",
       "version_major": 2,
       "version_minor": 0
      },
      "text/plain": [
       "Validation: |                                                                                                 …"
      ]
     },
     "metadata": {},
     "output_type": "display_data"
    },
    {
     "data": {
      "application/vnd.jupyter.widget-view+json": {
       "model_id": "9a82c2e04a7e437e953610ca3665b851",
       "version_major": 2,
       "version_minor": 0
      },
      "text/plain": [
       "Validation: |                                                                                                 …"
      ]
     },
     "metadata": {},
     "output_type": "display_data"
    },
    {
     "data": {
      "application/vnd.jupyter.widget-view+json": {
       "model_id": "2025dfb1f214471c910759ed0ad2839b",
       "version_major": 2,
       "version_minor": 0
      },
      "text/plain": [
       "Validation: |                                                                                                 …"
      ]
     },
     "metadata": {},
     "output_type": "display_data"
    },
    {
     "data": {
      "application/vnd.jupyter.widget-view+json": {
       "model_id": "ad3031b432ad4d868c8b444fa1a50a86",
       "version_major": 2,
       "version_minor": 0
      },
      "text/plain": [
       "Validation: |                                                                                                 …"
      ]
     },
     "metadata": {},
     "output_type": "display_data"
    },
    {
     "name": "stderr",
     "output_type": "stream",
     "text": [
      "`Trainer.fit` stopped: `max_epochs=10` reached.\n"
     ]
    }
   ],
   "source": [
    "trainer.fit(\n",
    "    model,\n",
    "    train_dataloaders=train_loader,\n",
    "    val_dataloaders=val_loader,\n",
    ")"
   ]
  },
  {
   "cell_type": "markdown",
   "id": "8cb9b99f-76c9-4e02-9f7c-bd3f43d3ca43",
   "metadata": {},
   "source": [
    "## Submit"
   ]
  },
  {
   "cell_type": "code",
   "execution_count": 35,
   "id": "023b66f1-641d-45ae-ab8d-136d0f389832",
   "metadata": {},
   "outputs": [
    {
     "data": {
      "application/vnd.jupyter.widget-view+json": {
       "model_id": "ba21f30e7d524cd78339218af264fbeb",
       "version_major": 2,
       "version_minor": 0
      },
      "text/plain": [
       "Predicting: |                                                                                                 …"
      ]
     },
     "metadata": {},
     "output_type": "display_data"
    }
   ],
   "source": [
    "predictions = trainer.predict(model, dataloaders=test_loader)"
   ]
  },
  {
   "cell_type": "code",
   "execution_count": 36,
   "id": "574364d2-5cd6-41c6-9823-87a29773746a",
   "metadata": {},
   "outputs": [],
   "source": [
    "labels = []\n",
    "for pred in predictions:\n",
    "    labels += pred.detach().numpy().tolist()"
   ]
  },
  {
   "cell_type": "code",
   "execution_count": 37,
   "id": "c98626fc-5d3e-4d52-85c4-1a388a6346f5",
   "metadata": {},
   "outputs": [],
   "source": [
    "idx_to_class = {v: k for k, v in train_dataset.dataset.class_to_idx.items()}"
   ]
  },
  {
   "cell_type": "code",
   "execution_count": 38,
   "id": "65cfc36b-00b3-4d4b-ab19-6748a12d58ce",
   "metadata": {},
   "outputs": [],
   "source": [
    "submit = pd.read_csv('~/Downloads/journey-springfield/sample_submission.csv')"
   ]
  },
  {
   "cell_type": "code",
   "execution_count": 39,
   "id": "5cffca7f-d2db-4b84-9026-f5fbdc078409",
   "metadata": {},
   "outputs": [],
   "source": [
    "names = []\n",
    "for path, _ in test_dataset.samples:\n",
    "    names.append(path.split('/')[-1])"
   ]
  },
  {
   "cell_type": "code",
   "execution_count": 40,
   "id": "24e3f803-3314-4b64-a75a-e5140a79d734",
   "metadata": {},
   "outputs": [],
   "source": [
    "submit['Expected'] = [idx_to_class[i] for i in labels]\n",
    "submit['Id'] = names"
   ]
  },
  {
   "cell_type": "code",
   "execution_count": 41,
   "id": "fb8d11de-6838-4060-979c-b64ad8758cad",
   "metadata": {},
   "outputs": [],
   "source": [
    "submit.to_csv('sol_3.csv', index=False)"
   ]
  },
  {
   "cell_type": "code",
   "execution_count": 42,
   "id": "3927dafe-6c6b-4b9b-ad91-94137ddd7274",
   "metadata": {},
   "outputs": [
    {
     "data": {
      "text/html": [
       "<div>\n",
       "<style scoped>\n",
       "    .dataframe tbody tr th:only-of-type {\n",
       "        vertical-align: middle;\n",
       "    }\n",
       "\n",
       "    .dataframe tbody tr th {\n",
       "        vertical-align: top;\n",
       "    }\n",
       "\n",
       "    .dataframe thead th {\n",
       "        text-align: right;\n",
       "    }\n",
       "</style>\n",
       "<table border=\"1\" class=\"dataframe\">\n",
       "  <thead>\n",
       "    <tr style=\"text-align: right;\">\n",
       "      <th></th>\n",
       "      <th>Id</th>\n",
       "      <th>Expected</th>\n",
       "    </tr>\n",
       "  </thead>\n",
       "  <tbody>\n",
       "    <tr>\n",
       "      <th>0</th>\n",
       "      <td>img0.jpg</td>\n",
       "      <td>nelson_muntz</td>\n",
       "    </tr>\n",
       "    <tr>\n",
       "      <th>1</th>\n",
       "      <td>img1.jpg</td>\n",
       "      <td>bart_simpson</td>\n",
       "    </tr>\n",
       "    <tr>\n",
       "      <th>2</th>\n",
       "      <td>img10.jpg</td>\n",
       "      <td>ned_flanders</td>\n",
       "    </tr>\n",
       "    <tr>\n",
       "      <th>3</th>\n",
       "      <td>img100.jpg</td>\n",
       "      <td>chief_wiggum</td>\n",
       "    </tr>\n",
       "    <tr>\n",
       "      <th>4</th>\n",
       "      <td>img101.jpg</td>\n",
       "      <td>apu_nahasapeemapetilon</td>\n",
       "    </tr>\n",
       "    <tr>\n",
       "      <th>...</th>\n",
       "      <td>...</td>\n",
       "      <td>...</td>\n",
       "    </tr>\n",
       "    <tr>\n",
       "      <th>986</th>\n",
       "      <td>img987.jpg</td>\n",
       "      <td>nelson_muntz</td>\n",
       "    </tr>\n",
       "    <tr>\n",
       "      <th>987</th>\n",
       "      <td>img988.jpg</td>\n",
       "      <td>waylon_smithers</td>\n",
       "    </tr>\n",
       "    <tr>\n",
       "      <th>988</th>\n",
       "      <td>img989.jpg</td>\n",
       "      <td>charles_montgomery_burns</td>\n",
       "    </tr>\n",
       "    <tr>\n",
       "      <th>989</th>\n",
       "      <td>img99.jpg</td>\n",
       "      <td>principal_skinner</td>\n",
       "    </tr>\n",
       "    <tr>\n",
       "      <th>990</th>\n",
       "      <td>img990.jpg</td>\n",
       "      <td>krusty_the_clown</td>\n",
       "    </tr>\n",
       "  </tbody>\n",
       "</table>\n",
       "<p>991 rows × 2 columns</p>\n",
       "</div>"
      ],
      "text/plain": [
       "             Id                  Expected\n",
       "0      img0.jpg              nelson_muntz\n",
       "1      img1.jpg              bart_simpson\n",
       "2     img10.jpg              ned_flanders\n",
       "3    img100.jpg              chief_wiggum\n",
       "4    img101.jpg    apu_nahasapeemapetilon\n",
       "..          ...                       ...\n",
       "986  img987.jpg              nelson_muntz\n",
       "987  img988.jpg           waylon_smithers\n",
       "988  img989.jpg  charles_montgomery_burns\n",
       "989   img99.jpg         principal_skinner\n",
       "990  img990.jpg          krusty_the_clown\n",
       "\n",
       "[991 rows x 2 columns]"
      ]
     },
     "execution_count": 42,
     "metadata": {},
     "output_type": "execute_result"
    }
   ],
   "source": [
    "submit"
   ]
  },
  {
   "cell_type": "code",
   "execution_count": null,
   "id": "5b8059c5-a537-4b77-b1e9-74312d3306ea",
   "metadata": {},
   "outputs": [],
   "source": []
  }
 ],
 "metadata": {
  "kernelspec": {
   "display_name": "Python 3 (ipykernel)",
   "language": "python",
   "name": "python3"
  },
  "language_info": {
   "codemirror_mode": {
    "name": "ipython",
    "version": 3
   },
   "file_extension": ".py",
   "mimetype": "text/x-python",
   "name": "python",
   "nbconvert_exporter": "python",
   "pygments_lexer": "ipython3",
   "version": "3.9.6"
  }
 },
 "nbformat": 4,
 "nbformat_minor": 5
}
