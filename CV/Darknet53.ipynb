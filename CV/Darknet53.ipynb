{
 "cells": [
  {
   "cell_type": "markdown",
   "id": "acf3ec49-3605-47d5-be94-4276e9f0348f",
   "metadata": {},
   "source": [
    "# Import"
   ]
  },
  {
   "cell_type": "code",
   "execution_count": 1,
   "id": "f0299c6b-da6f-43f2-bee3-f7d783442bff",
   "metadata": {},
   "outputs": [],
   "source": [
    "import os\n",
    "\n",
    "import numpy as np\n",
    "import pandas as pd\n",
    "import seaborn as sns\n",
    "import matplotlib.pyplot as plt\n",
    "\n",
    "import torch\n",
    "import torch.nn as nn\n",
    "\n",
    "import torchvision.transforms as transforms\n",
    "from torchvision.datasets import ImageFolder\n",
    "from torchvision.utils import make_grid\n",
    "\n",
    "from torch.utils.data import DataLoader, WeightedRandomSampler\n",
    "\n",
    "import pytorch_lightning as pl\n",
    "from torchmetrics import F1Score\n",
    "from torchmetrics import MetricCollection\n",
    "\n",
    "import multiprocessing"
   ]
  },
  {
   "cell_type": "code",
   "execution_count": 2,
   "id": "2d5b7214-71ae-4769-8bbf-9ea3d935449f",
   "metadata": {},
   "outputs": [],
   "source": [
    "# multiprocessing.set_start_method('fork')"
   ]
  },
  {
   "cell_type": "code",
   "execution_count": 3,
   "id": "162acc12-eb66-421e-bf15-f367603c98c6",
   "metadata": {},
   "outputs": [
    {
     "name": "stderr",
     "output_type": "stream",
     "text": [
      "Seed set to 42\n"
     ]
    },
    {
     "data": {
      "text/plain": [
       "42"
      ]
     },
     "execution_count": 3,
     "metadata": {},
     "output_type": "execute_result"
    }
   ],
   "source": [
    "pl.seed_everything(seed=42)"
   ]
  },
  {
   "cell_type": "markdown",
   "id": "5d6fb7e7-4d80-4370-b514-c2b51e6479fe",
   "metadata": {},
   "source": [
    "# Utils"
   ]
  },
  {
   "cell_type": "code",
   "execution_count": 4,
   "id": "e7e39866-4fb1-46e3-8961-56f627b2ee00",
   "metadata": {},
   "outputs": [],
   "source": [
    "def count_parameters(model):\n",
    "    return sum(p.numel() for p in model.parameters() if p.requires_grad)"
   ]
  },
  {
   "cell_type": "markdown",
   "id": "f4317a96-1257-489b-992e-a568b66abb23",
   "metadata": {},
   "source": [
    "# Darknet53"
   ]
  },
  {
   "cell_type": "code",
   "execution_count": 5,
   "id": "97119d0d-d993-4268-85cd-c02238f244c8",
   "metadata": {},
   "outputs": [],
   "source": [
    "class ConvBNReLU(nn.Module):\n",
    "    def __init__(\n",
    "        self,\n",
    "        in_dim: int,\n",
    "        out_dim: int,\n",
    "        kernel_size: int,\n",
    "        stride: int,\n",
    "        padding: int,\n",
    "    ):\n",
    "        super().__init__()\n",
    "        self.layers = nn.Sequential(\n",
    "            nn.Conv2d(\n",
    "                in_channels=in_dim,\n",
    "                out_channels=out_dim,\n",
    "                kernel_size=kernel_size,\n",
    "                stride=stride,\n",
    "                padding=padding,\n",
    "                bias=False,\n",
    "            ),\n",
    "            nn.BatchNorm2d(out_dim),\n",
    "            nn.LeakyReLU(0.1)\n",
    "        )\n",
    "\n",
    "    def forward(self, x: torch.Tensor) -> torch.Tensor:\n",
    "        return self.layers(x)"
   ]
  },
  {
   "cell_type": "code",
   "execution_count": 6,
   "id": "8ef36f1c-de0e-48e9-a205-36c7c3a88bf8",
   "metadata": {},
   "outputs": [],
   "source": [
    "class ResidualBlock(nn.Module):\n",
    "    def __init__(\n",
    "        self,\n",
    "        in_dim: int,\n",
    "    ):\n",
    "        super().__init__()\n",
    "        hidden_dim = in_dim // 2\n",
    "        self.layers = nn.Sequential(\n",
    "            ConvBNReLU(\n",
    "                in_dim=in_dim,\n",
    "                out_dim=hidden_dim,\n",
    "                kernel_size=1,\n",
    "                stride=1,\n",
    "                padding=0,\n",
    "            ),\n",
    "            ConvBNReLU(\n",
    "                in_dim=hidden_dim,\n",
    "                out_dim=in_dim,\n",
    "                kernel_size=3,\n",
    "                stride=1,\n",
    "                padding=1,\n",
    "            ),\n",
    "        )\n",
    "\n",
    "    def forward(self, x: torch.Tensor) -> torch.Tensor:\n",
    "        return x + self.layers(x)"
   ]
  },
  {
   "cell_type": "code",
   "execution_count": 7,
   "id": "6ec5c2b3-00bc-44a8-a96b-bb902f212af5",
   "metadata": {},
   "outputs": [],
   "source": [
    "class Darknet53(nn.Module):\n",
    "    def __init__(\n",
    "        self,\n",
    "        in_channels: int,\n",
    "        num_classes: int,\n",
    "        dropout: float = 0.2,\n",
    "    ):\n",
    "        super().__init__()\n",
    "        self.num_classes = num_classes\n",
    "\n",
    "        # (in_dim, out_dim, repeated, type, stride)\n",
    "        config = (\n",
    "            (3, 32, 1, 'conv', 1),\n",
    "            (32, 64, 1, 'conv', 2),\n",
    "            (64, 64, 1, 'residual', 1),\n",
    "            (64, 128, 1, 'conv', 2),\n",
    "            (128, 128, 2, 'residual', 1),\n",
    "            (128, 256, 1, 'conv', 2),\n",
    "            (256, 256, 8, 'residual', 1),\n",
    "            (256, 512, 1, 'conv', 2),\n",
    "            (512, 512, 8, 'residual', 1),\n",
    "            (512, 1024, 1, 'conv', 2),\n",
    "            (1024, 1024, 4, 'residual', 1),\n",
    "        )\n",
    "\n",
    "        self.features = nn.ModuleList([])\n",
    "        for in_dim, out_dim, rep, layer, stride in config:\n",
    "            for r in range(rep):\n",
    "                if layer == 'conv':\n",
    "                    self.features.append(\n",
    "                        ConvBNReLU(\n",
    "                            in_dim=in_dim,\n",
    "                            out_dim=out_dim,\n",
    "                            kernel_size=3,\n",
    "                            stride=stride,\n",
    "                            padding=1,\n",
    "                        )\n",
    "                    )\n",
    "                elif layer == 'residual':\n",
    "                    self.features.append(\n",
    "                        ResidualBlock(\n",
    "                            in_dim=in_dim,\n",
    "                        )\n",
    "                    )\n",
    "\n",
    "        self.avg_pool = nn.Sequential(\n",
    "            nn.AdaptiveAvgPool2d(1),\n",
    "            nn.Flatten(start_dim=1),\n",
    "        )\n",
    "\n",
    "        self.classifier = nn.Sequential(\n",
    "            nn.Dropout(p=dropout),\n",
    "            nn.Linear(\n",
    "                in_features=1024,\n",
    "                out_features=num_classes,\n",
    "            )\n",
    "        )\n",
    "\n",
    "    def forward(self, x: torch.Tensor) -> torch.Tensor:\n",
    "        for block in self.features:\n",
    "            x = block(x)\n",
    "\n",
    "        out = self.avg_pool(x)\n",
    "        out = self.classifier(out)\n",
    "        \n",
    "        return out"
   ]
  },
  {
   "cell_type": "code",
   "execution_count": 8,
   "id": "2fb8e4cc-cc47-486d-9b2d-a201abe934dd",
   "metadata": {},
   "outputs": [
    {
     "data": {
      "text/plain": [
       "torch.Size([32, 1024])"
      ]
     },
     "execution_count": 8,
     "metadata": {},
     "output_type": "execute_result"
    }
   ],
   "source": [
    "x = torch.randn(32, 3, 256, 256)\n",
    "Darknet53(3, 1024)(x).shape"
   ]
  },
  {
   "cell_type": "code",
   "execution_count": 9,
   "id": "86fd86c7-bf20-4413-b3e4-189c4290313e",
   "metadata": {},
   "outputs": [
    {
     "data": {
      "text/plain": [
       "41634528"
      ]
     },
     "execution_count": 9,
     "metadata": {},
     "output_type": "execute_result"
    }
   ],
   "source": [
    "count_parameters(Darknet53(3, 1024))"
   ]
  },
  {
   "cell_type": "code",
   "execution_count": 10,
   "id": "11a59020-e44f-4b39-b7ff-47d66bb6a0dd",
   "metadata": {},
   "outputs": [
    {
     "data": {
      "text/plain": [
       "ConvBNReLU(\n",
       "  (layers): Sequential(\n",
       "    (0): Conv2d(128, 64, kernel_size=(1, 1), stride=(1, 1), bias=False)\n",
       "    (1): BatchNorm2d(64, eps=1e-05, momentum=0.1, affine=True, track_running_stats=True)\n",
       "    (2): LeakyReLU(negative_slope=0.1)\n",
       "  )\n",
       ")"
      ]
     },
     "execution_count": 10,
     "metadata": {},
     "output_type": "execute_result"
    }
   ],
   "source": [
    "darknet_model = Darknet53(3, 42)\n",
    "darknet_model.features[5].layers[0]"
   ]
  },
  {
   "cell_type": "code",
   "execution_count": 11,
   "id": "dd68e4d4-82e5-4101-9fb3-06e162d3fead",
   "metadata": {},
   "outputs": [],
   "source": [
    "def load_darknet_weights(weights_path, module_list):\n",
    "    \"\"\"Parses and loads the weights stored in 'weights_path'\"\"\"\n",
    "\n",
    "    # Open the weights file\n",
    "    with open(weights_path, \"rb\") as f:\n",
    "        # First five are header values\n",
    "        header = np.fromfile(f, dtype=np.int32, count=5)\n",
    "        header_info = header  # Needed to write header when saving weights\n",
    "        seen = header[3]  # number of images seen during training\n",
    "        weights = np.fromfile(f, dtype=np.float32)  # The rest are weights\n",
    "\n",
    "    # Establish cutoff for loading backbone weights\n",
    "    cutoff = None\n",
    "    # If the weights file has a cutoff, we can find out about it by looking at the filename\n",
    "    # examples: darknet53.conv.74 -> cutoff is 74\n",
    "    filename = os.path.basename(weights_path)\n",
    "    if \".conv.\" in filename:\n",
    "        try:\n",
    "            cutoff = int(filename.split(\".\")[-1])  # use last part of filename\n",
    "        except ValueError:\n",
    "            pass\n",
    "\n",
    "    ptr = 0\n",
    "    for i, module in enumerate(module_list):\n",
    "        if i == cutoff:\n",
    "            break\n",
    "\n",
    "        if isinstance(module, ConvBNReLU):\n",
    "            conv_layer = module.layers[0]\n",
    "            \n",
    "            # Load BN bias, weights, running mean and running variance\n",
    "            bn_layer = module.layers[1]\n",
    "            num_b = bn_layer.bias.numel()  # Number of biases\n",
    "            # Bias\n",
    "            bn_b = torch.from_numpy(\n",
    "                weights[ptr: ptr + num_b]).view_as(bn_layer.bias)\n",
    "            bn_layer.bias.data.copy_(bn_b)\n",
    "            ptr += num_b\n",
    "            # Weight\n",
    "            bn_w = torch.from_numpy(\n",
    "                weights[ptr: ptr + num_b]).view_as(bn_layer.weight)\n",
    "            bn_layer.weight.data.copy_(bn_w)\n",
    "            ptr += num_b\n",
    "            # Running Mean\n",
    "            bn_rm = torch.from_numpy(\n",
    "                weights[ptr: ptr + num_b]).view_as(bn_layer.running_mean)\n",
    "            bn_layer.running_mean.data.copy_(bn_rm)\n",
    "            ptr += num_b\n",
    "            # Running Var\n",
    "            bn_rv = torch.from_numpy(\n",
    "                weights[ptr: ptr + num_b]).view_as(bn_layer.running_var)\n",
    "            bn_layer.running_var.data.copy_(bn_rv)\n",
    "            ptr += num_b\n",
    "    \n",
    "            # Load conv. weights\n",
    "            num_w = conv_layer.weight.numel()\n",
    "            conv_w = torch.from_numpy(\n",
    "                weights[ptr: ptr + num_w]).view_as(conv_layer.weight)\n",
    "            conv_layer.weight.data.copy_(conv_w)\n",
    "            ptr += num_w\n",
    "        else:\n",
    "            for layer in module.layers:\n",
    "                conv_layer = layer.layers[0]\n",
    "                \n",
    "                # Load BN bias, weights, running mean and running variance\n",
    "                bn_layer = layer.layers[1]\n",
    "                num_b = bn_layer.bias.numel()  # Number of biases\n",
    "                # Bias\n",
    "                bn_b = torch.from_numpy(\n",
    "                    weights[ptr: ptr + num_b]).view_as(bn_layer.bias)\n",
    "                bn_layer.bias.data.copy_(bn_b)\n",
    "                ptr += num_b\n",
    "                # Weight\n",
    "                bn_w = torch.from_numpy(\n",
    "                    weights[ptr: ptr + num_b]).view_as(bn_layer.weight)\n",
    "                bn_layer.weight.data.copy_(bn_w)\n",
    "                ptr += num_b\n",
    "                # Running Mean\n",
    "                bn_rm = torch.from_numpy(\n",
    "                    weights[ptr: ptr + num_b]).view_as(bn_layer.running_mean)\n",
    "                bn_layer.running_mean.data.copy_(bn_rm)\n",
    "                ptr += num_b\n",
    "                # Running Var\n",
    "                bn_rv = torch.from_numpy(\n",
    "                    weights[ptr: ptr + num_b]).view_as(bn_layer.running_var)\n",
    "                bn_layer.running_var.data.copy_(bn_rv)\n",
    "                ptr += num_b\n",
    "        \n",
    "                # Load conv. weights\n",
    "                num_w = conv_layer.weight.numel()\n",
    "                conv_w = torch.from_numpy(\n",
    "                    weights[ptr: ptr + num_w]).view_as(conv_layer.weight)\n",
    "                conv_layer.weight.data.copy_(conv_w)\n",
    "                ptr += num_w\n",
    "\n",
    "    return module_list"
   ]
  },
  {
   "cell_type": "code",
   "execution_count": 12,
   "id": "ae38ff4a-8be1-44bb-917b-7d587886e668",
   "metadata": {
    "scrolled": true
   },
   "outputs": [],
   "source": [
    "weights = load_darknet_weights('yolo/darknet53.conv.74', darknet_model.features)"
   ]
  },
  {
   "cell_type": "markdown",
   "id": "4befbd85-a2cd-41e7-907c-6aa5da3522dd",
   "metadata": {},
   "source": [
    "# Dataset"
   ]
  },
  {
   "cell_type": "code",
   "execution_count": 13,
   "id": "9a148a51-85cd-4968-9e68-d49d61a42612",
   "metadata": {},
   "outputs": [],
   "source": [
    "train_transform = transforms.Compose([\n",
    "    transforms.Resize((224, 224)),\n",
    "    transforms.ColorJitter(brightness=(0.6, 1.5), contrast=(0.6, 1.5)),\n",
    "    transforms.GaussianBlur(3),\n",
    "    transforms.RandomRotation((-60, 60)),\n",
    "    transforms.RandomHorizontalFlip(p=0.5),\n",
    "    transforms.RandomResizedCrop(size=224, scale=(0.8, 1.0), ratio=(0.75, 1.33)),\n",
    "    transforms.ToTensor(),\n",
    "\n",
    "    # imagenet weights\n",
    "    transforms.Normalize(\n",
    "        mean=[0.485, 0.456, 0.406],\n",
    "        std=[0.229, 0.224, 0.225]\n",
    "    ),\n",
    "])\n",
    "\n",
    "val_transform = transforms.Compose([\n",
    "    transforms.Resize((224, 224)),\n",
    "    transforms.ToTensor(),\n",
    "\n",
    "    # imagenet weights\n",
    "    transforms.Normalize(\n",
    "        mean=[0.485, 0.456, 0.406],\n",
    "        std=[0.229, 0.224, 0.225]\n",
    "    ),\n",
    "])"
   ]
  },
  {
   "cell_type": "code",
   "execution_count": 14,
   "id": "8560473e-b2c2-463c-9f0a-cd9e43e8c274",
   "metadata": {},
   "outputs": [],
   "source": [
    "train_dataset = ImageFolder('~/Downloads/journey-springfield/train/simpsons_dataset')\n",
    "test_dataset = ImageFolder('~/Downloads/journey-springfield/testset')"
   ]
  },
  {
   "cell_type": "code",
   "execution_count": 15,
   "id": "9456f796-faa1-4c95-9def-abf3d800c60d",
   "metadata": {},
   "outputs": [],
   "source": [
    "train_size = int(len(train_dataset) * 0.75)\n",
    "val_size = len(train_dataset) - train_size\n",
    "\n",
    "train_dataset, val_dataset = torch.utils.data.random_split(train_dataset, [train_size, val_size])"
   ]
  },
  {
   "cell_type": "code",
   "execution_count": 16,
   "id": "de8a8740-858d-44cd-95b5-beabab0e87c9",
   "metadata": {},
   "outputs": [],
   "source": [
    "train_dataset.dataset.transform = train_transform\n",
    "val_dataset.dataset.transform = train_transform\n",
    "\n",
    "test_dataset.transform = val_transform"
   ]
  },
  {
   "cell_type": "code",
   "execution_count": 17,
   "id": "14bb93bd-399e-4143-8875-a005c7cca5dd",
   "metadata": {},
   "outputs": [],
   "source": [
    "classes = [sample[1] for sample in train_dataset.dataset.samples]"
   ]
  },
  {
   "cell_type": "code",
   "execution_count": 18,
   "id": "e8610ba3-aad9-40e0-b2ba-20e73368ee68",
   "metadata": {},
   "outputs": [
    {
     "name": "stdout",
     "output_type": "stream",
     "text": [
      "CPU times: user 10min 6s, sys: 2min 12s, total: 12min 19s\n",
      "Wall time: 1min 37s\n"
     ]
    }
   ],
   "source": [
    "%%time\n",
    "class_dist = pd.Series(classes).value_counts()\n",
    "\n",
    "weights = 1 / class_dist.values\n",
    "class_weights = dict(zip(class_dist.index, weights))\n",
    "\n",
    "sample_weights = [class_weights[train_dataset.dataset[ind][1]] for ind in train_dataset.indices]"
   ]
  },
  {
   "cell_type": "code",
   "execution_count": 19,
   "id": "5bcf61b0-6d82-4978-8564-daab56dffc4f",
   "metadata": {},
   "outputs": [],
   "source": [
    "sampler = WeightedRandomSampler(weights=sample_weights, num_samples=len(train_dataset), replacement=True)"
   ]
  },
  {
   "cell_type": "code",
   "execution_count": 20,
   "id": "89f14735-b9c8-4834-9f56-adbaec4a81f5",
   "metadata": {},
   "outputs": [],
   "source": [
    "batch_size: int = 32\n",
    "\n",
    "train_loader = DataLoader(\n",
    "    train_dataset,\n",
    "    batch_size=batch_size,\n",
    "    sampler=sampler,\n",
    "    # num_workers=8,\n",
    "    # persistent_workers=True,\n",
    "    # pin_memory=True,\n",
    ")\n",
    "val_loader = DataLoader(\n",
    "    val_dataset,\n",
    "    batch_size=batch_size,\n",
    "    shuffle=False,\n",
    "    # num_workers=8,\n",
    "    # persistent_workers=True,\n",
    "    # pin_memory=True,\n",
    ")\n",
    "test_loader = DataLoader(\n",
    "    test_dataset,\n",
    "    batch_size=batch_size,\n",
    "    shuffle=False,\n",
    "    # num_workers=8,\n",
    "    # persistent_workers=True,\n",
    "    # pin_memory=True,\n",
    ")"
   ]
  },
  {
   "cell_type": "markdown",
   "id": "be9c5f07",
   "metadata": {},
   "source": [
    "# Train"
   ]
  },
  {
   "cell_type": "code",
   "execution_count": 21,
   "id": "016bee3c-a8d4-42ca-ab1e-c573433c33cc",
   "metadata": {},
   "outputs": [],
   "source": [
    "loss_epoch = []"
   ]
  },
  {
   "cell_type": "code",
   "execution_count": 22,
   "id": "586434e2-8e9b-4e1e-92b5-6a2f1d705c8b",
   "metadata": {},
   "outputs": [],
   "source": [
    "class DarknetLightning(pl.LightningModule):\n",
    "    def __init__(\n",
    "        self,\n",
    "        model,\n",
    "        criterion,\n",
    "        t_max,\n",
    "    ):\n",
    "        super().__init__()\n",
    "\n",
    "        self.model = model\n",
    "        self.criterion = criterion\n",
    "        self.t_max = t_max\n",
    "\n",
    "        self.save_hyperparameters(ignore=['model', 'criterion'])\n",
    "\n",
    "        metric = MetricCollection({'f1': F1Score(task='multiclass', num_classes=42)})\n",
    "        self.train_metric = metric.clone(prefix='train/')\n",
    "        self.valid_metric = metric.clone(prefix='valid/')\n",
    "\n",
    "    def forward(self, x: torch.Tensor) -> torch.Tensor:\n",
    "        return self.model(x)\n",
    "\n",
    "    def evaluate(self, batch, metric_func):\n",
    "        output = self.model(batch[0])\n",
    "        \n",
    "        # eval loss\n",
    "        loss = self.criterion(output, batch[1])\n",
    "\n",
    "        # eval metric\n",
    "        metric = metric_func(output.argmax(dim=-1), batch[1])\n",
    "\n",
    "        return loss, metric\n",
    "    \n",
    "    def training_step(self, batch, batch_idx):\n",
    "        train_loss, train_metric = self.evaluate(batch, self.train_metric)\n",
    "        self.log(\"train_loss\", train_loss, on_step=True, on_epoch=True, prog_bar=True, logger=True)\n",
    "        self.log_dict(train_metric, on_step=True, on_epoch=True, prog_bar=True, logger=True)\n",
    "        loss_epoch.append(train_loss.item())\n",
    "        return train_loss\n",
    "\n",
    "    def validation_step(self, batch, batch_idx):\n",
    "        valid_loss, val_metric = self.evaluate(batch, self.valid_metric)\n",
    "        self.log(\"valid_loss\", valid_loss, on_step=True, on_epoch=True, prog_bar=True, logger=True)\n",
    "        self.log_dict(val_metric, on_step=True, on_epoch=True, prog_bar=True, logger=True)\n",
    "        return valid_loss\n",
    "\n",
    "    def predict_step(self, batch, batch_idx):\n",
    "        pred = self.model(batch[0]).argmax(dim=-1)\n",
    "        return pred\n",
    "    \n",
    "    def configure_optimizers(self):\n",
    "        optimizer = torch.optim.AdamW(self.model.parameters(), 1e-3)\n",
    "        scheduler = torch.optim.lr_scheduler.CosineAnnealingLR(\n",
    "            optimizer,\n",
    "            T_max=self.t_max,\n",
    "        )\n",
    "        return [optimizer], [scheduler]"
   ]
  },
  {
   "cell_type": "code",
   "execution_count": 23,
   "id": "4ea77d7f-223b-43d3-aac7-b11c3272c193",
   "metadata": {},
   "outputs": [],
   "source": [
    "class CustomClassificationLoss(nn.Module):\n",
    "    def __init__(self):\n",
    "        super().__init__()\n",
    "        self.loss = None\n",
    "        self.criterion = nn.CrossEntropyLoss()\n",
    "\n",
    "    def forward(self, output, target):\n",
    "        self.loss = self.criterion(output, target)\n",
    "        return self.loss\n",
    "\n",
    "    def backward(self, retain_graph=True):\n",
    "        self.loss.backward(retain_graph=retain_graph)\n",
    "        return self.loss"
   ]
  },
  {
   "cell_type": "code",
   "execution_count": 24,
   "id": "f72da08e-238f-4406-959b-e0851c5b9ec9",
   "metadata": {},
   "outputs": [],
   "source": [
    "num_epochs = 15"
   ]
  },
  {
   "cell_type": "code",
   "execution_count": 25,
   "id": "5cae9245-e71b-402d-be8b-a786a7d06124",
   "metadata": {},
   "outputs": [],
   "source": [
    "criterion = CustomClassificationLoss()\n",
    "\n",
    "model = DarknetLightning(\n",
    "    model=darknet_model,\n",
    "    criterion=criterion,\n",
    "    t_max=int(len(train_dataset) / (batch_size * 2) + 1) * num_epochs,\n",
    ")"
   ]
  },
  {
   "cell_type": "code",
   "execution_count": 26,
   "id": "991d3b31-bb21-46ba-a27d-f4be65b4ed66",
   "metadata": {},
   "outputs": [
    {
     "name": "stderr",
     "output_type": "stream",
     "text": [
      "Using bfloat16 Automatic Mixed Precision (AMP)\n",
      "GPU available: True (mps), used: True\n",
      "TPU available: False, using: 0 TPU cores\n",
      "HPU available: False, using: 0 HPUs\n",
      "/Users/ruasvmv/common/lib/python3.9/site-packages/pytorch_lightning/trainer/connectors/logger_connector/logger_connector.py:76: Starting from v1.9.0, `tensorboardX` has been removed as a dependency of the `pytorch_lightning` package, due to potential conflicts with other packages in the ML ecosystem. For this reason, `logger=True` will use `CSVLogger` as the default logger, unless the `tensorboard` or `tensorboardX` packages are found. Please `pip install lightning[extra]` or one of them to enable TensorBoard support by default\n"
     ]
    }
   ],
   "source": [
    "trainer = pl.Trainer(\n",
    "    accelerator='mps',\n",
    "    # callbacks=[LogGradientNorm(), LogWeightNorm(),],\n",
    "    max_epochs=num_epochs,\n",
    "    accumulate_grad_batches=2,\n",
    "    precision=\"bf16-mixed\",\n",
    "    log_every_n_steps=1,\n",
    "    enable_checkpointing=True,\n",
    "    enable_progress_bar=True,\n",
    "    gradient_clip_val=3,\n",
    "    use_distributed_sampler=True,\n",
    ")"
   ]
  },
  {
   "cell_type": "code",
   "execution_count": 27,
   "id": "4166c1f2-3919-4da8-8c64-0f6d4a881bd5",
   "metadata": {},
   "outputs": [
    {
     "name": "stderr",
     "output_type": "stream",
     "text": [
      "\n",
      "  | Name         | Type                     | Params | Mode \n",
      "------------------------------------------------------------------\n",
      "0 | model        | Darknet53                | 40.6 M | train\n",
      "1 | criterion    | CustomClassificationLoss | 0      | train\n",
      "2 | train_metric | MetricCollection         | 0      | train\n",
      "3 | valid_metric | MetricCollection         | 0      | train\n",
      "------------------------------------------------------------------\n",
      "40.6 M    Trainable params\n",
      "0         Non-trainable params\n",
      "40.6 M    Total params\n",
      "162.512   Total estimated model params size (MB)\n",
      "320       Modules in train mode\n",
      "0         Modules in eval mode\n"
     ]
    },
    {
     "data": {
      "application/vnd.jupyter.widget-view+json": {
       "model_id": "f64db33c8b4949d586a1bf7636ee9128",
       "version_major": 2,
       "version_minor": 0
      },
      "text/plain": [
       "Sanity Checking: |                                                                                            …"
      ]
     },
     "metadata": {},
     "output_type": "display_data"
    },
    {
     "name": "stderr",
     "output_type": "stream",
     "text": [
      "/Users/ruasvmv/common/lib/python3.9/site-packages/pytorch_lightning/trainer/connectors/data_connector.py:425: The 'val_dataloader' does not have many workers which may be a bottleneck. Consider increasing the value of the `num_workers` argument` to `num_workers=9` in the `DataLoader` to improve performance.\n",
      "/Users/ruasvmv/common/lib/python3.9/site-packages/torch/amp/autocast_mode.py:265: UserWarning: User provided device_type of 'cuda', but CUDA is not available. Disabling\n",
      "  warnings.warn(\n",
      "/Users/ruasvmv/common/lib/python3.9/site-packages/pytorch_lightning/trainer/connectors/data_connector.py:425: The 'train_dataloader' does not have many workers which may be a bottleneck. Consider increasing the value of the `num_workers` argument` to `num_workers=9` in the `DataLoader` to improve performance.\n"
     ]
    },
    {
     "data": {
      "application/vnd.jupyter.widget-view+json": {
       "model_id": "0c0bc9b73d1a4d8c825272d331db5e89",
       "version_major": 2,
       "version_minor": 0
      },
      "text/plain": [
       "Training: |                                                                                                   …"
      ]
     },
     "metadata": {},
     "output_type": "display_data"
    },
    {
     "data": {
      "application/vnd.jupyter.widget-view+json": {
       "model_id": "f260130427e74188a74bf543030fa1b2",
       "version_major": 2,
       "version_minor": 0
      },
      "text/plain": [
       "Validation: |                                                                                                 …"
      ]
     },
     "metadata": {},
     "output_type": "display_data"
    },
    {
     "data": {
      "application/vnd.jupyter.widget-view+json": {
       "model_id": "ea6fb79fe04d43ad93076613792a500b",
       "version_major": 2,
       "version_minor": 0
      },
      "text/plain": [
       "Validation: |                                                                                                 …"
      ]
     },
     "metadata": {},
     "output_type": "display_data"
    },
    {
     "data": {
      "application/vnd.jupyter.widget-view+json": {
       "model_id": "80902183f43d4386a6b483b22e012f8e",
       "version_major": 2,
       "version_minor": 0
      },
      "text/plain": [
       "Validation: |                                                                                                 …"
      ]
     },
     "metadata": {},
     "output_type": "display_data"
    },
    {
     "data": {
      "application/vnd.jupyter.widget-view+json": {
       "model_id": "38495c4fd45f4be28272ae6dbc79c2b5",
       "version_major": 2,
       "version_minor": 0
      },
      "text/plain": [
       "Validation: |                                                                                                 …"
      ]
     },
     "metadata": {},
     "output_type": "display_data"
    },
    {
     "data": {
      "application/vnd.jupyter.widget-view+json": {
       "model_id": "0ff9c76a22d44e44a210f1f264e0b672",
       "version_major": 2,
       "version_minor": 0
      },
      "text/plain": [
       "Validation: |                                                                                                 …"
      ]
     },
     "metadata": {},
     "output_type": "display_data"
    },
    {
     "data": {
      "application/vnd.jupyter.widget-view+json": {
       "model_id": "41e0b011ac97416b8fe2243732686e83",
       "version_major": 2,
       "version_minor": 0
      },
      "text/plain": [
       "Validation: |                                                                                                 …"
      ]
     },
     "metadata": {},
     "output_type": "display_data"
    },
    {
     "data": {
      "application/vnd.jupyter.widget-view+json": {
       "model_id": "d8b0a654ac8d48469ec4ef98b191094b",
       "version_major": 2,
       "version_minor": 0
      },
      "text/plain": [
       "Validation: |                                                                                                 …"
      ]
     },
     "metadata": {},
     "output_type": "display_data"
    },
    {
     "data": {
      "application/vnd.jupyter.widget-view+json": {
       "model_id": "9832be9dcea14815906f530d94547364",
       "version_major": 2,
       "version_minor": 0
      },
      "text/plain": [
       "Validation: |                                                                                                 …"
      ]
     },
     "metadata": {},
     "output_type": "display_data"
    },
    {
     "data": {
      "application/vnd.jupyter.widget-view+json": {
       "model_id": "da0e0ad6f9f54084bacf776b5b3bbcd3",
       "version_major": 2,
       "version_minor": 0
      },
      "text/plain": [
       "Validation: |                                                                                                 …"
      ]
     },
     "metadata": {},
     "output_type": "display_data"
    },
    {
     "data": {
      "application/vnd.jupyter.widget-view+json": {
       "model_id": "195bf61ba7b54ea494b7f421228dec09",
       "version_major": 2,
       "version_minor": 0
      },
      "text/plain": [
       "Validation: |                                                                                                 …"
      ]
     },
     "metadata": {},
     "output_type": "display_data"
    },
    {
     "data": {
      "application/vnd.jupyter.widget-view+json": {
       "model_id": "2b5585be057f4df0a788c0a2aaaf0c57",
       "version_major": 2,
       "version_minor": 0
      },
      "text/plain": [
       "Validation: |                                                                                                 …"
      ]
     },
     "metadata": {},
     "output_type": "display_data"
    },
    {
     "data": {
      "application/vnd.jupyter.widget-view+json": {
       "model_id": "9b2f474bd2ae4f9dbb5ec23fe42c1898",
       "version_major": 2,
       "version_minor": 0
      },
      "text/plain": [
       "Validation: |                                                                                                 …"
      ]
     },
     "metadata": {},
     "output_type": "display_data"
    },
    {
     "data": {
      "application/vnd.jupyter.widget-view+json": {
       "model_id": "fa242c3d377840c69bf22a5b191ec9af",
       "version_major": 2,
       "version_minor": 0
      },
      "text/plain": [
       "Validation: |                                                                                                 …"
      ]
     },
     "metadata": {},
     "output_type": "display_data"
    },
    {
     "data": {
      "application/vnd.jupyter.widget-view+json": {
       "model_id": "e42c50d873e646649fe04a575e87acee",
       "version_major": 2,
       "version_minor": 0
      },
      "text/plain": [
       "Validation: |                                                                                                 …"
      ]
     },
     "metadata": {},
     "output_type": "display_data"
    },
    {
     "data": {
      "application/vnd.jupyter.widget-view+json": {
       "model_id": "0960c399449e442f9daa25ca1be1ed11",
       "version_major": 2,
       "version_minor": 0
      },
      "text/plain": [
       "Validation: |                                                                                                 …"
      ]
     },
     "metadata": {},
     "output_type": "display_data"
    },
    {
     "name": "stderr",
     "output_type": "stream",
     "text": [
      "`Trainer.fit` stopped: `max_epochs=15` reached.\n"
     ]
    }
   ],
   "source": [
    "trainer.fit(\n",
    "    model,\n",
    "    train_dataloaders=train_loader,\n",
    "    val_dataloaders=val_loader,\n",
    ")"
   ]
  },
  {
   "cell_type": "code",
   "execution_count": 28,
   "id": "55022fb6-e8e8-4ba4-acff-b83028755b28",
   "metadata": {},
   "outputs": [
    {
     "data": {
      "text/plain": [
       "<Axes: >"
      ]
     },
     "execution_count": 28,
     "metadata": {},
     "output_type": "execute_result"
    },
    {
     "data": {
      "image/png": "[encoded data removed]",
      "text/plain": [
       "<Figure size 640x480 with 1 Axes>"
      ]
     },
     "metadata": {},
     "output_type": "display_data"
    }
   ],
   "source": [
    "sns.scatterplot(loss_epoch)"
   ]
  },
  {
   "cell_type": "code",
   "execution_count": 29,
   "id": "9d84a3f2-4b6d-46fe-8d3e-5e19b4416fd6",
   "metadata": {},
   "outputs": [
    {
     "name": "stderr",
     "output_type": "stream",
     "text": [
      "/Users/ruasvmv/common/lib/python3.9/site-packages/pytorch_lightning/trainer/connectors/data_connector.py:425: The 'predict_dataloader' does not have many workers which may be a bottleneck. Consider increasing the value of the `num_workers` argument` to `num_workers=9` in the `DataLoader` to improve performance.\n"
     ]
    },
    {
     "data": {
      "application/vnd.jupyter.widget-view+json": {
       "model_id": "4e582ea3d6ca4601a75fe80e9e6b7196",
       "version_major": 2,
       "version_minor": 0
      },
      "text/plain": [
       "Predicting: |                                                                                                 …"
      ]
     },
     "metadata": {},
     "output_type": "display_data"
    },
    {
     "name": "stderr",
     "output_type": "stream",
     "text": [
      "/Users/ruasvmv/common/lib/python3.9/site-packages/torch/amp/autocast_mode.py:265: UserWarning: User provided device_type of 'cuda', but CUDA is not available. Disabling\n",
      "  warnings.warn(\n"
     ]
    }
   ],
   "source": [
    "predictions = trainer.predict(model, dataloaders=test_loader)"
   ]
  },
  {
   "cell_type": "code",
   "execution_count": 30,
   "id": "e23aec5a-c2be-49d8-9c62-0455eed92b2c",
   "metadata": {},
   "outputs": [],
   "source": [
    "labels = []\n",
    "for pred in predictions:\n",
    "    labels += pred.detach().numpy().tolist()"
   ]
  },
  {
   "cell_type": "code",
   "execution_count": 31,
   "id": "88af2f89-35bb-42ca-8459-9583ef23d134",
   "metadata": {},
   "outputs": [],
   "source": [
    "idx_to_class = {v: k for k, v in train_dataset.dataset.class_to_idx.items()}"
   ]
  },
  {
   "cell_type": "code",
   "execution_count": 32,
   "id": "ad7aab6f-c887-4aef-b20e-175443c686a7",
   "metadata": {},
   "outputs": [],
   "source": [
    "submit = pd.read_csv('~/Downloads/journey-springfield/sample_submission.csv')"
   ]
  },
  {
   "cell_type": "code",
   "execution_count": 33,
   "id": "db3b50cc-ee4e-4c6e-9d05-54f1b51bebdc",
   "metadata": {},
   "outputs": [],
   "source": [
    "names = []\n",
    "for path, _ in test_dataset.samples:\n",
    "    names.append(path.split('/')[-1])"
   ]
  },
  {
   "cell_type": "code",
   "execution_count": 34,
   "id": "d7d29722-e4b7-49db-a635-e224648b097c",
   "metadata": {},
   "outputs": [],
   "source": [
    "submit['Expected'] = [idx_to_class[i] for i in labels]\n",
    "submit['Id'] = names"
   ]
  },
  {
   "cell_type": "code",
   "execution_count": 35,
   "id": "8b489008-ee26-4bd2-b7ba-84aeeb4f6c14",
   "metadata": {},
   "outputs": [],
   "source": [
    "submit.to_csv('sol_6.csv', index=False)"
   ]
  },
  {
   "cell_type": "code",
   "execution_count": 36,
   "id": "c8f507c6-f1f1-4e2a-a1c2-687db61cdf3f",
   "metadata": {},
   "outputs": [
    {
     "data": {
      "text/html": [
       "<div>\n",
       "<style scoped>\n",
       "    .dataframe tbody tr th:only-of-type {\n",
       "        vertical-align: middle;\n",
       "    }\n",
       "\n",
       "    .dataframe tbody tr th {\n",
       "        vertical-align: top;\n",
       "    }\n",
       "\n",
       "    .dataframe thead th {\n",
       "        text-align: right;\n",
       "    }\n",
       "</style>\n",
       "<table border=\"1\" class=\"dataframe\">\n",
       "  <thead>\n",
       "    <tr style=\"text-align: right;\">\n",
       "      <th></th>\n",
       "      <th>Id</th>\n",
       "      <th>Expected</th>\n",
       "    </tr>\n",
       "  </thead>\n",
       "  <tbody>\n",
       "    <tr>\n",
       "      <th>0</th>\n",
       "      <td>img0.jpg</td>\n",
       "      <td>nelson_muntz</td>\n",
       "    </tr>\n",
       "    <tr>\n",
       "      <th>1</th>\n",
       "      <td>img1.jpg</td>\n",
       "      <td>bart_simpson</td>\n",
       "    </tr>\n",
       "    <tr>\n",
       "      <th>2</th>\n",
       "      <td>img10.jpg</td>\n",
       "      <td>ned_flanders</td>\n",
       "    </tr>\n",
       "    <tr>\n",
       "      <th>3</th>\n",
       "      <td>img100.jpg</td>\n",
       "      <td>chief_wiggum</td>\n",
       "    </tr>\n",
       "    <tr>\n",
       "      <th>4</th>\n",
       "      <td>img101.jpg</td>\n",
       "      <td>apu_nahasapeemapetilon</td>\n",
       "    </tr>\n",
       "    <tr>\n",
       "      <th>...</th>\n",
       "      <td>...</td>\n",
       "      <td>...</td>\n",
       "    </tr>\n",
       "    <tr>\n",
       "      <th>986</th>\n",
       "      <td>img987.jpg</td>\n",
       "      <td>nelson_muntz</td>\n",
       "    </tr>\n",
       "    <tr>\n",
       "      <th>987</th>\n",
       "      <td>img988.jpg</td>\n",
       "      <td>maggie_simpson</td>\n",
       "    </tr>\n",
       "    <tr>\n",
       "      <th>988</th>\n",
       "      <td>img989.jpg</td>\n",
       "      <td>charles_montgomery_burns</td>\n",
       "    </tr>\n",
       "    <tr>\n",
       "      <th>989</th>\n",
       "      <td>img99.jpg</td>\n",
       "      <td>chief_wiggum</td>\n",
       "    </tr>\n",
       "    <tr>\n",
       "      <th>990</th>\n",
       "      <td>img990.jpg</td>\n",
       "      <td>krusty_the_clown</td>\n",
       "    </tr>\n",
       "  </tbody>\n",
       "</table>\n",
       "<p>991 rows × 2 columns</p>\n",
       "</div>"
      ],
      "text/plain": [
       "             Id                  Expected\n",
       "0      img0.jpg              nelson_muntz\n",
       "1      img1.jpg              bart_simpson\n",
       "2     img10.jpg              ned_flanders\n",
       "3    img100.jpg              chief_wiggum\n",
       "4    img101.jpg    apu_nahasapeemapetilon\n",
       "..          ...                       ...\n",
       "986  img987.jpg              nelson_muntz\n",
       "987  img988.jpg            maggie_simpson\n",
       "988  img989.jpg  charles_montgomery_burns\n",
       "989   img99.jpg              chief_wiggum\n",
       "990  img990.jpg          krusty_the_clown\n",
       "\n",
       "[991 rows x 2 columns]"
      ]
     },
     "execution_count": 36,
     "metadata": {},
     "output_type": "execute_result"
    }
   ],
   "source": [
    "submit"
   ]
  },
  {
   "cell_type": "code",
   "execution_count": null,
   "id": "24634111-8e44-45dc-8d6f-ab00bc0b6168",
   "metadata": {},
   "outputs": [],
   "source": []
  }
 ],
 "metadata": {
  "kernelspec": {
   "display_name": "Python 3 (ipykernel)",
   "language": "python",
   "name": "python3"
  },
  "language_info": {
   "codemirror_mode": {
    "name": "ipython",
    "version": 3
   },
   "file_extension": ".py",
   "mimetype": "text/x-python",
   "name": "python",
   "nbconvert_exporter": "python",
   "pygments_lexer": "ipython3",
   "version": "3.9.6"
  }
 },
 "nbformat": 4,
 "nbformat_minor": 5
}
