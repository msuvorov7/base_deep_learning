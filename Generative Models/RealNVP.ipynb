{
  "cells": [
    {
      "cell_type": "code",
      "execution_count": 1,
      "id": "e4069f17",
      "metadata": {
        "id": "e4069f17"
      },
      "outputs": [],
      "source": [
        "import sys\n",
        "import logging"
      ]
    },
    {
      "cell_type": "code",
      "execution_count": 2,
      "id": "66661a45",
      "metadata": {
        "id": "66661a45"
      },
      "outputs": [],
      "source": [
        "import numpy as np\n",
        "import matplotlib.pyplot as plt\n",
        "from tqdm import tqdm\n",
        "from IPython.display import clear_output"
      ]
    },
    {
      "cell_type": "code",
      "execution_count": 3,
      "id": "f8e8e083",
      "metadata": {
        "id": "f8e8e083"
      },
      "outputs": [],
      "source": [
        "import torch\n",
        "import torch.nn as nn\n",
        "import torch.nn.functional as F"
      ]
    },
    {
      "cell_type": "code",
      "execution_count": 4,
      "id": "86493808",
      "metadata": {
        "id": "86493808"
      },
      "outputs": [],
      "source": [
        "from torch.utils.data import DataLoader"
      ]
    },
    {
      "cell_type": "code",
      "execution_count": 5,
      "id": "c08350b2",
      "metadata": {
        "id": "c08350b2"
      },
      "outputs": [],
      "source": [
        "import torchvision\n",
        "from torchvision import datasets\n",
        "from torchvision.utils import make_grid"
      ]
    },
    {
      "cell_type": "code",
      "execution_count": 6,
      "id": "8071b01f",
      "metadata": {
        "id": "8071b01f"
      },
      "outputs": [],
      "source": [
        "logging.basicConfig(\n",
        "    level=logging.INFO,\n",
        "    format=\"%(asctime)s - %(name)s - %(levelname)s - %(message)s\",\n",
        "    handlers=[logging.StreamHandler(sys.stdout)],\n",
        ")"
      ]
    },
    {
      "cell_type": "markdown",
      "id": "35a0e49e",
      "metadata": {
        "id": "35a0e49e"
      },
      "source": [
        "# Data Load"
      ]
    },
    {
      "cell_type": "markdown",
      "id": "5a51b188",
      "metadata": {
        "id": "5a51b188"
      },
      "source": [
        "Поток работает с непрерывними данными. Если данные дискретные, нужна деквантизация"
      ]
    },
    {
      "cell_type": "code",
      "execution_count": 7,
      "id": "f93bbac1",
      "metadata": {
        "id": "f93bbac1",
        "colab": {
          "base_uri": "https://localhost:8080/"
        },
        "outputId": "505dc5f6-310d-467a-f65c-69266811e1c5"
      },
      "outputs": [
        {
          "output_type": "stream",
          "name": "stdout",
          "text": [
            "Downloading http://yann.lecun.com/exdb/mnist/train-images-idx3-ubyte.gz\n",
            "Failed to download (trying next):\n",
            "HTTP Error 403: Forbidden\n",
            "\n",
            "Downloading https://ossci-datasets.s3.amazonaws.com/mnist/train-images-idx3-ubyte.gz\n",
            "Downloading https://ossci-datasets.s3.amazonaws.com/mnist/train-images-idx3-ubyte.gz to data/MNIST/raw/train-images-idx3-ubyte.gz\n"
          ]
        },
        {
          "output_type": "stream",
          "name": "stderr",
          "text": [
            "100%|██████████| 9912422/9912422 [00:00<00:00, 34984257.35it/s]\n"
          ]
        },
        {
          "output_type": "stream",
          "name": "stdout",
          "text": [
            "Extracting data/MNIST/raw/train-images-idx3-ubyte.gz to data/MNIST/raw\n",
            "\n",
            "Downloading http://yann.lecun.com/exdb/mnist/train-labels-idx1-ubyte.gz\n",
            "Failed to download (trying next):\n",
            "HTTP Error 403: Forbidden\n",
            "\n",
            "Downloading https://ossci-datasets.s3.amazonaws.com/mnist/train-labels-idx1-ubyte.gz\n",
            "Downloading https://ossci-datasets.s3.amazonaws.com/mnist/train-labels-idx1-ubyte.gz to data/MNIST/raw/train-labels-idx1-ubyte.gz\n"
          ]
        },
        {
          "output_type": "stream",
          "name": "stderr",
          "text": [
            "100%|██████████| 28881/28881 [00:00<00:00, 1171706.39it/s]"
          ]
        },
        {
          "output_type": "stream",
          "name": "stdout",
          "text": [
            "Extracting data/MNIST/raw/train-labels-idx1-ubyte.gz to data/MNIST/raw\n",
            "\n",
            "Downloading http://yann.lecun.com/exdb/mnist/t10k-images-idx3-ubyte.gz\n"
          ]
        },
        {
          "output_type": "stream",
          "name": "stderr",
          "text": [
            "\n"
          ]
        },
        {
          "output_type": "stream",
          "name": "stdout",
          "text": [
            "Failed to download (trying next):\n",
            "HTTP Error 403: Forbidden\n",
            "\n",
            "Downloading https://ossci-datasets.s3.amazonaws.com/mnist/t10k-images-idx3-ubyte.gz\n",
            "Downloading https://ossci-datasets.s3.amazonaws.com/mnist/t10k-images-idx3-ubyte.gz to data/MNIST/raw/t10k-images-idx3-ubyte.gz\n"
          ]
        },
        {
          "output_type": "stream",
          "name": "stderr",
          "text": [
            "100%|██████████| 1648877/1648877 [00:00<00:00, 9658648.01it/s]\n"
          ]
        },
        {
          "output_type": "stream",
          "name": "stdout",
          "text": [
            "Extracting data/MNIST/raw/t10k-images-idx3-ubyte.gz to data/MNIST/raw\n",
            "\n",
            "Downloading http://yann.lecun.com/exdb/mnist/t10k-labels-idx1-ubyte.gz\n",
            "Failed to download (trying next):\n",
            "HTTP Error 403: Forbidden\n",
            "\n",
            "Downloading https://ossci-datasets.s3.amazonaws.com/mnist/t10k-labels-idx1-ubyte.gz\n",
            "Downloading https://ossci-datasets.s3.amazonaws.com/mnist/t10k-labels-idx1-ubyte.gz to data/MNIST/raw/t10k-labels-idx1-ubyte.gz\n"
          ]
        },
        {
          "output_type": "stream",
          "name": "stderr",
          "text": [
            "100%|██████████| 4542/4542 [00:00<00:00, 10058357.32it/s]\n"
          ]
        },
        {
          "output_type": "stream",
          "name": "stdout",
          "text": [
            "Extracting data/MNIST/raw/t10k-labels-idx1-ubyte.gz to data/MNIST/raw\n",
            "\n"
          ]
        }
      ],
      "source": [
        "train_dataset = datasets.MNIST(\n",
        "    root='data',\n",
        "    train=True,\n",
        "    transform=torchvision.transforms.Compose([\n",
        "        torchvision.transforms.ToTensor(),\n",
        "        torchvision.transforms.Lambda(lambda x: torch.round(x)),\n",
        "    ]),\n",
        "    download=True,\n",
        ")"
      ]
    },
    {
      "cell_type": "code",
      "execution_count": 8,
      "id": "f3e119c2",
      "metadata": {
        "id": "f3e119c2"
      },
      "outputs": [],
      "source": [
        "test_dataset = datasets.MNIST(\n",
        "    root='data',\n",
        "    train=False,\n",
        "    transform=torchvision.transforms.Compose([\n",
        "        torchvision.transforms.ToTensor(),\n",
        "        torchvision.transforms.Lambda(lambda x: torch.round(x)),\n",
        "    ]),\n",
        "    download=False,\n",
        ")"
      ]
    },
    {
      "cell_type": "code",
      "execution_count": 9,
      "id": "9fbbe24f",
      "metadata": {
        "colab": {
          "base_uri": "https://localhost:8080/"
        },
        "id": "9fbbe24f",
        "outputId": "563b4c31-9578-4bc8-ecdb-aaa81ccc5aed"
      },
      "outputs": [
        {
          "output_type": "execute_result",
          "data": {
            "text/plain": [
              "(60000, 10000)"
            ]
          },
          "metadata": {},
          "execution_count": 9
        }
      ],
      "source": [
        "len(train_dataset), len(test_dataset)"
      ]
    },
    {
      "cell_type": "code",
      "execution_count": 10,
      "id": "c1275ea8",
      "metadata": {
        "colab": {
          "base_uri": "https://localhost:8080/",
          "height": 310
        },
        "id": "c1275ea8",
        "outputId": "4f94d1e4-ef81-48e7-f3ec-9265b1c5db3a"
      },
      "outputs": [
        {
          "output_type": "execute_result",
          "data": {
            "text/plain": [
              "<matplotlib.image.AxesImage at 0x7d4656594970>"
            ]
          },
          "metadata": {},
          "execution_count": 10
        },
        {
          "output_type": "display_data",
          "data": {
            "text/plain": [
              "<Figure size 300x300 with 1 Axes>"
            ],
            "image/png": "[encoded data removed]"
          },
          "metadata": {}
        }
      ],
      "source": [
        "plt.figure(figsize=(3,3))\n",
        "plt.imshow(train_dataset[10][0].detach().cpu().numpy()[0], cmap='gray')"
      ]
    },
    {
      "cell_type": "code",
      "execution_count": 11,
      "id": "ffe007b3",
      "metadata": {
        "colab": {
          "base_uri": "https://localhost:8080/"
        },
        "id": "ffe007b3",
        "outputId": "3a40942f-3ac6-4820-8494-ab47ac1fca43"
      },
      "outputs": [
        {
          "output_type": "stream",
          "name": "stderr",
          "text": [
            "/usr/local/lib/python3.10/dist-packages/torch/utils/data/dataloader.py:558: UserWarning: This DataLoader will create 4 worker processes in total. Our suggested max number of worker in current system is 2, which is smaller than what this DataLoader is going to create. Please be aware that excessive worker creation might get DataLoader running slow or even freeze, lower the worker number to avoid potential slowness/freeze if necessary.\n",
            "  warnings.warn(_create_warning_msg(\n"
          ]
        }
      ],
      "source": [
        "train_loader = DataLoader(\n",
        "    train_dataset,\n",
        "    batch_size=64,\n",
        "    shuffle=True,\n",
        "    drop_last=True,\n",
        "    num_workers=2,\n",
        "    pin_memory=True,\n",
        ")\n",
        "test_loader = DataLoader(\n",
        "    test_dataset,\n",
        "    batch_size=64,\n",
        "    shuffle=False,\n",
        "    drop_last=True,\n",
        "    num_workers=4,\n",
        ")"
      ]
    },
    {
      "cell_type": "code",
      "execution_count": 12,
      "id": "0511db7c",
      "metadata": {
        "colab": {
          "base_uri": "https://localhost:8080/"
        },
        "id": "0511db7c",
        "outputId": "a6e30851-843d-48bf-f3da-1d028002c356"
      },
      "outputs": [
        {
          "output_type": "stream",
          "name": "stdout",
          "text": [
            "torch.Size([64, 1, 28, 28])\n",
            "torch.Size([64])\n"
          ]
        }
      ],
      "source": [
        "for batch in train_loader:\n",
        "    data, labels = batch\n",
        "    print(data.shape)\n",
        "    print(labels.shape)\n",
        "    break"
      ]
    },
    {
      "cell_type": "markdown",
      "id": "4c100d2f",
      "metadata": {
        "id": "4c100d2f"
      },
      "source": [
        "# Model"
      ]
    },
    {
      "cell_type": "code",
      "execution_count": 13,
      "id": "1bc7284a",
      "metadata": {
        "id": "1bc7284a"
      },
      "outputs": [],
      "source": [
        "class WeightNormConv2d(nn.Module):\n",
        "    def __init__(\n",
        "        self,\n",
        "        in_channels: int,\n",
        "        out_channels: int,\n",
        "        kernel_size: int,\n",
        "        padding: int\n",
        "    ):\n",
        "        super(WeightNormConv2d, self).__init__()\n",
        "        self.conv = nn.utils.weight_norm(\n",
        "            nn.Conv2d(\n",
        "                in_channels=in_channels,\n",
        "                out_channels=out_channels,\n",
        "                kernel_size=kernel_size,\n",
        "                padding=padding\n",
        "            )\n",
        "        )\n",
        "\n",
        "    def forward(self, x):\n",
        "        return self.conv(x)"
      ]
    },
    {
      "cell_type": "code",
      "source": [
        "class ResidualBlock(nn.Module):\n",
        "    def __init__(\n",
        "        self,\n",
        "        in_channels: int,\n",
        "        out_channels: int,\n",
        "    ):\n",
        "        super(ResidualBlock, self).__init__()\n",
        "\n",
        "        self.model = nn.Sequential(\n",
        "            WeightNormConv2d(in_channels, out_channels, kernel_size=1, padding=0),\n",
        "            nn.ReLU(),\n",
        "            WeightNormConv2d(in_channels, out_channels, kernel_size=3, padding=1),\n",
        "            nn.ReLU(),\n",
        "            WeightNormConv2d(in_channels, out_channels, kernel_size=1, padding=0),\n",
        "            nn.ReLU(),\n",
        "        )\n",
        "\n",
        "    def forward(self, x: torch.Tensor) -> torch.Tensor:\n",
        "        return self.model(x) + x\n",
        "\n",
        "class ResidualModel(nn.Module):\n",
        "    def __init__(\n",
        "        self,\n",
        "        in_channels: int,\n",
        "        out_channels: int,\n",
        "        n_filters: int = 64,\n",
        "        n_blocks: int = 6\n",
        "    ):\n",
        "        super(ResidualModel, self).__init__()\n",
        "        model = [\n",
        "            WeightNormConv2d(in_channels, n_filters, kernel_size=3, padding=1),\n",
        "            nn.ReLU(),\n",
        "        ]\n",
        "        model += [\n",
        "            ResidualBlock(n_filters, n_filters) for _ in range(n_blocks)\n",
        "        ]\n",
        "        model += [\n",
        "            WeightNormConv2d(n_filters, out_channels, kernel_size=3, padding=1),\n",
        "        ]\n",
        "        self.model = nn.Sequential(*model)\n",
        "\n",
        "    def forward(self, x: torch.Tensor) -> torch.Tensor:\n",
        "        return self.model(x)"
      ],
      "metadata": {
        "id": "eBmvrAZc4gOS"
      },
      "id": "eBmvrAZc4gOS",
      "execution_count": 14,
      "outputs": []
    },
    {
      "cell_type": "code",
      "execution_count": 27,
      "id": "102d7595",
      "metadata": {
        "id": "102d7595"
      },
      "outputs": [],
      "source": [
        "class AffineCheckerboardCouplingLayer(nn.Module):\n",
        "    def __init__(\n",
        "        self,\n",
        "        parity_type: bool,\n",
        "        input_shape: tuple,\n",
        "        in_channels: int = 3,\n",
        "        n_filters: int = 64,\n",
        "        n_blocks: int = 6\n",
        "    ):\n",
        "        super(AffineCheckerboardCouplingLayer, self).__init__()\n",
        "        self.input_shape = input_shape\n",
        "        self.parity_type = parity_type\n",
        "        self.mask = self.build_mask(self.input_shape, self.parity_type).to(device)\n",
        "\n",
        "        self.scale = nn.Parameter(torch.ones(1), requires_grad=True)\n",
        "        self.scale_shift = nn.Parameter(torch.zeros(1), requires_grad=True)\n",
        "\n",
        "        out_channels = 2 * in_channels  # for s(.) and t(.)\n",
        "        self.resnet = ResidualModel(in_channels, out_channels, n_filters, n_blocks)\n",
        "\n",
        "    @staticmethod\n",
        "    def build_mask(input_shape, parity_type) -> torch.Tensor:\n",
        "        mask = np.indices(input_shape).sum(axis=0) % 2\n",
        "        parity_mask = (parity_type ^ mask).reshape(1, 1, *input_shape)\n",
        "        return torch.tensor(parity_mask, dtype=torch.float32)\n",
        "\n",
        "    def forward(self, x: torch.Tensor):\n",
        "        batch_size, n_channels, _, _ = x.shape\n",
        "        mask = self.mask.repeat(batch_size, 1, 1, 1)\n",
        "\n",
        "        s, t = self.resnet(x*mask).chunk(2, dim=1)\n",
        "\n",
        "        s = self.scale * torch.tanh(s) + self.scale_shift\n",
        "        t = t * (1.0 - mask)\n",
        "        s = s * (1.0 - mask)\n",
        "\n",
        "        # apply forward transform\n",
        "        z = x * s.exp() + t\n",
        "        return z, s\n",
        "\n",
        "    def backward(self, z: torch.Tensor):\n",
        "        batch_size, n_channels, _, _ = z.shape\n",
        "        mask = self.mask.repeat(batch_size, 1, 1, 1)\n",
        "\n",
        "        s, t = self.resnet(z*mask).chunk(2, dim=1)\n",
        "\n",
        "        s = self.scale * torch.tanh(s) + self.scale_shift\n",
        "        t = t * (1.0 - mask)\n",
        "        s = s * (1.0 - mask)\n",
        "\n",
        "        # apply inverse transform\n",
        "        x = (z - t) * torch.exp(-s)\n",
        "        return x"
      ]
    },
    {
      "cell_type": "code",
      "execution_count": 28,
      "id": "fcc9146a",
      "metadata": {
        "id": "fcc9146a"
      },
      "outputs": [],
      "source": [
        "class AffineChannelCouplingLayer(nn.Module):\n",
        "    def __init__(\n",
        "        self,\n",
        "        parity_type: bool,\n",
        "        in_channels: int = 12,\n",
        "        n_filters: int = 64,\n",
        "        n_blocks: int = 6\n",
        "    ):\n",
        "        super(AffineChannelCouplingLayer, self).__init__()\n",
        "        self.parity_type = parity_type\n",
        "        self.scale = nn.Parameter(torch.ones(1), requires_grad=True)\n",
        "        self.scale_shift = nn.Parameter(torch.zeros(1), requires_grad=True)\n",
        "\n",
        "        # define resnet that will output s() and t()\n",
        "        self.resnet = ResidualModel(in_channels, 2 * in_channels, n_filters, n_blocks)\n",
        "\n",
        "\n",
        "    def forward(self, x: torch.Tensor):\n",
        "        N, C, H, W = x.shape\n",
        "\n",
        "        # 1) split x to two equal parts by channel dimension (dim=1)\n",
        "        # 2) apply resnet to one of this part\n",
        "        # 3) split resnet output to get s and t\n",
        "\n",
        "        first_channels, second_channels = torch.chunk(x, 2, dim=1)\n",
        "\n",
        "        if self.parity_type:\n",
        "            s, t = self.resnet(first_channels).chunk(2, dim=1)\n",
        "            s = self.scale * torch.tanh(s) + self.scale_shift\n",
        "\n",
        "            z = torch.cat([first_channels, second_channels * s.exp() + t], dim=1)\n",
        "            jacobian = torch.cat([torch.zeros_like(s), s], dim=1)\n",
        "        else:\n",
        "            s, t = self.resnet(second_channels).chunk(2, dim=1)\n",
        "            s = self.scale * torch.tanh(s) + self.scale_shift\n",
        "\n",
        "            z = torch.cat([first_channels * s.exp() + t, second_channels], dim=1)\n",
        "            jacobian = torch.cat([s, torch.zeros_like(s)], dim=1)\n",
        "\n",
        "        return z, jacobian\n",
        "\n",
        "    def backward(self, z: torch.Tensor):\n",
        "        N, C, H, W = z.shape\n",
        "\n",
        "        # 1) split x to two equal parts by channel dimension (dim=1)\n",
        "        # 2) apply resnet to one of this part\n",
        "        # 3) split resnet output to get s and t\n",
        "\n",
        "        first_channels, second_channels = torch.chunk(z, 2, dim=1)\n",
        "\n",
        "        if self.parity_type:\n",
        "            s, t = self.resnet(first_channels).chunk(2, dim=1)\n",
        "            s = self.scale * torch.tanh(s) + self.scale_shift\n",
        "\n",
        "            x = torch.cat([first_channels, (second_channels - t) * torch.exp(-s)], dim=1)\n",
        "        else:\n",
        "            s, t = self.resnet(second_channels).chunk(2, dim=1)\n",
        "            s = self.scale * torch.tanh(s) + self.scale_shift\n",
        "\n",
        "            x = torch.cat([(first_channels - t) * torch.exp(-s), second_channels], dim=1)\n",
        "\n",
        "        return x"
      ]
    },
    {
      "cell_type": "code",
      "execution_count": 29,
      "id": "294e63ed",
      "metadata": {
        "id": "294e63ed"
      },
      "outputs": [],
      "source": [
        "class ActNormLayer(nn.Module):\n",
        "    def __init__(\n",
        "        self,\n",
        "        n_channels: int\n",
        "    ):\n",
        "        super(ActNormLayer, self).__init__()\n",
        "        self.log_std = nn.Parameter(torch.zeros(1, n_channels, 1, 1), requires_grad=True)\n",
        "        self.mean = nn.Parameter(torch.zeros(1, n_channels, 1, 1), requires_grad=True)\n",
        "        self.initialized = False\n",
        "\n",
        "    def forward(self, x: torch.Tensor) -> torch.Tensor:\n",
        "        if not self.initialized:\n",
        "            with torch.no_grad():\n",
        "                x_mean = x.mean(dim=[0, 2, 3], keepdim=True)\n",
        "                variance = ((x - x_mean) ** 2).mean(dim=(0, 2, 3), keepdim=True)\n",
        "                log_std = torch.log(torch.sqrt(variance))\n",
        "\n",
        "                self.mean.data.copy_(-x_mean.data)\n",
        "                self.log_std.data.copy_(-log_std.data)\n",
        "\n",
        "            self.initialized = True\n",
        "        return (x + self.mean) * torch.exp(self.log_std), self.log_std\n",
        "\n",
        "    def backward(self, z: torch.Tensor) -> torch.Tensor:\n",
        "        return z * torch.exp(-self.log_std) - self.mean"
      ]
    },
    {
      "cell_type": "markdown",
      "source": [
        "Проблема, которую нужно здесь рассмотреть, — это ограниченность области изображений. Для модели более естественно подходить к данным из диапазона $(-\\infty, +\\infty)$.\n",
        "\n",
        "Самый естественный способ преобразовать диапазон $(-\\infty, +\\infty)$ в $[0, 1]$ — применить сигмоиду. Но здесь понадобится обратное преобразование из диапазона [0, 1] (это нормализованные деквантованные изображения) в $(-\\infty, +\\infty)$. Поэтому нужно применить обратную сигмоидную функцию. Эта функция называется логит:\n",
        "\n",
        "$$\n",
        "    \\text{logit}(x) = \\log \\left( \\frac{x}{1 - x} \\right) = \\log (x) - \\log (1 - x).\n",
        "$$\n",
        "\n",
        "Чтобы сделать преобразование стабильным, общепринятой практикой является сначала преобразовать диапазон [0, 1] в $[\\alpha, 1 - \\alpha]$:\n",
        "\n",
        "$$\n",
        "    \\text{logit}(x) = \\log (y) - \\log (1 - y), \\quad \\text{where } y = \\alpha + (1 - 2 * \\alpha) * x.\n",
        "$$\n",
        "\n",
        "Также для этого преобразования понадобится логарифм якобиана."
      ],
      "metadata": {
        "id": "QvA3fB1szITM"
      },
      "id": "QvA3fB1szITM"
    },
    {
      "cell_type": "code",
      "source": [
        "def dequantize(x: torch.Tensor, nbins: int = 256) -> torch.Tensor:\n",
        "    return (\n",
        "        x * (nbins - 1) + torch.distributions.Uniform(0.0, 1.0).sample(x.shape).to(x.device)\n",
        "    ) / nbins"
      ],
      "metadata": {
        "id": "27FYBm8Lysvt"
      },
      "id": "27FYBm8Lysvt",
      "execution_count": 30,
      "outputs": []
    },
    {
      "cell_type": "code",
      "execution_count": 31,
      "id": "6a035c4d",
      "metadata": {
        "id": "6a035c4d"
      },
      "outputs": [],
      "source": [
        "class LogitTransform(nn.Module):\n",
        "    \"\"\"\n",
        "    Transformation [0, 1] -> [alpha, 1 - alpha] -> [-inf, +inf]\n",
        "    \"\"\"\n",
        "    def __init__(\n",
        "        self,\n",
        "        alpha: float = 0.05,\n",
        "        dequantize: bool = True,\n",
        "        nbins: int = 256\n",
        "    ):\n",
        "        super(LogitTransform, self).__init__()\n",
        "        self.alpha = alpha\n",
        "        self.dequantize = dequantize\n",
        "        self.nbins = nbins\n",
        "\n",
        "    def forward(self, x: torch.Tensor):\n",
        "        if self.dequantize:\n",
        "            x = dequantize(x, nbins=self.nbins)\n",
        "        # 1) scale the data to [alpha, 1 - alpha] range -> x_scaled\n",
        "        # 2) apply logit operation -> x\n",
        "        x_scaled = self.alpha + (1 - 2 * self.alpha) * x\n",
        "        x = torch.log(x_scaled) - torch.log(1.0 - x_scaled)\n",
        "\n",
        "        # dF(y)/dx = dF(y)/dx * dy/dx = (1 - 2 * alpha) / (y * (1 - y))\n",
        "        # F(y) = log(y) - log(1 - y)\n",
        "        # y = alpha + (1 - 2 * alpha) * x\n",
        "        log_det = - torch.log(x_scaled) - torch.log(1.0 - x_scaled) + torch.log(torch.tensor(1 - 2 * self.alpha))\n",
        "\n",
        "        return x, log_det\n",
        "\n",
        "    def backward(self, z: torch.Tensor) -> torch.Tensor:\n",
        "        x = (torch.sigmoid(z) - self.alpha) / (1 - 2 * self.alpha)\n",
        "        # log_det = - x - 2 * F.softplus(-x) - torch.log(torch.tensor(1 - 2 *  self.alpha))\n",
        "        return x"
      ]
    },
    {
      "cell_type": "code",
      "source": [
        "class Squeeze(nn.Module):\n",
        "    def __init__(self):\n",
        "        super(Squeeze, self).__init__()\n",
        "\n",
        "    def forward(self, x: torch.Tensor) -> torch.Tensor:\n",
        "        N, C, H, W = x.shape\n",
        "        x = x.reshape(N, C, H // 2, 2, W // 2, 2)\n",
        "        x = x.permute(0, 1, 3, 5, 2, 4).contiguous()\n",
        "        return x.reshape(N, 4 * C, H // 2, W // 2)\n",
        "\n",
        "    def backward(self, z: torch.Tensor) -> torch.Tensor:\n",
        "        return Unsqueeze()(z)"
      ],
      "metadata": {
        "id": "SF8DKTZy4xkZ"
      },
      "id": "SF8DKTZy4xkZ",
      "execution_count": 32,
      "outputs": []
    },
    {
      "cell_type": "code",
      "source": [
        "class Unsqueeze(nn.Module):\n",
        "    def __init__(self):\n",
        "        super(Unsqueeze, self).__init__()\n",
        "\n",
        "    def forward(self, x: torch.Tensor) -> torch.Tensor:\n",
        "        N, C, H, W = x.shape\n",
        "        x = x.reshape(N, C // 4, 2, 2, H, W)\n",
        "        x = x.permute(0, 1, 4, 2, 5, 3).contiguous()\n",
        "        return x.reshape(N, C // 4, H * 2, W * 2)\n",
        "\n",
        "    def backward(self, z: torch.Tensor) -> torch.Tensor:\n",
        "        return Squeeze()(z)"
      ],
      "metadata": {
        "id": "GKZhA_Wn4yXV"
      },
      "id": "GKZhA_Wn4yXV",
      "execution_count": 33,
      "outputs": []
    },
    {
      "cell_type": "code",
      "execution_count": 34,
      "id": "f1ef47c7",
      "metadata": {
        "id": "f1ef47c7"
      },
      "outputs": [],
      "source": [
        "class RealNVP(nn.Module):\n",
        "    def __init__(self, input_shape):\n",
        "        super(RealNVP, self).__init__()\n",
        "        C, H, W = input_shape\n",
        "\n",
        "        modules = [[LogitTransform(nbins=2, dequantize=True)]]\n",
        "        modules += [[AffineCheckerboardCouplingLayer(\n",
        "            input_shape=(H, W),\n",
        "            parity_type=(i % 2) == 0,\n",
        "            in_channels=C,\n",
        "        ), ActNormLayer(C)] for i in range(4)]\n",
        "        modules.append([Squeeze()])\n",
        "        modules += [[AffineChannelCouplingLayer(\n",
        "            in_channels=2 * C,\n",
        "            parity_type=(i % 2) == 0,\n",
        "        ), ActNormLayer(4 * C)] for i in range(3)]\n",
        "        modules.append([Unsqueeze()])\n",
        "        modules += [[AffineCheckerboardCouplingLayer(\n",
        "            input_shape=(H, W),\n",
        "            parity_type=(i % 2) == 0,\n",
        "            in_channels=C,\n",
        "        ), ActNormLayer(C)] for i in range(3)]\n",
        "\n",
        "        modules = [layer for layer_types in modules for layer in layer_types]\n",
        "        self.model = nn.Sequential(*modules)\n",
        "\n",
        "    def forward(self, x: torch.Tensor) -> tuple:\n",
        "        z = x\n",
        "        log_det = torch.zeros_like(x)\n",
        "\n",
        "        for layer in self.model:\n",
        "            if isinstance(layer, (Squeeze, Unsqueeze)):\n",
        "                z = layer(z)\n",
        "                log_det = layer(log_det)\n",
        "            else:\n",
        "                z, delta_log_det = layer(z)\n",
        "                log_det += delta_log_det\n",
        "\n",
        "        return z, log_det\n",
        "\n",
        "    def backward(self, z: torch.Tensor) -> torch.Tensor:\n",
        "        x = z\n",
        "        for layer in reversed(self.model):\n",
        "            x = layer.backward(x)\n",
        "\n",
        "        return x"
      ]
    },
    {
      "cell_type": "code",
      "source": [
        "device = 'cuda' if torch.cuda.is_available() else 'cpu'\n",
        "device"
      ],
      "metadata": {
        "colab": {
          "base_uri": "https://localhost:8080/",
          "height": 35
        },
        "id": "8u5zuts4MjFf",
        "outputId": "81ac3262-0e5c-4649-8e1b-788e646b57b6"
      },
      "id": "8u5zuts4MjFf",
      "execution_count": 35,
      "outputs": [
        {
          "output_type": "execute_result",
          "data": {
            "text/plain": [
              "'cuda'"
            ],
            "application/vnd.google.colaboratory.intrinsic+json": {
              "type": "string"
            }
          },
          "metadata": {},
          "execution_count": 35
        }
      ]
    },
    {
      "cell_type": "code",
      "execution_count": 36,
      "id": "7995baf7",
      "metadata": {
        "id": "7995baf7"
      },
      "outputs": [],
      "source": [
        "model = RealNVP(\n",
        "    input_shape=(1, 28, 28),\n",
        ")"
      ]
    },
    {
      "cell_type": "code",
      "execution_count": 37,
      "id": "b4914f73",
      "metadata": {
        "id": "b4914f73"
      },
      "outputs": [],
      "source": [
        "def count_parameters(model: nn.Module):\n",
        "    \"\"\"Количество обучаемых параметров модели\"\"\"\n",
        "    return sum(p.numel() for p in model.parameters() if p.requires_grad)"
      ]
    },
    {
      "cell_type": "code",
      "execution_count": 38,
      "id": "b9e1f1c6",
      "metadata": {
        "colab": {
          "base_uri": "https://localhost:8080/"
        },
        "id": "b9e1f1c6",
        "outputId": "3bed9917-c78a-4805-b90a-06c92d69bd72"
      },
      "outputs": [
        {
          "output_type": "stream",
          "name": "stdout",
          "text": [
            "The model has 2,750,254 trainable parameters\n"
          ]
        }
      ],
      "source": [
        "print(f\"The model has {count_parameters(model):,} trainable parameters\")"
      ]
    },
    {
      "cell_type": "markdown",
      "id": "8f920c92",
      "metadata": {
        "id": "8f920c92"
      },
      "source": [
        "# Train"
      ]
    },
    {
      "cell_type": "code",
      "execution_count": 39,
      "id": "147fdd4c",
      "metadata": {
        "id": "147fdd4c"
      },
      "outputs": [],
      "source": [
        "def train(\n",
        "    model: nn.Module,\n",
        "    train_loader: DataLoader,\n",
        "    criterion: nn.Module,\n",
        "    optimizer: torch.optim.Optimizer,\n",
        "    device: str,\n",
        "    clip: float = 3.0,\n",
        "    train_history=None,\n",
        "    valid_history=None,\n",
        "):\n",
        "    epoch_loss = 0\n",
        "    history = []\n",
        "\n",
        "    model.train()\n",
        "    for i, batch in enumerate(tqdm(train_loader)):\n",
        "        data = batch[0].to(device)\n",
        "        labels = batch[1].to(device)\n",
        "\n",
        "        z, log_det = model(data)\n",
        "        loss = criterion(data, z, log_det)\n",
        "\n",
        "        epoch_loss += loss.item()\n",
        "\n",
        "        optimizer.zero_grad()\n",
        "        loss.backward()\n",
        "        torch.nn.utils.clip_grad_norm_(model.parameters(), clip)\n",
        "        optimizer.step()\n",
        "\n",
        "        history.append(loss.cpu().data.numpy())\n",
        "        if ((i + 1) % 10 == 0) or (i == (len(train_loader) - 1)):\n",
        "            fig, ax = plt.subplots(nrows=1, ncols=2, figsize=(12, 6))\n",
        "\n",
        "            clear_output(True)\n",
        "            ax[0].plot(history, label=\"train loss\")\n",
        "            ax[0].set_xlabel(\"Batch\")\n",
        "            ax[0].set_title(\"Train loss\")\n",
        "            if train_history is not None:\n",
        "                ax[1].plot(train_history, label=\"general train history\")\n",
        "                ax[1].set_xlabel(\"Epoch\")\n",
        "            if valid_history is not None:\n",
        "                ax[1].plot(valid_history, label=\"general valid history\")\n",
        "            plt.legend()\n",
        "\n",
        "            plt.show()\n",
        "        i += 1\n",
        "\n",
        "    return epoch_loss / len(train_loader), loss.item()"
      ]
    },
    {
      "cell_type": "code",
      "execution_count": 40,
      "id": "e75309af",
      "metadata": {
        "id": "e75309af"
      },
      "outputs": [],
      "source": [
        "def validate(\n",
        "    model: nn.Module, valid_loader: DataLoader, criterion: nn.Module, device: str\n",
        "):\n",
        "\n",
        "    epoch_loss = 0\n",
        "    model.eval()\n",
        "    with torch.no_grad():\n",
        "        for batch in tqdm(valid_loader):\n",
        "            data = batch[0].to(device)\n",
        "            labels = batch[1].to(device)\n",
        "\n",
        "            z, log_det = model(data)\n",
        "            loss = criterion(data, z, log_det)\n",
        "\n",
        "            epoch_loss += loss.item()\n",
        "\n",
        "    return epoch_loss / len(valid_loader)"
      ]
    },
    {
      "cell_type": "code",
      "execution_count": 41,
      "id": "7ddf6d02",
      "metadata": {
        "id": "7ddf6d02"
      },
      "outputs": [],
      "source": [
        "def fit(\n",
        "    model: nn.Module,\n",
        "    train_loader: DataLoader,\n",
        "    valid_loader: DataLoader,\n",
        "    criterion,\n",
        "    optimizer,\n",
        "    start_epoch: int,\n",
        "    end_epoch: int,\n",
        "    clip: float = 3.0,\n",
        "):\n",
        "\n",
        "    train_losses = []\n",
        "    valid_losses = []\n",
        "\n",
        "    for epoch in range(start_epoch, end_epoch):\n",
        "        train_loss, last_batch_loss = train(\n",
        "            model,\n",
        "            train_loader,\n",
        "            criterion,\n",
        "            optimizer,\n",
        "            device,\n",
        "            clip,\n",
        "            train_losses,\n",
        "            valid_losses,\n",
        "        )\n",
        "        valid_loss = validate(model, valid_loader, criterion, device)\n",
        "        print(\n",
        "            f\"Epoch: {epoch}, Training Loss: {train_loss}, Valid Loss: {valid_loss}\"\n",
        "        )\n",
        "\n",
        "        train_losses.append(train_loss)\n",
        "        valid_losses.append(valid_loss)\n",
        "\n",
        "    return train_losses, valid_losses"
      ]
    },
    {
      "cell_type": "code",
      "source": [
        "model.to(device)\n",
        "print()"
      ],
      "metadata": {
        "colab": {
          "base_uri": "https://localhost:8080/"
        },
        "id": "oedbeBcSacjF",
        "outputId": "ac3c15ff-4c0c-431f-8d1d-d9ee84a965ea"
      },
      "id": "oedbeBcSacjF",
      "execution_count": 42,
      "outputs": [
        {
          "output_type": "stream",
          "name": "stdout",
          "text": [
            "\n"
          ]
        }
      ]
    },
    {
      "cell_type": "code",
      "source": [
        "class NLLLoss(nn.Module):\n",
        "    def __init__(self):\n",
        "        super(NLLLoss, self).__init__()\n",
        "        self.prior = torch.distributions.normal.Normal(loc=.0, scale=1.)\n",
        "\n",
        "    def forward(\n",
        "        self,\n",
        "        batch: torch.Tensor,\n",
        "        z: torch.Tensor,\n",
        "        log_det: torch.Tensor,\n",
        "    ):\n",
        "        N, C, H, W = batch.shape\n",
        "\n",
        "        log_pz = self.prior.log_prob(z).to(device)\n",
        "        log_p_theta = torch.sum((log_pz + log_det).view(N, -1), dim=1) / (C * H * W)\n",
        "        return - torch.mean(log_p_theta)"
      ],
      "metadata": {
        "id": "jCH9mqV5fotB"
      },
      "id": "jCH9mqV5fotB",
      "execution_count": 43,
      "outputs": []
    },
    {
      "cell_type": "code",
      "execution_count": 44,
      "id": "0cf1e603",
      "metadata": {
        "id": "0cf1e603"
      },
      "outputs": [],
      "source": [
        "start_epoch = 0\n",
        "end_epoch = 10\n",
        "optimizer = torch.optim.Adam(model.parameters())\n",
        "criterion = NLLLoss()"
      ]
    },
    {
      "cell_type": "code",
      "execution_count": 45,
      "id": "fe805d7f",
      "metadata": {
        "colab": {
          "base_uri": "https://localhost:8080/",
          "height": 615
        },
        "id": "fe805d7f",
        "outputId": "5363e90a-180c-47f8-cb50-0a587c82e810",
        "scrolled": false
      },
      "outputs": [
        {
          "output_type": "display_data",
          "data": {
            "text/plain": [
              "<Figure size 1200x600 with 2 Axes>"
            ],
            "image/png": "[encoded data removed]"
          },
          "metadata": {}
        },
        {
          "output_type": "stream",
          "name": "stderr",
          "text": [
            "100%|██████████| 937/937 [04:50<00:00,  3.22it/s]\n",
            "100%|██████████| 156/156 [00:15<00:00, 10.08it/s]"
          ]
        },
        {
          "output_type": "stream",
          "name": "stdout",
          "text": [
            "Epoch: 9, Training Loss: -0.5674673816946553, Valid Loss: -0.5706423360567826\n"
          ]
        },
        {
          "output_type": "stream",
          "name": "stderr",
          "text": [
            "\n"
          ]
        }
      ],
      "source": [
        "train_losses, valid_losses = fit(\n",
        "    model=model,\n",
        "    train_loader=train_loader,\n",
        "    valid_loader=test_loader,\n",
        "    criterion=criterion,\n",
        "    optimizer=optimizer,\n",
        "    start_epoch=start_epoch,\n",
        "    end_epoch=end_epoch,\n",
        ")"
      ]
    },
    {
      "cell_type": "code",
      "execution_count": 46,
      "id": "25ee98cf",
      "metadata": {
        "id": "25ee98cf"
      },
      "outputs": [],
      "source": [
        "def sample(num_samples, nbins: int = 2):\n",
        "    z = criterion.prior.sample([num_samples, 1, 28, 28]).to(device)\n",
        "    samples = model.backward(z)\n",
        "    samples = samples.cpu().detach().numpy()\n",
        "    samples = np.floor(np.clip(samples * nbins, 0.0, nbins - 1)) / (nbins - 1)\n",
        "    return samples"
      ]
    },
    {
      "cell_type": "code",
      "execution_count": 47,
      "id": "f8a6a3d2",
      "metadata": {
        "id": "f8a6a3d2"
      },
      "outputs": [],
      "source": [
        "def show_samples(samples, title, figsize=None, nrow=None):\n",
        "    if isinstance(samples, np.ndarray):\n",
        "        samples = torch.FloatTensor(samples)\n",
        "    if nrow is None:\n",
        "        nrow = int(np.sqrt(len(samples)))\n",
        "    grid_samples = make_grid(samples, nrow=nrow, pad_value=1, padding=1)\n",
        "\n",
        "    grid_img = grid_samples.permute(1, 2, 0)\n",
        "    if figsize is None:\n",
        "        figsize = (6, 6)\n",
        "    plt.figure(figsize=figsize)\n",
        "    plt.title(title)\n",
        "    plt.imshow(grid_img)\n",
        "    plt.axis('off')\n",
        "    plt.show()"
      ]
    },
    {
      "cell_type": "code",
      "execution_count": 48,
      "id": "4310d0c9",
      "metadata": {
        "colab": {
          "base_uri": "https://localhost:8080/"
        },
        "id": "4310d0c9",
        "outputId": "5c4c19b6-3865-4763-eb14-483c3253a0e4"
      },
      "outputs": [
        {
          "output_type": "stream",
          "name": "stdout",
          "text": [
            "\n"
          ]
        }
      ],
      "source": [
        "model.eval()\n",
        "print()"
      ]
    },
    {
      "cell_type": "code",
      "execution_count": 49,
      "id": "1f277858",
      "metadata": {
        "id": "1f277858"
      },
      "outputs": [],
      "source": [
        "samples = sample(16)"
      ]
    },
    {
      "cell_type": "code",
      "source": [
        "show_samples(samples, title='MNIST samples', nrow=4)"
      ],
      "metadata": {
        "id": "qCPLFhTry95l",
        "colab": {
          "base_uri": "https://localhost:8080/",
          "height": 521
        },
        "outputId": "19bf54b8-ea83-40f8-cfe4-0d1a4777befd"
      },
      "id": "qCPLFhTry95l",
      "execution_count": 50,
      "outputs": [
        {
          "output_type": "display_data",
          "data": {
            "text/plain": [
              "<Figure size 600x600 with 1 Axes>"
            ],
            "image/png": "[encoded data removed]"
          },
          "metadata": {}
        }
      ]
    },
    {
      "cell_type": "code",
      "execution_count": null,
      "id": "c720cb6f",
      "metadata": {
        "id": "c720cb6f"
      },
      "outputs": [],
      "source": []
    }
  ],
  "metadata": {
    "accelerator": "GPU",
    "colab": {
      "gpuType": "T4",
      "provenance": []
    },
    "kernelspec": {
      "display_name": "Python 3 (ipykernel)",
      "language": "python",
      "name": "python3"
    },
    "language_info": {
      "codemirror_mode": {
        "name": "ipython",
        "version": 3
      },
      "file_extension": ".py",
      "mimetype": "text/x-python",
      "name": "python",
      "nbconvert_exporter": "python",
      "pygments_lexer": "ipython3",
      "version": "3.10.11"
    }
  },
  "nbformat": 4,
  "nbformat_minor": 5
}