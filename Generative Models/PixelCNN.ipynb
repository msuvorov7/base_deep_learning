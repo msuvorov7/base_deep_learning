{
 "cells": [
  {
   "cell_type": "code",
   "execution_count": 1,
   "id": "b4b9de65",
   "metadata": {
    "id": "b4b9de65"
   },
   "outputs": [],
   "source": [
    "import sys\n",
    "import logging"
   ]
  },
  {
   "cell_type": "code",
   "execution_count": 2,
   "id": "124cb0bd",
   "metadata": {
    "id": "124cb0bd"
   },
   "outputs": [],
   "source": [
    "import numpy as np\n",
    "import matplotlib.pyplot as plt\n",
    "from tqdm import tqdm\n",
    "from IPython.display import clear_output"
   ]
  },
  {
   "cell_type": "code",
   "execution_count": 3,
   "id": "c6b214fe",
   "metadata": {
    "id": "c6b214fe"
   },
   "outputs": [],
   "source": [
    "import torch\n",
    "import torch.nn as nn\n",
    "import torch.nn.functional as F"
   ]
  },
  {
   "cell_type": "code",
   "execution_count": 4,
   "id": "624951e7",
   "metadata": {
    "id": "624951e7"
   },
   "outputs": [],
   "source": [
    "from torch.utils.data import DataLoader"
   ]
  },
  {
   "cell_type": "code",
   "execution_count": 5,
   "id": "ed48fac7",
   "metadata": {
    "id": "ed48fac7"
   },
   "outputs": [],
   "source": [
    "import torchvision\n",
    "from torchvision import datasets\n",
    "from torchvision.utils import make_grid"
   ]
  },
  {
   "cell_type": "code",
   "execution_count": 6,
   "id": "ef301599",
   "metadata": {
    "id": "ef301599"
   },
   "outputs": [],
   "source": [
    "logging.basicConfig(\n",
    "    level=logging.INFO,\n",
    "    format=\"%(asctime)s - %(name)s - %(levelname)s - %(message)s\",\n",
    "    handlers=[logging.StreamHandler(sys.stdout)],\n",
    ")"
   ]
  },
  {
   "cell_type": "markdown",
   "source": [
    "# Data Load"
   ],
   "metadata": {
    "id": "Od6ldOX-keC1"
   },
   "id": "Od6ldOX-keC1"
  },
  {
   "cell_type": "code",
   "execution_count": 7,
   "id": "4ef88e0f",
   "metadata": {
    "id": "4ef88e0f"
   },
   "outputs": [],
   "source": [
    "train_dataset = datasets.MNIST(\n",
    "    root='data',\n",
    "    train=True,\n",
    "    transform=torchvision.transforms.Compose([\n",
    "        torchvision.transforms.ToTensor(),\n",
    "        torchvision.transforms.Lambda(lambda x: torch.ceil(x)),\n",
    "    ]),\n",
    "    download=True,\n",
    ")"
   ]
  },
  {
   "cell_type": "code",
   "execution_count": 8,
   "id": "de510645",
   "metadata": {
    "id": "de510645"
   },
   "outputs": [],
   "source": [
    "test_dataset = datasets.MNIST(\n",
    "    root='data',\n",
    "    train=False,\n",
    "    transform=torchvision.transforms.Compose([\n",
    "        torchvision.transforms.ToTensor(),\n",
    "        torchvision.transforms.Lambda(lambda x: torch.ceil(x)),\n",
    "    ]),\n",
    "    download=False,\n",
    ")"
   ]
  },
  {
   "cell_type": "code",
   "execution_count": 9,
   "id": "b40393f2",
   "metadata": {
    "colab": {
     "base_uri": "https://localhost:8080/"
    },
    "id": "b40393f2",
    "outputId": "930c1a41-438f-4111-fd02-aada7e0d107e"
   },
   "outputs": [
    {
     "output_type": "execute_result",
     "data": {
      "text/plain": [
       "(60000, 10000)"
      ]
     },
     "metadata": {},
     "execution_count": 9
    }
   ],
   "source": [
    "len(train_dataset), len(test_dataset)"
   ]
  },
  {
   "cell_type": "code",
   "execution_count": 10,
   "id": "37c18bb2",
   "metadata": {
    "colab": {
     "base_uri": "https://localhost:8080/",
     "height": 310
    },
    "id": "37c18bb2",
    "outputId": "10906dec-5d2c-4459-f372-2a201d3ed33d"
   },
   "outputs": [
    {
     "output_type": "execute_result",
     "data": {
      "text/plain": [
       "<matplotlib.image.AxesImage at 0x7e2a7eb5a020>"
      ]
     },
     "metadata": {},
     "execution_count": 10
    },
    {
     "output_type": "display_data",
     "data": {
      "text/plain": [
       "<Figure size 300x300 with 1 Axes>"
      ],
      "image/png": "[encoded data removed]"
     },
     "metadata": {}
    }
   ],
   "source": [
    "plt.figure(figsize=(3,3))\n",
    "plt.imshow(train_dataset[9][0].detach().cpu().numpy()[0], cmap='gray')"
   ]
  },
  {
   "cell_type": "code",
   "execution_count": 11,
   "id": "227a6505",
   "metadata": {
    "id": "227a6505"
   },
   "outputs": [],
   "source": [
    "train_loader = DataLoader(train_dataset, batch_size=64, shuffle=True, num_workers=2, pin_memory=True)\n",
    "test_loader = DataLoader(test_dataset, batch_size=64, shuffle=False, num_workers=2, pin_memory=True)"
   ]
  },
  {
   "cell_type": "code",
   "execution_count": 12,
   "id": "f5a8d3ba",
   "metadata": {
    "colab": {
     "base_uri": "https://localhost:8080/"
    },
    "id": "f5a8d3ba",
    "outputId": "5bea9952-c5f5-4efb-a7cc-8e9daa94c055"
   },
   "outputs": [
    {
     "output_type": "stream",
     "name": "stderr",
     "text": [
      "/usr/lib/python3.10/multiprocessing/popen_fork.py:66: RuntimeWarning: os.fork() was called. os.fork() is incompatible with multithreaded code, and JAX is multithreaded, so this will likely lead to a deadlock.\n",
      "  self.pid = os.fork()\n"
     ]
    },
    {
     "output_type": "stream",
     "name": "stdout",
     "text": [
      "torch.Size([64, 1, 28, 28])\n",
      "torch.Size([64])\n"
     ]
    }
   ],
   "source": [
    "for batch in train_loader:\n",
    "    data, labels = batch\n",
    "    print(data.shape)\n",
    "    print(labels.shape)\n",
    "    break"
   ]
  },
  {
   "cell_type": "markdown",
   "source": [
    "# Model"
   ],
   "metadata": {
    "id": "lQkq6iCGkiKD"
   },
   "id": "lQkq6iCGkiKD"
  },
  {
   "cell_type": "code",
   "execution_count": 13,
   "id": "ddbcb9b8",
   "metadata": {
    "id": "ddbcb9b8"
   },
   "outputs": [],
   "source": [
    "class MaskedConv2d(nn.Conv2d):\n",
    "    def __init__(self, mask_type, *args, **kwargs):\n",
    "        super().__init__(*args, **kwargs)\n",
    "        assert mask_type in ('A', 'B')\n",
    "        self.register_buffer('mask', self.weight.data.clone())\n",
    "        _, _, kH, kW = self.weight.size()\n",
    "        self.mask.fill_(1)\n",
    "        self.mask[:, :, kH // 2, kW // 2 + (mask_type == 'B'):] = 0\n",
    "        self.mask[:, :, kH // 2 + 1:] = 0\n",
    "\n",
    "    def forward(self, x):\n",
    "        self.weight.data *= self.mask\n",
    "        return super(MaskedConv2d, self).forward(x)"
   ]
  },
  {
   "cell_type": "code",
   "execution_count": 14,
   "id": "60a32fe6",
   "metadata": {
    "id": "60a32fe6"
   },
   "outputs": [],
   "source": [
    "def test_masked_conv2d():\n",
    "    layer = MaskedConv2d(mask_type='A', in_channels=2, out_channels=2, kernel_size=5)\n",
    "    assert np.allclose(layer.mask[:, :, 2, 2].numpy(), np.zeros((2, 2)))\n",
    "\n",
    "    layer = MaskedConv2d('B', in_channels=2, out_channels=2, kernel_size=5)\n",
    "    assert np.allclose(layer.mask[:, :, 2, 2].numpy(), np.ones((2, 2)))"
   ]
  },
  {
   "cell_type": "code",
   "execution_count": 15,
   "id": "00de2268",
   "metadata": {
    "id": "00de2268"
   },
   "outputs": [],
   "source": [
    "test_masked_conv2d()"
   ]
  },
  {
   "cell_type": "code",
   "source": [
    "class LayerNorm(nn.LayerNorm):\n",
    "    def __init__(self, n_filters):\n",
    "        super().__init__(n_filters)\n",
    "\n",
    "    def forward(self, x):\n",
    "        x = x.permute(0, 2, 3, 1).contiguous()\n",
    "        out = super().forward(x)\n",
    "        return out.permute(0, 3, 1, 2).contiguous()"
   ],
   "metadata": {
    "id": "dhw0oOVHkkaz"
   },
   "id": "dhw0oOVHkkaz",
   "execution_count": 16,
   "outputs": []
  },
  {
   "cell_type": "code",
   "execution_count": 17,
   "id": "0ce0e0cc",
   "metadata": {
    "id": "0ce0e0cc"
   },
   "outputs": [],
   "source": [
    "class ConvBlock(nn.Module):\n",
    "    def __init__(\n",
    "        self,\n",
    "        mask_type: str,\n",
    "        in_channels: int,\n",
    "        out_channels: int,\n",
    "        kernel_size: int,\n",
    "        padding: int,\n",
    "    ):\n",
    "        super(ConvBlock, self).__init__()\n",
    "\n",
    "        self.layer = nn.Sequential(\n",
    "            MaskedConv2d(\n",
    "                mask_type=mask_type,\n",
    "                in_channels=in_channels,\n",
    "                out_channels=out_channels,\n",
    "                kernel_size=kernel_size,\n",
    "                padding=padding,\n",
    "            ),\n",
    "            LayerNorm(out_channels),\n",
    "            nn.ReLU()\n",
    "        )\n",
    "\n",
    "    def forward(self, x):\n",
    "        return self.layer(x)"
   ]
  },
  {
   "cell_type": "code",
   "execution_count": 18,
   "id": "2614bb11",
   "metadata": {
    "id": "2614bb11"
   },
   "outputs": [],
   "source": [
    "class PixelCNN(nn.Module):\n",
    "    def __init__(\n",
    "        self,\n",
    "        input_shape: tuple,\n",
    "        n_filters: int,\n",
    "        n_layers: int,\n",
    "        kernel_size: int,\n",
    "    ):\n",
    "        super(PixelCNN, self).__init__()\n",
    "        self.input_shape = input_shape\n",
    "        padding = kernel_size // 2\n",
    "\n",
    "        layers = nn.ModuleList()\n",
    "        layers.append(ConvBlock('A', 1, n_filters, kernel_size, padding))\n",
    "        for _ in range(n_layers):\n",
    "            layers.append(ConvBlock('B', n_filters, n_filters, kernel_size, padding))\n",
    "        layers.append(MaskedConv2d(\n",
    "            mask_type='B',\n",
    "            in_channels=n_filters,\n",
    "            out_channels=2,\n",
    "            kernel_size=kernel_size,\n",
    "            padding=padding,\n",
    "        ))\n",
    "\n",
    "        self.model = nn.Sequential(*layers)\n",
    "\n",
    "    def forward(self, x):\n",
    "        batch_size = x.shape[0]\n",
    "        normalized = (x.float() - 0.5) / 0.5\n",
    "        out = self.model(x)\n",
    "        return out.view(batch_size, 2, 1, *self.input_shape)"
   ]
  },
  {
   "cell_type": "code",
   "execution_count": 19,
   "id": "aa17b964",
   "metadata": {
    "id": "aa17b964"
   },
   "outputs": [],
   "source": [
    "def count_parameters(model: nn.Module):\n",
    "    \"\"\"Количество обучаемых параметров модели\"\"\"\n",
    "    return sum(p.numel() for p in model.parameters() if p.requires_grad)"
   ]
  },
  {
   "cell_type": "code",
   "execution_count": 20,
   "id": "cd526282",
   "metadata": {
    "id": "cd526282"
   },
   "outputs": [],
   "source": [
    "model = PixelCNN(\n",
    "    input_shape=(28, 28),\n",
    "    n_filters=64,\n",
    "    n_layers=5,\n",
    "    kernel_size=5,\n",
    ")"
   ]
  },
  {
   "cell_type": "code",
   "execution_count": 21,
   "id": "a0804a5e",
   "metadata": {
    "colab": {
     "base_uri": "https://localhost:8080/"
    },
    "id": "a0804a5e",
    "outputId": "fa91ee98-7777-434d-e766-19bd2a97d52e"
   },
   "outputs": [
    {
     "output_type": "stream",
     "name": "stdout",
     "text": [
      "The model has 517,954 trainable parameters\n"
     ]
    }
   ],
   "source": [
    "print(f\"The model has {count_parameters(model):,} trainable parameters\")"
   ]
  },
  {
   "cell_type": "code",
   "execution_count": 22,
   "id": "7bca157e",
   "metadata": {
    "colab": {
     "base_uri": "https://localhost:8080/"
    },
    "id": "7bca157e",
    "outputId": "1774316c-6d06-4ce6-efea-8b900ea34b92"
   },
   "outputs": [
    {
     "output_type": "execute_result",
     "data": {
      "text/plain": [
       "torch.Size([64, 2, 1, 28, 28])"
      ]
     },
     "metadata": {},
     "execution_count": 22
    }
   ],
   "source": [
    "model(data).shape"
   ]
  },
  {
   "cell_type": "code",
   "execution_count": 23,
   "id": "1b200e42",
   "metadata": {
    "id": "1b200e42"
   },
   "outputs": [],
   "source": [
    "def sample(n, device='cpu'):\n",
    "    # read carefully the sampling process\n",
    "    model.eval()\n",
    "    samples = torch.zeros(n, 1, *model.input_shape)\n",
    "    with torch.no_grad():\n",
    "        for r in tqdm(range(model.input_shape[0])):\n",
    "            for c in range(model.input_shape[1]):\n",
    "                logits = model(samples.to(device))[:, :, :, r, c]\n",
    "                probs = F.softmax(logits, dim=1).squeeze(-1)\n",
    "                samples[:, 0, r, c] = torch.multinomial(probs, num_samples=1).squeeze(-1)\n",
    "    return samples.cpu().numpy()"
   ]
  },
  {
   "cell_type": "code",
   "execution_count": 24,
   "id": "803e3df0",
   "metadata": {
    "colab": {
     "base_uri": "https://localhost:8080/"
    },
    "id": "803e3df0",
    "outputId": "cb6ff648-19bd-49db-9d47-6d48095581fc"
   },
   "outputs": [
    {
     "output_type": "stream",
     "name": "stderr",
     "text": [
      "100%|██████████| 28/28 [00:29<00:00,  1.06s/it]\n"
     ]
    },
    {
     "output_type": "execute_result",
     "data": {
      "text/plain": [
       "(2, 1, 28, 28)"
      ]
     },
     "metadata": {},
     "execution_count": 24
    }
   ],
   "source": [
    "sample(2).shape"
   ]
  },
  {
   "cell_type": "code",
   "execution_count": 25,
   "id": "2a9ade3e",
   "metadata": {
    "id": "2a9ade3e"
   },
   "outputs": [],
   "source": [
    "criterion = nn.CrossEntropyLoss()"
   ]
  },
  {
   "cell_type": "code",
   "execution_count": 26,
   "id": "f38c559a",
   "metadata": {
    "colab": {
     "base_uri": "https://localhost:8080/"
    },
    "id": "f38c559a",
    "outputId": "ba8c3d8e-730b-455a-81bb-d148238ff84e"
   },
   "outputs": [
    {
     "output_type": "execute_result",
     "data": {
      "text/plain": [
       "tensor(0.6479, grad_fn=<NllLoss2DBackward0>)"
      ]
     },
     "metadata": {},
     "execution_count": 26
    }
   ],
   "source": [
    "criterion(model(data), data.long())"
   ]
  },
  {
   "cell_type": "code",
   "execution_count": 27,
   "id": "fad08d87",
   "metadata": {
    "colab": {
     "base_uri": "https://localhost:8080/"
    },
    "id": "fad08d87",
    "outputId": "a7c29332-d8b1-4886-83ba-2126ea29ce8d"
   },
   "outputs": [
    {
     "output_type": "execute_result",
     "data": {
      "text/plain": [
       "torch.Size([64, 1, 28, 28])"
      ]
     },
     "metadata": {},
     "execution_count": 27
    }
   ],
   "source": [
    "data.shape"
   ]
  },
  {
   "cell_type": "markdown",
   "source": [
    "# Train"
   ],
   "metadata": {
    "id": "kNjKfUH5kypl"
   },
   "id": "kNjKfUH5kypl"
  },
  {
   "cell_type": "code",
   "execution_count": 28,
   "id": "8fccf867",
   "metadata": {
    "id": "8fccf867"
   },
   "outputs": [],
   "source": [
    "def train(\n",
    "    model: nn.Module,\n",
    "    train_loader: DataLoader,\n",
    "    criterion: nn.Module,\n",
    "    optimizer: torch.optim.Optimizer,\n",
    "    device: str,\n",
    "    clip: float = 3.0,\n",
    "    train_history=None,\n",
    "    valid_history=None,\n",
    "):\n",
    "    epoch_loss = 0\n",
    "    history = []\n",
    "\n",
    "    model.train()\n",
    "    for i, batch in enumerate(tqdm(train_loader)):\n",
    "        data = batch[0].to(device)\n",
    "        labels = batch[1].to(device)\n",
    "\n",
    "        output = model(data)\n",
    "\n",
    "        loss = criterion(\n",
    "            output,\n",
    "            data.long(),\n",
    "        )\n",
    "        epoch_loss += loss.item()\n",
    "\n",
    "        optimizer.zero_grad()\n",
    "        loss.backward()\n",
    "        # torch.nn.utils.clip_grad_norm_(model.parameters(), clip)\n",
    "        optimizer.step()\n",
    "\n",
    "        history.append(loss.cpu().data.numpy())\n",
    "        if ((i + 1) % 30 == 0) or (i == (len(train_loader) - 1)):\n",
    "            fig, ax = plt.subplots(nrows=1, ncols=2, figsize=(12, 6))\n",
    "\n",
    "            clear_output(True)\n",
    "            ax[0].plot(history, label=\"train loss\")\n",
    "            ax[0].set_xlabel(\"Batch\")\n",
    "            ax[0].set_title(\"Train loss\")\n",
    "            if train_history is not None:\n",
    "                ax[1].plot(train_history, label=\"general train history\")\n",
    "                ax[1].set_xlabel(\"Epoch\")\n",
    "            if valid_history is not None:\n",
    "                ax[1].plot(valid_history, label=\"general valid history\")\n",
    "            plt.legend()\n",
    "\n",
    "            plt.show()\n",
    "        i += 1\n",
    "\n",
    "    return epoch_loss / len(train_loader), loss"
   ]
  },
  {
   "cell_type": "code",
   "execution_count": 29,
   "id": "76c33c68",
   "metadata": {
    "id": "76c33c68"
   },
   "outputs": [],
   "source": [
    "def validate(\n",
    "    model: nn.Module, valid_loader: DataLoader, criterion: nn.Module, device: str\n",
    "):\n",
    "\n",
    "    epoch_loss = 0\n",
    "    model.eval()\n",
    "    with torch.no_grad():\n",
    "        for batch in tqdm(valid_loader):\n",
    "            data = batch[0].to(device)\n",
    "            labels = batch[1].to(device)\n",
    "\n",
    "            output = model(data)\n",
    "            loss = criterion(\n",
    "                output,\n",
    "                data.long(),\n",
    "            )\n",
    "            epoch_loss += loss.item()\n",
    "\n",
    "    return epoch_loss / len(valid_loader)"
   ]
  },
  {
   "cell_type": "code",
   "execution_count": 30,
   "id": "ae330102",
   "metadata": {
    "id": "ae330102"
   },
   "outputs": [],
   "source": [
    "def fit(\n",
    "    model: nn.Module,\n",
    "    train_loader: DataLoader,\n",
    "    valid_loader: DataLoader,\n",
    "    criterion,\n",
    "    optimizer,\n",
    "    start_epoch: int,\n",
    "    end_epoch: int,\n",
    "    clip: float = 3.0,\n",
    "):\n",
    "\n",
    "    train_losses = []\n",
    "    valid_losses = []\n",
    "\n",
    "\n",
    "    for epoch in range(start_epoch, end_epoch):\n",
    "        train_loss, last_batch_loss = train(\n",
    "            model,\n",
    "            train_loader,\n",
    "            criterion,\n",
    "            optimizer,\n",
    "            device,\n",
    "            clip,\n",
    "            train_losses,\n",
    "            valid_losses,\n",
    "        )\n",
    "        valid_loss = validate(model, valid_loader, criterion, device)\n",
    "        logging.info(\n",
    "            f\"Epoch: {epoch}, Training Loss: {train_loss}, Valid Loss: {valid_loss}\"\n",
    "        )\n",
    "\n",
    "        train_losses.append(train_loss)\n",
    "        valid_losses.append(valid_loss)\n",
    "\n",
    "    return train_losses, valid_losses"
   ]
  },
  {
   "cell_type": "code",
   "execution_count": 31,
   "id": "59eaa3b4",
   "metadata": {
    "colab": {
     "base_uri": "https://localhost:8080/",
     "height": 35
    },
    "id": "59eaa3b4",
    "outputId": "69baf553-632b-4030-c310-ac3d75a530e0"
   },
   "outputs": [
    {
     "output_type": "execute_result",
     "data": {
      "text/plain": [
       "'cuda'"
      ],
      "application/vnd.google.colaboratory.intrinsic+json": {
       "type": "string"
      }
     },
     "metadata": {},
     "execution_count": 31
    }
   ],
   "source": [
    "device = 'cuda' if torch.cuda.is_available() else 'cpu'\n",
    "device"
   ]
  },
  {
   "cell_type": "code",
   "source": [
    "model.to(device)\n",
    "print()"
   ],
   "metadata": {
    "colab": {
     "base_uri": "https://localhost:8080/"
    },
    "id": "rPbqVJcD64zT",
    "outputId": "17b8e45c-6ee1-46c6-bb65-e467e20d087a"
   },
   "id": "rPbqVJcD64zT",
   "execution_count": 32,
   "outputs": [
    {
     "output_type": "stream",
     "name": "stdout",
     "text": [
      "\n"
     ]
    }
   ]
  },
  {
   "cell_type": "code",
   "execution_count": 33,
   "id": "481304eb",
   "metadata": {
    "id": "481304eb"
   },
   "outputs": [],
   "source": [
    "start_epoch = 0\n",
    "end_epoch = 10\n",
    "optimizer = torch.optim.Adam(model.parameters(), lr=5e-4, weight_decay=0.0001)\n",
    "criterion = nn.CrossEntropyLoss()"
   ]
  },
  {
   "cell_type": "code",
   "execution_count": 34,
   "id": "ec390d2e",
   "metadata": {
    "colab": {
     "base_uri": "https://localhost:8080/",
     "height": 598
    },
    "id": "ec390d2e",
    "outputId": "ec961cff-8e26-4f29-e202-7d88ce209f47"
   },
   "outputs": [
    {
     "output_type": "display_data",
     "data": {
      "text/plain": [
       "<Figure size 1200x600 with 2 Axes>"
      ],
      "image/png": "[encoded data removed]"
     },
     "metadata": {}
    },
    {
     "output_type": "stream",
     "name": "stderr",
     "text": [
      "100%|██████████| 938/938 [00:54<00:00, 17.31it/s]\n",
      "100%|██████████| 157/157 [00:02<00:00, 58.30it/s]\n"
     ]
    }
   ],
   "source": [
    "train_losses, valid_losses = fit(\n",
    "    model=model,\n",
    "    train_loader=train_loader,\n",
    "    valid_loader=test_loader,\n",
    "    criterion=criterion,\n",
    "    optimizer=optimizer,\n",
    "    start_epoch=start_epoch,\n",
    "    end_epoch=end_epoch,\n",
    ")"
   ]
  },
  {
   "cell_type": "markdown",
   "source": [
    "# Test"
   ],
   "metadata": {
    "id": "pC4nEIWSk37a"
   },
   "id": "pC4nEIWSk37a"
  },
  {
   "cell_type": "code",
   "execution_count": 35,
   "id": "2035ace6",
   "metadata": {
    "id": "2035ace6"
   },
   "outputs": [],
   "source": [
    "def show_samples(samples, title, figsize=None, nrow=None):\n",
    "    if isinstance(samples, np.ndarray):\n",
    "        samples = torch.FloatTensor(samples)\n",
    "    if nrow is None:\n",
    "        nrow = int(np.sqrt(len(samples)))\n",
    "    grid_samples = make_grid(samples, nrow=nrow, pad_value=1, padding=1)\n",
    "\n",
    "    grid_img = grid_samples.permute(1, 2, 0)\n",
    "    if figsize is None:\n",
    "        figsize = (6, 6)\n",
    "    plt.figure(figsize=figsize)\n",
    "    plt.title(title)\n",
    "    plt.imshow(grid_img)\n",
    "    plt.axis('off')\n",
    "    plt.show()"
   ]
  },
  {
   "cell_type": "code",
   "execution_count": 36,
   "id": "6f3f28ed",
   "metadata": {
    "colab": {
     "base_uri": "https://localhost:8080/"
    },
    "id": "6f3f28ed",
    "outputId": "69d39b24-ae8f-4bf0-b17c-a2f33a82223a"
   },
   "outputs": [
    {
     "output_type": "stream",
     "name": "stderr",
     "text": [
      "100%|██████████| 28/28 [00:05<00:00,  4.87it/s]\n"
     ]
    }
   ],
   "source": [
    "samples = sample(25, device)"
   ]
  },
  {
   "cell_type": "code",
   "execution_count": 37,
   "id": "0eccc80d",
   "metadata": {
    "colab": {
     "base_uri": "https://localhost:8080/",
     "height": 521
    },
    "id": "0eccc80d",
    "outputId": "cc5681f1-b3a8-4550-a53e-975e88e0ab16"
   },
   "outputs": [
    {
     "output_type": "display_data",
     "data": {
      "text/plain": [
       "<Figure size 600x600 with 1 Axes>"
      ],
      "image/png": "[encoded data removed]"
     },
     "metadata": {}
    }
   ],
   "source": [
    "show_samples(samples, title='MNIST samples', nrow=5)"
   ]
  },
  {
   "cell_type": "markdown",
   "source": [
    "# Blind Spot"
   ],
   "metadata": {
    "id": "3pzLG3NJk8Sx"
   },
   "id": "3pzLG3NJk8Sx"
  },
  {
   "cell_type": "code",
   "execution_count": 38,
   "id": "4faa739c",
   "metadata": {
    "id": "4faa739c"
   },
   "outputs": [],
   "source": [
    "def plot_receptive_field(model, n_layers, size=28, device='cpu'):\n",
    "\n",
    "    x_center = size // 2\n",
    "    y_center = size // 2\n",
    "    dummy_input = torch.zeros(\n",
    "        (1, 1, size, size),\n",
    "        requires_grad=True,\n",
    "        device=device\n",
    "    )\n",
    "\n",
    "    output = model(dummy_input)\n",
    "    output[0, :, 0, size // 2, size // 2].sum().backward()\n",
    "\n",
    "    binary_map = (\n",
    "        dummy_input\n",
    "        .grad\n",
    "        .view(size, size)\n",
    "        .abs()\n",
    "        .cpu()\n",
    "        .detach()\n",
    "        .numpy() > 1e-8\n",
    "    ).astype(np.float64)\n",
    "\n",
    "    # stack the maps to get RGB image\n",
    "    binary_map = np.stack([binary_map, binary_map, binary_map], axis=-1)\n",
    "\n",
    "    # center point will be red\n",
    "    binary_map[x_center, y_center] = [1, 0, 0]\n",
    "\n",
    "    plt.imshow(binary_map, vmin=0.0, vmax=1.0)\n",
    "    plt.title(f\"Binary receptive field for {n_layers} layers\")\n",
    "    plt.show()"
   ]
  },
  {
   "cell_type": "code",
   "source": [
    "for n_layers in [1, 2, 3, 5]:\n",
    "    model = PixelCNN(\n",
    "        input_shape=(28, 28),\n",
    "        n_filters=64,\n",
    "        n_layers=n_layers,\n",
    "        kernel_size=5,\n",
    "    )\n",
    "    plot_receptive_field(model, n_layers, 28)"
   ],
   "metadata": {
    "colab": {
     "base_uri": "https://localhost:8080/",
     "height": 1000
    },
    "id": "zW_1lKWQlD3a",
    "outputId": "daa18b67-9d3a-4ad6-d7e9-5ad8d2e79cb1"
   },
   "id": "zW_1lKWQlD3a",
   "execution_count": 39,
   "outputs": [
    {
     "output_type": "display_data",
     "data": {
      "text/plain": [
       "<Figure size 640x480 with 1 Axes>"
      ],
      "image/png": "[encoded data removed]"
     },
     "metadata": {}
    },
    {
     "output_type": "display_data",
     "data": {
      "text/plain": [
       "<Figure size 640x480 with 1 Axes>"
      ],
      "image/png": "[encoded data removed]"
     },
     "metadata": {}
    },
    {
     "output_type": "display_data",
     "data": {
      "text/plain": [
       "<Figure size 640x480 with 1 Axes>"
      ],
      "image/png": "[encoded data removed]"
     },
     "metadata": {}
    },
    {
     "output_type": "display_data",
     "data": {
      "text/plain": [
       "<Figure size 640x480 with 1 Axes>"
      ],
      "image/png": "[encoded data removed]"
     },
     "metadata": {}
    }
   ]
  },
  {
   "cell_type": "markdown",
   "source": [
    "PixelCNN имеет blind spot на правой стороне рецептивного поля из-за использования маски для исключения «будущих» пикселей при предсказании текущего пикселя. Маска обнуляет пиксели справа от прогнозируемого пикселя, что приводит к потере информации и созданию слепых пятен."
   ],
   "metadata": {
    "id": "0PAPEbG1lL2v"
   },
   "id": "0PAPEbG1lL2v"
  },
  {
   "cell_type": "code",
   "source": [],
   "metadata": {
    "id": "VuVM1-rXlJUE"
   },
   "id": "VuVM1-rXlJUE",
   "execution_count": 39,
   "outputs": []
  }
 ],
 "metadata": {
  "kernelspec": {
   "display_name": "Python 3",
   "name": "python3"
  },
  "language_info": {
   "codemirror_mode": {
    "name": "ipython",
    "version": 3
   },
   "file_extension": ".py",
   "mimetype": "text/x-python",
   "name": "python",
   "nbconvert_exporter": "python",
   "pygments_lexer": "ipython3",
   "version": "3.10.11"
  },
  "colab": {
   "provenance": [],
   "gpuType": "T4"
  },
  "accelerator": "GPU"
 },
 "nbformat": 4,
 "nbformat_minor": 5
}