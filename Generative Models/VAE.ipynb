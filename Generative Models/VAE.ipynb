{
 "cells": [
  {
   "cell_type": "code",
   "execution_count": 1,
   "id": "e4069f17",
   "metadata": {
    "id": "e4069f17"
   },
   "outputs": [],
   "source": [
    "import sys\n",
    "import logging"
   ]
  },
  {
   "cell_type": "code",
   "execution_count": 2,
   "id": "66661a45",
   "metadata": {
    "id": "66661a45"
   },
   "outputs": [],
   "source": [
    "import numpy as np\n",
    "import matplotlib.pyplot as plt\n",
    "from tqdm import tqdm\n",
    "from IPython.display import clear_output"
   ]
  },
  {
   "cell_type": "code",
   "execution_count": 3,
   "id": "f8e8e083",
   "metadata": {
    "id": "f8e8e083"
   },
   "outputs": [],
   "source": [
    "import torch\n",
    "import torch.nn as nn\n",
    "import torch.nn.functional as F"
   ]
  },
  {
   "cell_type": "code",
   "execution_count": 4,
   "id": "86493808",
   "metadata": {
    "id": "86493808"
   },
   "outputs": [],
   "source": [
    "from torch.utils.data import DataLoader"
   ]
  },
  {
   "cell_type": "code",
   "execution_count": 5,
   "id": "c08350b2",
   "metadata": {
    "id": "c08350b2"
   },
   "outputs": [],
   "source": [
    "import torchvision\n",
    "from torchvision import datasets\n",
    "from torchvision.utils import make_grid"
   ]
  },
  {
   "cell_type": "code",
   "execution_count": 6,
   "id": "8071b01f",
   "metadata": {
    "id": "8071b01f"
   },
   "outputs": [],
   "source": [
    "logging.basicConfig(\n",
    "    level=logging.INFO,\n",
    "    format=\"%(asctime)s - %(name)s - %(levelname)s - %(message)s\",\n",
    "    handlers=[logging.StreamHandler(sys.stdout)],\n",
    ")"
   ]
  },
  {
   "cell_type": "markdown",
   "id": "35a0e49e",
   "metadata": {
    "id": "35a0e49e"
   },
   "source": [
    "# Data Load"
   ]
  },
  {
   "cell_type": "code",
   "execution_count": 7,
   "id": "f93bbac1",
   "metadata": {
    "id": "f93bbac1",
    "colab": {
     "base_uri": "https://localhost:8080/"
    },
    "outputId": "37ca3517-52e6-4ce8-a651-bdd73404b3cf"
   },
   "outputs": [
    {
     "output_type": "stream",
     "name": "stdout",
     "text": [
      "Downloading http://yann.lecun.com/exdb/mnist/train-images-idx3-ubyte.gz\n",
      "Downloading http://yann.lecun.com/exdb/mnist/train-images-idx3-ubyte.gz to data/MNIST/raw/train-images-idx3-ubyte.gz\n"
     ]
    },
    {
     "output_type": "stream",
     "name": "stderr",
     "text": [
      "100%|██████████| 9912422/9912422 [00:00<00:00, 238643250.91it/s]"
     ]
    },
    {
     "output_type": "stream",
     "name": "stdout",
     "text": [
      "Extracting data/MNIST/raw/train-images-idx3-ubyte.gz to data/MNIST/raw\n"
     ]
    },
    {
     "output_type": "stream",
     "name": "stderr",
     "text": [
      "\n"
     ]
    },
    {
     "output_type": "stream",
     "name": "stdout",
     "text": [
      "\n",
      "Downloading http://yann.lecun.com/exdb/mnist/train-labels-idx1-ubyte.gz\n",
      "Downloading http://yann.lecun.com/exdb/mnist/train-labels-idx1-ubyte.gz to data/MNIST/raw/train-labels-idx1-ubyte.gz\n"
     ]
    },
    {
     "output_type": "stream",
     "name": "stderr",
     "text": [
      "100%|██████████| 28881/28881 [00:00<00:00, 80328709.43it/s]\n"
     ]
    },
    {
     "output_type": "stream",
     "name": "stdout",
     "text": [
      "Extracting data/MNIST/raw/train-labels-idx1-ubyte.gz to data/MNIST/raw\n",
      "\n",
      "Downloading http://yann.lecun.com/exdb/mnist/t10k-images-idx3-ubyte.gz\n",
      "Downloading http://yann.lecun.com/exdb/mnist/t10k-images-idx3-ubyte.gz to data/MNIST/raw/t10k-images-idx3-ubyte.gz\n"
     ]
    },
    {
     "output_type": "stream",
     "name": "stderr",
     "text": [
      "100%|██████████| 1648877/1648877 [00:00<00:00, 111143292.83it/s]\n"
     ]
    },
    {
     "output_type": "stream",
     "name": "stdout",
     "text": [
      "Extracting data/MNIST/raw/t10k-images-idx3-ubyte.gz to data/MNIST/raw\n",
      "\n",
      "Downloading http://yann.lecun.com/exdb/mnist/t10k-labels-idx1-ubyte.gz\n",
      "Downloading http://yann.lecun.com/exdb/mnist/t10k-labels-idx1-ubyte.gz to data/MNIST/raw/t10k-labels-idx1-ubyte.gz\n"
     ]
    },
    {
     "output_type": "stream",
     "name": "stderr",
     "text": [
      "100%|██████████| 4542/4542 [00:00<00:00, 24175797.93it/s]"
     ]
    },
    {
     "output_type": "stream",
     "name": "stdout",
     "text": [
      "Extracting data/MNIST/raw/t10k-labels-idx1-ubyte.gz to data/MNIST/raw\n",
      "\n"
     ]
    },
    {
     "output_type": "stream",
     "name": "stderr",
     "text": [
      "\n"
     ]
    }
   ],
   "source": [
    "train_dataset = datasets.MNIST(\n",
    "    root='data',\n",
    "    train=True,\n",
    "    transform=torchvision.transforms.Compose([\n",
    "        torchvision.transforms.ToTensor(),\n",
    "        torchvision.transforms.Lambda(lambda x: x * 2 - 1), # центрируем для лучшего обучения\n",
    "    ]),\n",
    "    download=True,\n",
    ")"
   ]
  },
  {
   "cell_type": "code",
   "execution_count": 8,
   "id": "f3e119c2",
   "metadata": {
    "id": "f3e119c2"
   },
   "outputs": [],
   "source": [
    "test_dataset = datasets.MNIST(\n",
    "    root='data',\n",
    "    train=False,\n",
    "    transform=torchvision.transforms.Compose([\n",
    "        torchvision.transforms.ToTensor(),\n",
    "        torchvision.transforms.Lambda(lambda x: x * 2 - 1), # центрируем для лучшего обучения\n",
    "    ]),\n",
    "    download=False,\n",
    ")"
   ]
  },
  {
   "cell_type": "code",
   "execution_count": 9,
   "id": "9fbbe24f",
   "metadata": {
    "colab": {
     "base_uri": "https://localhost:8080/"
    },
    "id": "9fbbe24f",
    "outputId": "290302eb-5752-4955-d596-496ee70c078a"
   },
   "outputs": [
    {
     "output_type": "execute_result",
     "data": {
      "text/plain": [
       "(60000, 10000)"
      ]
     },
     "metadata": {},
     "execution_count": 9
    }
   ],
   "source": [
    "len(train_dataset), len(test_dataset)"
   ]
  },
  {
   "cell_type": "code",
   "execution_count": 10,
   "id": "c1275ea8",
   "metadata": {
    "colab": {
     "base_uri": "https://localhost:8080/",
     "height": 310
    },
    "id": "c1275ea8",
    "outputId": "b3894386-2077-4059-e0b1-e0e550010644"
   },
   "outputs": [
    {
     "output_type": "execute_result",
     "data": {
      "text/plain": [
       "<matplotlib.image.AxesImage at 0x7c015846bb80>"
      ]
     },
     "metadata": {},
     "execution_count": 10
    },
    {
     "output_type": "display_data",
     "data": {
      "text/plain": [
       "<Figure size 300x300 with 1 Axes>"
      ],
      "image/png": "[encoded data removed]"
     },
     "metadata": {}
    }
   ],
   "source": [
    "plt.figure(figsize=(3,3))\n",
    "plt.imshow(train_dataset[9][0].detach().cpu().numpy()[0], cmap='gray')"
   ]
  },
  {
   "cell_type": "code",
   "execution_count": 11,
   "id": "ffe007b3",
   "metadata": {
    "id": "ffe007b3",
    "colab": {
     "base_uri": "https://localhost:8080/"
    },
    "outputId": "d9d657e4-e10a-4923-996b-11a2b45ea74e"
   },
   "outputs": [
    {
     "output_type": "stream",
     "name": "stderr",
     "text": [
      "/usr/local/lib/python3.10/dist-packages/torch/utils/data/dataloader.py:558: UserWarning: This DataLoader will create 4 worker processes in total. Our suggested max number of worker in current system is 2, which is smaller than what this DataLoader is going to create. Please be aware that excessive worker creation might get DataLoader running slow or even freeze, lower the worker number to avoid potential slowness/freeze if necessary.\n",
      "  warnings.warn(_create_warning_msg(\n"
     ]
    }
   ],
   "source": [
    "train_loader = DataLoader(train_dataset, batch_size=64, shuffle=True, num_workers=4, pin_memory=True, drop_last=True)\n",
    "test_loader = DataLoader(test_dataset, batch_size=64, shuffle=False, num_workers=4, pin_memory=True, drop_last=True)"
   ]
  },
  {
   "cell_type": "code",
   "execution_count": 12,
   "id": "0511db7c",
   "metadata": {
    "colab": {
     "base_uri": "https://localhost:8080/"
    },
    "id": "0511db7c",
    "outputId": "8478412e-43e7-4d9b-9130-10dcfc0a81e4"
   },
   "outputs": [
    {
     "output_type": "stream",
     "name": "stderr",
     "text": [
      "/usr/lib/python3.10/multiprocessing/popen_fork.py:66: RuntimeWarning: os.fork() was called. os.fork() is incompatible with multithreaded code, and JAX is multithreaded, so this will likely lead to a deadlock.\n",
      "  self.pid = os.fork()\n"
     ]
    },
    {
     "output_type": "stream",
     "name": "stdout",
     "text": [
      "torch.Size([64, 1, 28, 28])\n",
      "torch.Size([64])\n"
     ]
    }
   ],
   "source": [
    "for batch in train_loader:\n",
    "    data, labels = batch\n",
    "    print(data.shape)\n",
    "    print(labels.shape)\n",
    "    break"
   ]
  },
  {
   "cell_type": "markdown",
   "id": "4c100d2f",
   "metadata": {
    "id": "4c100d2f"
   },
   "source": [
    "# Model"
   ]
  },
  {
   "cell_type": "code",
   "execution_count": 13,
   "id": "d19d5bd3",
   "metadata": {
    "id": "d19d5bd3"
   },
   "outputs": [],
   "source": [
    "class ConvBlock(nn.Module):\n",
    "    def __init__(\n",
    "        self,\n",
    "        in_channels: int,\n",
    "        out_channels: int,\n",
    "        kernel_size: int,\n",
    "        padding: int,\n",
    "    ):\n",
    "        super(ConvBlock, self).__init__()\n",
    "\n",
    "        self.layer = nn.Sequential(\n",
    "            nn.Conv2d(\n",
    "                in_channels=in_channels,\n",
    "                out_channels=out_channels,\n",
    "                kernel_size=kernel_size,\n",
    "                padding=padding,\n",
    "            ),\n",
    "#             nn.BatchNorm2d(out_channels),\n",
    "            nn.ReLU()\n",
    "        )\n",
    "\n",
    "    def forward(self, x):\n",
    "        return self.layer(x)"
   ]
  },
  {
   "cell_type": "code",
   "execution_count": 14,
   "id": "1bc7284a",
   "metadata": {
    "id": "1bc7284a"
   },
   "outputs": [],
   "source": [
    "class ConvTransposeBlock(nn.Module):\n",
    "    def __init__(\n",
    "        self,\n",
    "        in_channels: int,\n",
    "        out_channels: int,\n",
    "        kernel_size: int,\n",
    "        padding: int,\n",
    "    ):\n",
    "        super(ConvTransposeBlock, self).__init__()\n",
    "\n",
    "        self.layer = nn.Sequential(\n",
    "            nn.ConvTranspose2d(\n",
    "                in_channels=in_channels,\n",
    "                out_channels=out_channels,\n",
    "                kernel_size=kernel_size,\n",
    "                padding=padding,\n",
    "            ),\n",
    "#             nn.BatchNorm2d(out_channels),\n",
    "            nn.ReLU()\n",
    "        )\n",
    "\n",
    "    def forward(self, x):\n",
    "        return self.layer(x)"
   ]
  },
  {
   "cell_type": "code",
   "execution_count": 15,
   "id": "f4d3a48a",
   "metadata": {
    "id": "f4d3a48a"
   },
   "outputs": [],
   "source": [
    "class ConvVAE(nn.Module):\n",
    "    def __init__(self, in_channels: int, latent_dim: int):\n",
    "        super(ConvVAE, self).__init__()\n",
    "        self.latent_dim = latent_dim\n",
    "\n",
    "        # q(z|x)\n",
    "        self.encoder = nn.Sequential(\n",
    "            ConvBlock(in_channels=in_channels, out_channels=32, kernel_size=3, padding=0),\n",
    "            ConvBlock(in_channels=32, out_channels=64, kernel_size=3, padding=0),\n",
    "            ConvBlock(in_channels=64, out_channels=128, kernel_size=3, padding=0),\n",
    "            nn.Conv2d(in_channels=128, out_channels=256, kernel_size=3, padding=0),\n",
    "        )\n",
    "        self.to_latent_fc = nn.Linear(256 * 20 * 20, 2 * latent_dim)\n",
    "\n",
    "        # p(x|z)\n",
    "        self.decoder = nn.Sequential(\n",
    "            ConvTransposeBlock(in_channels=256, out_channels=128, kernel_size=3, padding=0),\n",
    "            ConvTransposeBlock(in_channels=128, out_channels=64, kernel_size=3, padding=0),\n",
    "            ConvTransposeBlock(in_channels=64, out_channels=32, kernel_size=3, padding=0),\n",
    "            nn.ConvTranspose2d(in_channels=32, out_channels=in_channels, kernel_size=3, padding=0),\n",
    "        )\n",
    "        self.from_latent_fc = nn.Linear(latent_dim, 256 * 20 * 20)\n",
    "\n",
    "    def encode(self, x) -> tuple:\n",
    "        out = self.encoder(x)\n",
    "        flatten = torch.flatten(out, start_dim=1)\n",
    "        latent = self.to_latent_fc(flatten)\n",
    "\n",
    "        mu, log_sigma = latent[:, :self.latent_dim], latent[:, self.latent_dim:]\n",
    "        return mu, log_sigma\n",
    "\n",
    "    def decode(self, x):\n",
    "        img = self.from_latent_fc(x).reshape(-1, 256, 20, 20)\n",
    "        return self.decoder(img)\n",
    "\n",
    "    def gaussian_sampler(self, mu, log_sigma):\n",
    "        std = log_sigma.exp()\n",
    "        eps = torch.randn_like(std)\n",
    "        return eps * std + mu\n",
    "\n",
    "    def forward(self, x):\n",
    "        mu, log_sigma = self.encode(x)\n",
    "        sample = self.gaussian_sampler(mu, log_sigma)\n",
    "        return mu, log_sigma, self.decode(sample)"
   ]
  },
  {
   "cell_type": "code",
   "execution_count": 16,
   "id": "b4914f73",
   "metadata": {
    "id": "b4914f73"
   },
   "outputs": [],
   "source": [
    "def count_parameters(model: nn.Module):\n",
    "    \"\"\"Количество обучаемых параметров модели\"\"\"\n",
    "    return sum(p.numel() for p in model.parameters() if p.requires_grad)"
   ]
  },
  {
   "cell_type": "code",
   "execution_count": 17,
   "id": "9aa1bc9f",
   "metadata": {
    "id": "9aa1bc9f"
   },
   "outputs": [],
   "source": [
    "model = ConvVAE(1, 32)"
   ]
  },
  {
   "cell_type": "code",
   "execution_count": 18,
   "id": "5b278db5",
   "metadata": {
    "colab": {
     "base_uri": "https://localhost:8080/"
    },
    "id": "5b278db5",
    "outputId": "76f7a727-0d9f-45b4-9d80-49ba60327af1"
   },
   "outputs": [
    {
     "output_type": "execute_result",
     "data": {
      "text/plain": [
       "(torch.Size([64, 32]), torch.Size([64, 32]))"
      ]
     },
     "metadata": {},
     "execution_count": 18
    }
   ],
   "source": [
    "a, b = model.encode(data)#.chunk(2, 1)\n",
    "a.shape, b.shape"
   ]
  },
  {
   "cell_type": "code",
   "execution_count": 19,
   "id": "c2703c41",
   "metadata": {
    "colab": {
     "base_uri": "https://localhost:8080/"
    },
    "id": "c2703c41",
    "outputId": "da44d42f-8aec-42dc-92bb-67fe1baf31ac"
   },
   "outputs": [
    {
     "output_type": "execute_result",
     "data": {
      "text/plain": [
       "torch.Size([64, 32])"
      ]
     },
     "metadata": {},
     "execution_count": 19
    }
   ],
   "source": [
    "sample = model.gaussian_sampler(a, b)\n",
    "sample.shape"
   ]
  },
  {
   "cell_type": "code",
   "execution_count": 20,
   "id": "1da4aedb",
   "metadata": {
    "colab": {
     "base_uri": "https://localhost:8080/"
    },
    "id": "1da4aedb",
    "outputId": "e4db9906-d863-46da-8335-384a6d5fbaed"
   },
   "outputs": [
    {
     "output_type": "execute_result",
     "data": {
      "text/plain": [
       "torch.Size([64, 1, 28, 28])"
      ]
     },
     "metadata": {},
     "execution_count": 20
    }
   ],
   "source": [
    "model.decode(sample).shape"
   ]
  },
  {
   "cell_type": "code",
   "execution_count": 21,
   "id": "bc97282f",
   "metadata": {
    "colab": {
     "base_uri": "https://localhost:8080/"
    },
    "id": "bc97282f",
    "outputId": "fc1772c8-c37f-4ac9-d3f0-c8e87d66b6f5"
   },
   "outputs": [
    {
     "output_type": "execute_result",
     "data": {
      "text/plain": [
       "(torch.Size([64, 32]), torch.Size([64, 32]), torch.Size([64, 1, 28, 28]))"
      ]
     },
     "metadata": {},
     "execution_count": 21
    }
   ],
   "source": [
    "mu, log_sigma, out = model(data)\n",
    "mu.shape, log_sigma.shape, out.shape"
   ]
  },
  {
   "cell_type": "code",
   "execution_count": 22,
   "id": "b9e1f1c6",
   "metadata": {
    "colab": {
     "base_uri": "https://localhost:8080/"
    },
    "id": "b9e1f1c6",
    "outputId": "36404fd0-5460-4bc0-922c-cff3776dfa36"
   },
   "outputs": [
    {
     "output_type": "stream",
     "name": "stdout",
     "text": [
      "The model has 10,708,289 trainable parameters\n"
     ]
    }
   ],
   "source": [
    "print(f\"The model has {count_parameters(model):,} trainable parameters\")"
   ]
  },
  {
   "cell_type": "code",
   "execution_count": 23,
   "id": "ee8e941f",
   "metadata": {
    "colab": {
     "base_uri": "https://localhost:8080/"
    },
    "id": "ee8e941f",
    "outputId": "945c427a-3327-4ad0-94a2-9a006d12bb46"
   },
   "outputs": [
    {
     "output_type": "execute_result",
     "data": {
      "text/plain": [
       "(tensor([[ 0.0039,  0.0446,  0.0079,  ..., -0.0097, -0.0366,  0.0076],\n",
       "         [-0.0112,  0.0382, -0.0089,  ..., -0.0025, -0.0637,  0.0091],\n",
       "         [ 0.0120,  0.0473, -0.0004,  ..., -0.0351, -0.0358,  0.0095],\n",
       "         ...,\n",
       "         [ 0.0044,  0.0289, -0.0068,  ..., -0.0180, -0.0651,  0.0247],\n",
       "         [-0.0050,  0.0375,  0.0076,  ..., -0.0116, -0.0507, -0.0010],\n",
       "         [ 0.0086,  0.0622,  0.0010,  ..., -0.0057, -0.0576,  0.0048]],\n",
       "        grad_fn=<SliceBackward0>),\n",
       " tensor([[ 0.0059,  0.0201, -0.0231,  ..., -0.0100, -0.0053, -0.0018],\n",
       "         [ 0.0081,  0.0121, -0.0069,  ...,  0.0172, -0.0113, -0.0016],\n",
       "         [ 0.0279,  0.0191, -0.0155,  ..., -0.0062, -0.0061, -0.0093],\n",
       "         ...,\n",
       "         [ 0.0184,  0.0205, -0.0072,  ..., -0.0179, -0.0228,  0.0069],\n",
       "         [ 0.0392,  0.0191, -0.0095,  ...,  0.0035, -0.0078, -0.0239],\n",
       "         [ 0.0263,  0.0101, -0.0164,  ...,  0.0161, -0.0091, -0.0111]],\n",
       "        grad_fn=<SliceBackward0>))"
      ]
     },
     "metadata": {},
     "execution_count": 23
    }
   ],
   "source": [
    "model.encode(data)"
   ]
  },
  {
   "cell_type": "markdown",
   "id": "4337a115",
   "metadata": {
    "id": "4337a115"
   },
   "source": [
    "# Loss"
   ]
  },
  {
   "cell_type": "markdown",
   "source": [
    "Распишем правдоподобие как сумму вариационной нижней оценки (ELBO) и KL-дивергенции от вариационного распределения и апостериорного распределения:\n",
    "### $$\n",
    "    \\log p(\\mathbf{x} | \\boldsymbol{\\theta}) = \\mathcal{L}(\\boldsymbol{\\phi}, \\boldsymbol{\\theta}) + KL (q(\\mathbf{z} | \\mathbf{x}, \\boldsymbol{\\phi}) || p(\\mathbf{x} | \\mathbf{z}, \\boldsymbol{\\theta}))\n",
    "$$"
   ],
   "metadata": {
    "id": "6HpRIHmyM99z"
   },
   "id": "6HpRIHmyM99z"
  },
  {
   "cell_type": "markdown",
   "source": [
    "ELBO расписывается в виде:\n",
    "### $$\n",
    "    \\mathcal{L}(\\boldsymbol{\\phi}, \\boldsymbol{\\theta}) = \\mathbb{E}_{q(\\mathbf{z} | \\mathbf{x}, \\boldsymbol{\\phi})} \\log p(\\mathbf{x} | \\mathbf{z}, \\boldsymbol{\\theta}) - KL (q(\\mathbf{z} | \\mathbf{x}, \\boldsymbol{\\phi}) || p(\\mathbf{z})).\n",
    "$$\n",
    "\n",
    "Для расчета функции потерь определим:\n",
    "- $\\log p(\\mathbf{x} | \\mathbf{z}, \\boldsymbol{\\theta})$, генеративное распределение из $\\mathcal{N}(\\boldsymbol{\\mu}_{\\boldsymbol{\\theta}}(\\mathbf{z}), \\boldsymbol{\\Sigma}_{\\boldsymbol{\\theta}}(\\mathbf{z}))$.\n",
    "- KL-дивергенция между $\\mathcal{N}(\\boldsymbol{\\mu}_{\\boldsymbol{\\phi}}(\\mathbf{x}), \\boldsymbol{\\Sigma}_{\\boldsymbol{\\phi}}(\\mathbf{x}))$ и стандартным нормальным $\\mathcal{N}(0, I)$.\n"
   ],
   "metadata": {
    "id": "19t5Fz2pNCFw"
   },
   "id": "19t5Fz2pNCFw"
  },
  {
   "cell_type": "markdown",
   "source": [
    "Вместо максимизации логарифма правдоподобия мы будем максимизировать ELBO. Так как оптимизаторы в pytorch минимизируют ошибку, не забудем поменять знаки в $ \\mathcal{L}(\\boldsymbol{\\phi}, \\boldsymbol{\\theta}) $"
   ],
   "metadata": {
    "id": "612sTB0wNGPo"
   },
   "id": "612sTB0wNGPo"
  },
  {
   "cell_type": "code",
   "execution_count": 24,
   "id": "02d1409b",
   "metadata": {
    "id": "02d1409b"
   },
   "outputs": [],
   "source": [
    "def neg_log_likelihood(x, mu, log_sigma):\n",
    "    dist = torch.distributions.Normal(mu.float(), log_sigma.exp().float())\n",
    "    return - dist.log_prob(x)"
   ]
  },
  {
   "cell_type": "code",
   "execution_count": 25,
   "id": "06992d32",
   "metadata": {
    "id": "06992d32"
   },
   "outputs": [],
   "source": [
    "def KL_divergence(q_mu, q_log_sigma, p_mu, p_log_sigma):\n",
    "    q_std = torch.exp(q_log_sigma).float()\n",
    "    p_std = torch.exp(p_log_sigma).float()\n",
    "\n",
    "    q = torch.distributions.Normal(q_mu.float(), q_std)\n",
    "    p = torch.distributions.Normal(p_mu.float(), p_std)\n",
    "\n",
    "    return torch.distributions.kl_divergence(q, p)"
   ]
  },
  {
   "cell_type": "code",
   "execution_count": 26,
   "id": "5830fb30",
   "metadata": {
    "id": "5830fb30"
   },
   "outputs": [],
   "source": [
    "class VAELoss(nn.Module):\n",
    "    def __init__(self):\n",
    "        super(VAELoss, self).__init__()\n",
    "\n",
    "    def forward(self, target, mu_x, log_sigma_x, mu_z, log_sigma_z, beta: float = 1.0):\n",
    "        \"\"\"\n",
    "        :param target: вход для сети\n",
    "        :param mu_x: матожидание декодера p(x|z)\n",
    "        :param log_sigma_x: логарифм сигмы декодера p(x|z)\n",
    "        :param mu_z: матожидание энкодера q(z|x)\n",
    "        :param log_sigma_z: логарифм сигмы энкодера q(z|x)\n",
    "        :param beta: KL annealing parameter (против коллапса апостериорного распр-я)\n",
    "        \"\"\"\n",
    "        reconstraction_loss = neg_log_likelihood(target, mu_x, log_sigma_x).sum()\n",
    "        kl_loss = KL_divergence(\n",
    "            mu_z,\n",
    "            log_sigma_z,\n",
    "            torch.zeros_like(mu_z),\n",
    "            torch.zeros_like(log_sigma_z)\n",
    "        ).sum()\n",
    "        # KL annealing (против коллапса апостериорного распр-я)\n",
    "        return reconstraction_loss + beta * kl_loss"
   ]
  },
  {
   "cell_type": "code",
   "execution_count": 27,
   "id": "0267d091",
   "metadata": {
    "colab": {
     "base_uri": "https://localhost:8080/"
    },
    "id": "0267d091",
    "outputId": "29994e11-147d-4ff7-8bc5-dfd3e6ee70ba"
   },
   "outputs": [
    {
     "output_type": "execute_result",
     "data": {
      "text/plain": [
       "tensor(71076.4609, grad_fn=<SumBackward0>)"
      ]
     },
     "metadata": {},
     "execution_count": 27
    }
   ],
   "source": [
    "neg_log_likelihood(data, out, torch.zeros_like(data)).sum((1, 2, 3)).sum()"
   ]
  },
  {
   "cell_type": "code",
   "execution_count": 28,
   "id": "dd3d5565",
   "metadata": {
    "colab": {
     "base_uri": "https://localhost:8080/"
    },
    "id": "dd3d5565",
    "outputId": "50652bf3-bbc9-442b-98ff-4d910ff68739"
   },
   "outputs": [
    {
     "output_type": "execute_result",
     "data": {
      "text/plain": [
       "tensor(71076.4531, grad_fn=<SumBackward0>)"
      ]
     },
     "metadata": {},
     "execution_count": 28
    }
   ],
   "source": [
    "neg_log_likelihood(data, out, torch.zeros_like(data)).sum()"
   ]
  },
  {
   "cell_type": "code",
   "execution_count": 29,
   "id": "da2e242c",
   "metadata": {
    "colab": {
     "base_uri": "https://localhost:8080/"
    },
    "id": "da2e242c",
    "outputId": "9c72e152-b378-408f-9e27-98c356b34830"
   },
   "outputs": [
    {
     "output_type": "execute_result",
     "data": {
      "text/plain": [
       "tensor(1.8638, grad_fn=<SumBackward0>)"
      ]
     },
     "metadata": {},
     "execution_count": 29
    }
   ],
   "source": [
    "KL_divergence(mu, log_sigma, torch.zeros_like(mu), torch.zeros_like(log_sigma)).sum()"
   ]
  },
  {
   "cell_type": "code",
   "execution_count": 30,
   "id": "5eb0c1a3",
   "metadata": {
    "colab": {
     "base_uri": "https://localhost:8080/"
    },
    "id": "5eb0c1a3",
    "outputId": "2ca92f57-1e05-4bf4-f602-77572ce3d6a2"
   },
   "outputs": [
    {
     "output_type": "execute_result",
     "data": {
      "text/plain": [
       "tensor(1.8638, grad_fn=<SumBackward0>)"
      ]
     },
     "metadata": {},
     "execution_count": 30
    }
   ],
   "source": [
    "KL_divergence(mu, log_sigma, torch.zeros_like(mu), torch.zeros_like(log_sigma)).sum(1).sum()"
   ]
  },
  {
   "cell_type": "markdown",
   "id": "8f920c92",
   "metadata": {
    "id": "8f920c92"
   },
   "source": [
    "# Train"
   ]
  },
  {
   "cell_type": "code",
   "execution_count": 31,
   "id": "147fdd4c",
   "metadata": {
    "id": "147fdd4c"
   },
   "outputs": [],
   "source": [
    "def train(\n",
    "    model: nn.Module,\n",
    "    train_loader: DataLoader,\n",
    "    criterion: nn.Module,\n",
    "    optimizer: torch.optim.Optimizer,\n",
    "    device: str,\n",
    "    clip: float = 3.0,\n",
    "    train_history=None,\n",
    "    valid_history=None,\n",
    "    beta: float = 1.0,\n",
    "):\n",
    "    epoch_loss = 0\n",
    "    history = []\n",
    "\n",
    "    model.train()\n",
    "    for i, batch in enumerate(tqdm(train_loader)):\n",
    "        data = batch[0].to(device)\n",
    "        labels = batch[1].to(device)\n",
    "\n",
    "        mu_z, log_sigma_z, output = model(data)\n",
    "\n",
    "        loss = criterion(\n",
    "            target=data,\n",
    "            mu_x=output,\n",
    "            log_sigma_x=torch.zeros_like(data),\n",
    "            mu_z=mu_z,\n",
    "            log_sigma_z=log_sigma_z,\n",
    "            beta=beta,\n",
    "        )\n",
    "        epoch_loss += loss.item()\n",
    "\n",
    "        optimizer.zero_grad()\n",
    "        loss.backward()\n",
    "        torch.nn.utils.clip_grad_norm_(model.parameters(), clip)\n",
    "        optimizer.step()\n",
    "\n",
    "        history.append(loss.cpu().data.numpy())\n",
    "        if ((i + 1) % 10 == 0) or (i == (len(train_loader) - 1)):\n",
    "            fig, ax = plt.subplots(nrows=1, ncols=2, figsize=(12, 6))\n",
    "\n",
    "            clear_output(True)\n",
    "            ax[0].plot(np.log1p(history), label=\"train loss\")\n",
    "            ax[0].set_xlabel(\"Batch\")\n",
    "            ax[0].set_title(\"Train loss\")\n",
    "            if train_history is not None:\n",
    "                ax[1].plot(train_history, label=\"general train history\")\n",
    "                ax[1].set_xlabel(\"Epoch\")\n",
    "            if valid_history is not None:\n",
    "                ax[1].plot(valid_history, label=\"general valid history\")\n",
    "            plt.legend()\n",
    "\n",
    "            plt.show()\n",
    "        i += 1\n",
    "\n",
    "    return epoch_loss / len(train_loader), loss"
   ]
  },
  {
   "cell_type": "code",
   "execution_count": 32,
   "id": "e75309af",
   "metadata": {
    "id": "e75309af"
   },
   "outputs": [],
   "source": [
    "def validate(\n",
    "    model: nn.Module, valid_loader: DataLoader, criterion: nn.Module, device: str\n",
    "):\n",
    "\n",
    "    epoch_loss = 0\n",
    "    model.eval()\n",
    "    with torch.no_grad():\n",
    "        for batch in tqdm(valid_loader):\n",
    "            data = batch[0].to(device)\n",
    "            labels = batch[1].to(device)\n",
    "\n",
    "            mu_z, log_sigma_z, output = model(data)\n",
    "            loss = criterion(\n",
    "                target=data,\n",
    "                mu_x=output,\n",
    "                log_sigma_x=torch.zeros_like(data),\n",
    "                mu_z=mu_z,\n",
    "                log_sigma_z=log_sigma_z,\n",
    "                beta=1.0,\n",
    "            )\n",
    "            epoch_loss += loss.item()\n",
    "\n",
    "    return epoch_loss / len(valid_loader)"
   ]
  },
  {
   "cell_type": "code",
   "execution_count": 33,
   "id": "7ddf6d02",
   "metadata": {
    "id": "7ddf6d02"
   },
   "outputs": [],
   "source": [
    "def fit(\n",
    "    model: nn.Module,\n",
    "    train_loader: DataLoader,\n",
    "    valid_loader: DataLoader,\n",
    "    criterion,\n",
    "    optimizer,\n",
    "    start_epoch: int,\n",
    "    end_epoch: int,\n",
    "    clip: float = 3.0,\n",
    "):\n",
    "\n",
    "    train_losses = []\n",
    "    valid_losses = []\n",
    "\n",
    "    beta: float = 0.0\n",
    "\n",
    "    for epoch in range(start_epoch, end_epoch):\n",
    "        train_loss, last_batch_loss = train(\n",
    "            model,\n",
    "            train_loader,\n",
    "            criterion,\n",
    "            optimizer,\n",
    "            device,\n",
    "            clip,\n",
    "            train_losses,\n",
    "            valid_losses,\n",
    "            beta,\n",
    "        )\n",
    "        valid_loss = validate(model, valid_loader, criterion, device)\n",
    "        logging.info(\n",
    "            f\"Epoch: {epoch}, Training Loss: {train_loss}, Valid Loss: {valid_loss}\"\n",
    "        )\n",
    "\n",
    "        beta = min(beta + 0.2, 1.0)\n",
    "\n",
    "        train_losses.append(train_loss)\n",
    "        valid_losses.append(valid_loss)\n",
    "\n",
    "    return train_losses, valid_losses"
   ]
  },
  {
   "cell_type": "code",
   "execution_count": 34,
   "id": "b366d9a9",
   "metadata": {
    "colab": {
     "base_uri": "https://localhost:8080/",
     "height": 35
    },
    "id": "b366d9a9",
    "outputId": "4b37e5a6-7170-4ab7-864d-11a7d8d27c6b"
   },
   "outputs": [
    {
     "output_type": "execute_result",
     "data": {
      "text/plain": [
       "'cuda'"
      ],
      "application/vnd.google.colaboratory.intrinsic+json": {
       "type": "string"
      }
     },
     "metadata": {},
     "execution_count": 34
    }
   ],
   "source": [
    "device = 'cuda' if torch.cuda.is_available() else 'cpu'\n",
    "device"
   ]
  },
  {
   "cell_type": "code",
   "execution_count": 35,
   "id": "2b8a03c5",
   "metadata": {
    "colab": {
     "base_uri": "https://localhost:8080/"
    },
    "id": "2b8a03c5",
    "outputId": "c7215a02-aece-4313-c3c6-1f71ef282421"
   },
   "outputs": [
    {
     "output_type": "stream",
     "name": "stdout",
     "text": [
      "\n"
     ]
    }
   ],
   "source": [
    "model = ConvVAE(1, 32)\n",
    "model.to(device)\n",
    "print()"
   ]
  },
  {
   "cell_type": "code",
   "execution_count": 36,
   "id": "0cf1e603",
   "metadata": {
    "id": "0cf1e603"
   },
   "outputs": [],
   "source": [
    "start_epoch = 0\n",
    "end_epoch = 10\n",
    "optimizer = torch.optim.Adam(model.parameters(), lr=5e-4, weight_decay=0.0001)\n",
    "criterion = VAELoss()"
   ]
  },
  {
   "cell_type": "code",
   "execution_count": 37,
   "id": "fe805d7f",
   "metadata": {
    "scrolled": false,
    "colab": {
     "base_uri": "https://localhost:8080/",
     "height": 598
    },
    "id": "fe805d7f",
    "outputId": "3517dbff-b128-4783-a0d3-64aa59beecf5"
   },
   "outputs": [
    {
     "output_type": "display_data",
     "data": {
      "text/plain": [
       "<Figure size 1200x600 with 2 Axes>"
      ],
      "image/png": "[encoded data removed]"
     },
     "metadata": {}
    },
    {
     "output_type": "stream",
     "name": "stderr",
     "text": [
      "100%|██████████| 937/937 [01:13<00:00, 12.78it/s]\n",
      "100%|██████████| 156/156 [00:02<00:00, 62.54it/s]\n"
     ]
    }
   ],
   "source": [
    "train_losses, valid_losses = fit(\n",
    "    model=model,\n",
    "    train_loader=train_loader,\n",
    "    valid_loader=test_loader,\n",
    "    criterion=criterion,\n",
    "    optimizer=optimizer,\n",
    "    start_epoch=start_epoch,\n",
    "    end_epoch=end_epoch,\n",
    ")"
   ]
  },
  {
   "cell_type": "code",
   "execution_count": 38,
   "id": "25ee98cf",
   "metadata": {
    "id": "25ee98cf"
   },
   "outputs": [],
   "source": [
    "def sample(n, device='cpu'):\n",
    "    with torch.no_grad():\n",
    "        z = torch.randn(n, model.latent_dim).to(device)\n",
    "        out = model.decode(z)\n",
    "        samples = torch.clamp(out, -1, 1)\n",
    "    return samples.cpu().numpy() * 0.5 + 0.5  # центрируем обратно"
   ]
  },
  {
   "cell_type": "code",
   "execution_count": 39,
   "id": "f8a6a3d2",
   "metadata": {
    "id": "f8a6a3d2"
   },
   "outputs": [],
   "source": [
    "def show_samples(samples, title, figsize=None, nrow=None):\n",
    "    if isinstance(samples, np.ndarray):\n",
    "        samples = torch.FloatTensor(samples)\n",
    "    if nrow is None:\n",
    "        nrow = int(np.sqrt(len(samples)))\n",
    "    grid_samples = make_grid(samples, nrow=nrow, pad_value=1, padding=1)\n",
    "\n",
    "    grid_img = grid_samples.permute(1, 2, 0)\n",
    "    if figsize is None:\n",
    "        figsize = (6, 6)\n",
    "    plt.figure(figsize=figsize)\n",
    "    plt.title(title)\n",
    "    plt.imshow(grid_img)\n",
    "    plt.axis('off')\n",
    "    plt.show()"
   ]
  },
  {
   "cell_type": "code",
   "execution_count": 40,
   "id": "1f277858",
   "metadata": {
    "id": "1f277858"
   },
   "outputs": [],
   "source": [
    "samples = sample(25, device)"
   ]
  },
  {
   "cell_type": "code",
   "execution_count": 41,
   "id": "8c9dd1aa",
   "metadata": {
    "colab": {
     "base_uri": "https://localhost:8080/",
     "height": 521
    },
    "id": "8c9dd1aa",
    "outputId": "6eb1f795-8e4d-412b-b6e3-38cd08a4aa17"
   },
   "outputs": [
    {
     "output_type": "display_data",
     "data": {
      "text/plain": [
       "<Figure size 600x600 with 1 Axes>"
      ],
      "image/png": "[encoded data removed]"
     },
     "metadata": {}
    }
   ],
   "source": [
    "show_samples(samples, title='MNIST samples', nrow=5)"
   ]
  },
  {
   "cell_type": "code",
   "execution_count": null,
   "id": "2e680ccd",
   "metadata": {
    "id": "2e680ccd"
   },
   "outputs": [],
   "source": []
  }
 ],
 "metadata": {
  "kernelspec": {
   "display_name": "Python 3",
   "name": "python3"
  },
  "language_info": {
   "codemirror_mode": {
    "name": "ipython",
    "version": 3
   },
   "file_extension": ".py",
   "mimetype": "text/x-python",
   "name": "python",
   "nbconvert_exporter": "python",
   "pygments_lexer": "ipython3",
   "version": "3.10.11"
  },
  "colab": {
   "provenance": [],
   "gpuType": "T4"
  },
  "accelerator": "GPU"
 },
 "nbformat": 4,
 "nbformat_minor": 5
}