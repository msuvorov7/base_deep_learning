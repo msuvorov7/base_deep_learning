{
  "cells": [
    {
      "cell_type": "markdown",
      "id": "f878f57a",
      "metadata": {
        "id": "f878f57a"
      },
      "source": [
        "# Data Load"
      ]
    },
    {
      "cell_type": "code",
      "execution_count": 1,
      "id": "f763a976",
      "metadata": {
        "colab": {
          "base_uri": "https://localhost:8080/"
        },
        "id": "f763a976",
        "outputId": "cc5a2f10-1e25-42f6-f5ac-4213692565c9"
      },
      "outputs": [
        {
          "name": "stdout",
          "output_type": "stream",
          "text": [
            "--2023-08-01 13:51:57--  https://drive.google.com/uc?id=1NWYqJgeG_4883LINdEjKUr6nLQPY6Yb_\n",
            "Resolving drive.google.com (drive.google.com)... 64.233.170.138, 64.233.170.113, 64.233.170.102, ...\n",
            "Connecting to drive.google.com (drive.google.com)|64.233.170.138|:443... connected.\n",
            "HTTP request sent, awaiting response... 303 See Other\n",
            "Location: https://doc-14-00-docs.googleusercontent.com/docs/securesc/ha0ro937gcuc7l7deffksulhg5h7mbp1/iaoc74lduqensa4k2r5lnsdnhbcub71o/1690897875000/16549096980415837553/*/1NWYqJgeG_4883LINdEjKUr6nLQPY6Yb_?uuid=e4e49df1-fc21-475d-9d10-d7a93a19df26 [following]\n",
            "Warning: wildcards not supported in HTTP.\n",
            "--2023-08-01 13:52:00--  https://doc-14-00-docs.googleusercontent.com/docs/securesc/ha0ro937gcuc7l7deffksulhg5h7mbp1/iaoc74lduqensa4k2r5lnsdnhbcub71o/1690897875000/16549096980415837553/*/1NWYqJgeG_4883LINdEjKUr6nLQPY6Yb_?uuid=e4e49df1-fc21-475d-9d10-d7a93a19df26\n",
            "Resolving doc-14-00-docs.googleusercontent.com (doc-14-00-docs.googleusercontent.com)... 172.253.118.132, 2404:6800:4003:c05::84\n",
            "Connecting to doc-14-00-docs.googleusercontent.com (doc-14-00-docs.googleusercontent.com)|172.253.118.132|:443... connected.\n",
            "HTTP request sent, awaiting response... 200 OK\n",
            "Length: 12905334 (12M) [text/plain]\n",
            "Saving to: ‘data.txt’\n",
            "\n",
            "data.txt            100%[===================>]  12.31M  74.9MB/s    in 0.2s    \n",
            "\n",
            "2023-08-01 13:52:01 (74.9 MB/s) - ‘data.txt’ saved [12905334/12905334]\n",
            "\n"
          ]
        }
      ],
      "source": [
        "!wget https://drive.google.com/uc?id=1NWYqJgeG_4883LINdEjKUr6nLQPY6Yb_ -O data.txt"
      ]
    },
    {
      "cell_type": "markdown",
      "id": "eed42cdb",
      "metadata": {
        "id": "eed42cdb"
      },
      "source": [
        "https://huggingface.co/datasets/cointegrated/ru-paraphrase-NMT-Leipzig"
      ]
    },
    {
      "cell_type": "code",
      "execution_count": 2,
      "id": "2G8PZ5ibJS4F",
      "metadata": {
        "id": "2G8PZ5ibJS4F"
      },
      "outputs": [],
      "source": [
        "!pip install -q youtokentome datasets"
      ]
    },
    {
      "cell_type": "code",
      "execution_count": 3,
      "id": "nxm1yLMV4OOo",
      "metadata": {
        "id": "nxm1yLMV4OOo"
      },
      "outputs": [],
      "source": [
        "import datasets\n",
        "data = datasets.load_dataset(\n",
        "    'cointegrated/ru-paraphrase-NMT-Leipzig',\n",
        "    data_files={\"train\": \"train.csv\",\"val\": \"val.csv\",\"test\": \"test.csv\"},\n",
        ")"
      ]
    },
    {
      "cell_type": "markdown",
      "id": "f50c6dc5",
      "metadata": {
        "id": "f50c6dc5"
      },
      "source": [
        "# Import"
      ]
    },
    {
      "cell_type": "code",
      "execution_count": 4,
      "id": "nLXzdJm2VI5H",
      "metadata": {
        "id": "nLXzdJm2VI5H"
      },
      "outputs": [],
      "source": [
        "from youtokentome import BPE"
      ]
    },
    {
      "cell_type": "code",
      "execution_count": 5,
      "id": "c26b2f41",
      "metadata": {
        "id": "c26b2f41"
      },
      "outputs": [],
      "source": [
        "import pandas as pd\n",
        "import nltk\n",
        "from collections import Counter\n",
        "import random\n",
        "import numpy as np\n",
        "from tqdm import tqdm\n",
        "import matplotlib.pyplot as plt\n",
        "from sklearn.model_selection import train_test_split"
      ]
    },
    {
      "cell_type": "code",
      "execution_count": 6,
      "id": "d130811d",
      "metadata": {
        "id": "d130811d"
      },
      "outputs": [],
      "source": [
        "from IPython.display import clear_output"
      ]
    },
    {
      "cell_type": "code",
      "execution_count": 7,
      "id": "72e891e1",
      "metadata": {
        "id": "72e891e1"
      },
      "outputs": [],
      "source": [
        "import torch\n",
        "import torch.nn as nn\n",
        "import torch.optim as optim\n",
        "from torch.nn import functional as F\n",
        "from torch.utils.data import DataLoader, Dataset\n",
        "from torch.optim.lr_scheduler import CosineAnnealingLR"
      ]
    },
    {
      "cell_type": "code",
      "execution_count": 8,
      "id": "7db8d570",
      "metadata": {
        "id": "7db8d570"
      },
      "outputs": [],
      "source": [
        "SEED = 1234\n",
        "\n",
        "random.seed(SEED)\n",
        "np.random.seed(SEED)\n",
        "torch.manual_seed(SEED)\n",
        "torch.cuda.manual_seed(SEED)\n",
        "torch.backends.cudnn.deterministic = True"
      ]
    },
    {
      "cell_type": "markdown",
      "id": "6eea6bc4",
      "metadata": {
        "id": "6eea6bc4"
      },
      "source": [
        "# Dataset"
      ]
    },
    {
      "cell_type": "code",
      "execution_count": 9,
      "id": "xzXMk7lB4wZ2",
      "metadata": {
        "id": "xzXMk7lB4wZ2"
      },
      "outputs": [],
      "source": [
        "df = pd.DataFrame()\n",
        "df['en'] = data['train']['en']\n",
        "df['ru'] = data['train']['original']\n",
        "df = df.dropna().reset_index(drop=True)"
      ]
    },
    {
      "cell_type": "code",
      "execution_count": 10,
      "id": "i_AoICSzwfa2",
      "metadata": {
        "id": "i_AoICSzwfa2"
      },
      "outputs": [],
      "source": [
        "# df = pd.read_csv('data.txt', sep='\\t', names=['en', 'ru'])\n",
        "# df['en'] = df['en'].apply(str)\n",
        "# df['ru'] = df['ru'].apply(str)"
      ]
    },
    {
      "cell_type": "code",
      "execution_count": 11,
      "id": "E6-QVSDGwO7k",
      "metadata": {
        "colab": {
          "base_uri": "https://localhost:8080/"
        },
        "id": "E6-QVSDGwO7k",
        "outputId": "3c55050e-b72d-4264-f599-5edee3b70eb8"
      },
      "outputs": [
        {
          "data": {
            "text/plain": [
              "979994"
            ]
          },
          "execution_count": 11,
          "metadata": {},
          "output_type": "execute_result"
        }
      ],
      "source": [
        "len(df)"
      ]
    },
    {
      "cell_type": "code",
      "execution_count": 12,
      "id": "d0bf8a02",
      "metadata": {
        "id": "d0bf8a02"
      },
      "outputs": [],
      "source": [
        "class YandexDataset(Dataset):\n",
        "    def __init__(self, src: list, trg: list):\n",
        "        self.src = src\n",
        "        self.trg = trg\n",
        "\n",
        "    def __getitem__(self, index):\n",
        "        return {\n",
        "            'src': self.src[index],\n",
        "            'trg': self.trg[index],\n",
        "        }\n",
        "\n",
        "    def __len__(self):\n",
        "        return len(self.src)"
      ]
    },
    {
      "cell_type": "code",
      "execution_count": 13,
      "id": "OCm7LnXGFzqY",
      "metadata": {
        "id": "OCm7LnXGFzqY"
      },
      "outputs": [],
      "source": [
        "df['en'] = df['en'].apply(\n",
        "    lambda item: item.lower()\n",
        ").apply(\n",
        "    lambda item: '<sos> ' + item + ' <eos>'\n",
        ")"
      ]
    },
    {
      "cell_type": "code",
      "execution_count": 14,
      "id": "5I2pP7kaFzY8",
      "metadata": {
        "id": "5I2pP7kaFzY8"
      },
      "outputs": [],
      "source": [
        "df['ru'] = df['ru'].apply(\n",
        "    lambda item: item.lower()\n",
        ").apply(\n",
        "    lambda item: '<sos> ' + item + ' <eos>'\n",
        ")"
      ]
    },
    {
      "cell_type": "code",
      "execution_count": 15,
      "id": "N4EmLpqgVf3a",
      "metadata": {
        "id": "N4EmLpqgVf3a"
      },
      "outputs": [],
      "source": [
        "df['en'].to_csv('data_en.csv', index=False)\n",
        "df['ru'].to_csv('data_ru.csv', index=False)"
      ]
    },
    {
      "cell_type": "code",
      "execution_count": 16,
      "id": "KL-NzBpjVrzK",
      "metadata": {
        "colab": {
          "base_uri": "https://localhost:8080/"
        },
        "id": "KL-NzBpjVrzK",
        "outputId": "272ae39c-45e7-4294-90df-cf48bc6474d2"
      },
      "outputs": [
        {
          "name": "stdout",
          "output_type": "stream",
          "text": [
            "CPU times: user 26 s, sys: 2.82 s, total: 28.8 s\n",
            "Wall time: 22.8 s\n"
          ]
        }
      ],
      "source": [
        "%%time\n",
        "en_bpe = BPE.train(data=\"data_en.csv\", vocab_size=20000, model=\"en_bpe.bin\")\n",
        "ru_bpe = BPE.train(data=\"data_ru.csv\", vocab_size=45000, model=\"en_bpe.bin\")"
      ]
    },
    {
      "cell_type": "code",
      "execution_count": 17,
      "id": "SRMB7i3bWPpb",
      "metadata": {
        "colab": {
          "base_uri": "https://localhost:8080/",
          "height": 35
        },
        "id": "SRMB7i3bWPpb",
        "outputId": "317b5e18-b967-44a9-c68c-ccf14482c4d7"
      },
      "outputs": [
        {
          "data": {
            "application/vnd.google.colaboratory.intrinsic+json": {
              "type": "string"
            },
            "text/plain": [
              "' ▁<sos> ▁hello ▁friend ! ▁<eos>'"
            ]
          },
          "execution_count": 17,
          "metadata": {},
          "output_type": "execute_result"
        }
      ],
      "source": [
        "encoded = en_bpe.encode('<sos> hello friend! <eos>')\n",
        "tokenized = \"\"\n",
        "for word in encoded:\n",
        "    tokenized += \" \" + en_bpe.id_to_subword(word)\n",
        "tokenized"
      ]
    },
    {
      "cell_type": "code",
      "execution_count": 18,
      "id": "8BkWFtLqWn1U",
      "metadata": {
        "id": "8BkWFtLqWn1U"
      },
      "outputs": [],
      "source": [
        "src = df['en'].apply(\n",
        "    en_bpe.encode\n",
        ").values.tolist()"
      ]
    },
    {
      "cell_type": "code",
      "execution_count": 19,
      "id": "8bc3268a",
      "metadata": {
        "colab": {
          "base_uri": "https://localhost:8080/"
        },
        "id": "8bc3268a",
        "outputId": "cc7898b0-b9a6-46f4-84ec-6e2b30dc09e1"
      },
      "outputs": [
        {
          "data": {
            "text/plain": [
              "[290,\n",
              " 7955,\n",
              " 312,\n",
              " 247,\n",
              " 1058,\n",
              " 266,\n",
              " 558,\n",
              " 3277,\n",
              " 3744,\n",
              " 275,\n",
              " 247,\n",
              " 651,\n",
              " 1973,\n",
              " 382,\n",
              " 300,\n",
              " 4529,\n",
              " 355,\n",
              " 247,\n",
              " 18006,\n",
              " 853,\n",
              " 25,\n",
              " 3277,\n",
              " 7007,\n",
              " 252]"
            ]
          },
          "execution_count": 19,
          "metadata": {},
          "output_type": "execute_result"
        }
      ],
      "source": [
        "src[0]"
      ]
    },
    {
      "cell_type": "code",
      "execution_count": 20,
      "id": "VKNar8TKXGbK",
      "metadata": {
        "id": "VKNar8TKXGbK"
      },
      "outputs": [],
      "source": [
        "trg = df['ru'].apply(\n",
        "    ru_bpe.encode\n",
        ").values.tolist()"
      ]
    },
    {
      "cell_type": "code",
      "execution_count": 21,
      "id": "15f187dd",
      "metadata": {
        "colab": {
          "base_uri": "https://localhost:8080/"
        },
        "id": "15f187dd",
        "outputId": "d20458d2-f8d0-4504-9e21-2cdf4cf7a8ee"
      },
      "outputs": [
        {
          "data": {
            "text/plain": [
              "{252: 543,\n",
              " 6175: 10365,\n",
              " 266: 632,\n",
              " 11095: 2789,\n",
              " 9909: 653,\n",
              " 275: 8915,\n",
              " 6441: 35327,\n",
              " 346: 660,\n",
              " 7048: 500,\n",
              " 3610: 6739,\n",
              " 11649: 16504,\n",
              " 8369: 8649,\n",
              " 1601: 1746,\n",
              " 16746: 22771,\n",
              " 1507: 52,\n",
              " 434: 33585,\n",
              " 3549: 501,\n",
              " 4229: 11800,\n",
              " 5836: 22972,\n",
              " 290: 11479}"
            ]
          },
          "execution_count": 21,
          "metadata": {},
          "output_type": "execute_result"
        }
      ],
      "source": [
        "dict(zip(src[11][::-1], trg[11]))"
      ]
    },
    {
      "cell_type": "code",
      "execution_count": 22,
      "id": "t2LxjUkMmxG3",
      "metadata": {
        "id": "t2LxjUkMmxG3"
      },
      "outputs": [],
      "source": [
        "src_train, src_test, trg_train, trg_test = train_test_split(\n",
        "    src[:],\n",
        "    trg[:],\n",
        "    random_state=42,\n",
        "    test_size=0.25\n",
        ")\n",
        "src_train, src_valid, trg_train, trg_valid = train_test_split(\n",
        "    src_train,\n",
        "    trg_train,\n",
        "    random_state=42,\n",
        "    test_size=0.2\n",
        ")"
      ]
    },
    {
      "cell_type": "code",
      "execution_count": 23,
      "id": "5Mmnc7nznYV_",
      "metadata": {
        "colab": {
          "base_uri": "https://localhost:8080/"
        },
        "id": "5Mmnc7nznYV_",
        "outputId": "41e94de0-4a21-48ce-a23c-ec34d5fe17dc"
      },
      "outputs": [
        {
          "data": {
            "text/plain": [
              "(587996, 146999, 244999)"
            ]
          },
          "execution_count": 23,
          "metadata": {},
          "output_type": "execute_result"
        }
      ],
      "source": [
        "len(src_train), len(src_valid), len(src_test)"
      ]
    },
    {
      "cell_type": "code",
      "execution_count": 24,
      "id": "fb6a9aaa",
      "metadata": {
        "id": "fb6a9aaa"
      },
      "outputs": [],
      "source": [
        "train_data = YandexDataset(src_train, trg_train)\n",
        "valid_data = YandexDataset(src_valid, trg_valid)\n",
        "test_data = YandexDataset(src_test, trg_test)"
      ]
    },
    {
      "cell_type": "code",
      "execution_count": 25,
      "id": "3d2aeaee",
      "metadata": {
        "id": "3d2aeaee"
      },
      "outputs": [],
      "source": [
        "def collate_fn(batch):\n",
        "    max_src_len = max(len(row[\"src\"]) for row in batch)\n",
        "    max_trg_len = max(len(row[\"trg\"]) for row in batch)\n",
        "    max_len = max(max_src_len, max_trg_len)\n",
        "    src_list = torch.empty((len(batch), max_len), dtype=torch.long)\n",
        "    trg_list = torch.empty((len(batch), max_len), dtype=torch.long)\n",
        "\n",
        "    for idx, row in enumerate(batch):\n",
        "        to_pad_src = max_len - len(row[\"src\"])\n",
        "        to_pad_trg = max_len - len(row[\"trg\"])\n",
        "        _src = row['src']\n",
        "        _trg = row['trg']\n",
        "        src_list[idx] = torch.cat((torch.tensor(_src), torch.zeros(to_pad_src)))\n",
        "        trg_list[idx] = torch.cat((torch.tensor(_trg), torch.zeros(to_pad_trg)))\n",
        "\n",
        "    return {\n",
        "        'src': src_list,\n",
        "        'trg': trg_list,\n",
        "    }"
      ]
    },
    {
      "cell_type": "code",
      "execution_count": 26,
      "id": "ab34fc34",
      "metadata": {
        "id": "ab34fc34"
      },
      "outputs": [],
      "source": [
        "train_loader = DataLoader(train_data, batch_size=64, shuffle=True, collate_fn=collate_fn)\n",
        "valid_loader = DataLoader(valid_data, batch_size=64, shuffle=False, collate_fn=collate_fn)\n",
        "test_loader = DataLoader(test_data, batch_size=64, shuffle=False, collate_fn=collate_fn)"
      ]
    },
    {
      "cell_type": "code",
      "execution_count": 27,
      "id": "5c5b057e",
      "metadata": {
        "colab": {
          "base_uri": "https://localhost:8080/"
        },
        "id": "5c5b057e",
        "outputId": "03a2ed7c-cc44-46a8-9df1-f5b8dfcb6854"
      },
      "outputs": [
        {
          "name": "stdout",
          "output_type": "stream",
          "text": [
            "torch.Size([64, 57])\n",
            "torch.Size([64, 57])\n"
          ]
        }
      ],
      "source": [
        "for batch in train_loader:\n",
        "    print(batch['src'].shape)\n",
        "    print(batch['trg'].shape)\n",
        "    break"
      ]
    },
    {
      "cell_type": "code",
      "execution_count": 28,
      "id": "2e1d91b9",
      "metadata": {
        "colab": {
          "base_uri": "https://localhost:8080/"
        },
        "id": "2e1d91b9",
        "outputId": "c89dda79-47d6-4d00-a3ed-104b1292049d"
      },
      "outputs": [
        {
          "data": {
            "text/plain": [
              "device(type='cuda')"
            ]
          },
          "execution_count": 28,
          "metadata": {},
          "output_type": "execute_result"
        }
      ],
      "source": [
        "device = torch.device('cuda' if torch.cuda.is_available() else 'cpu')\n",
        "device"
      ]
    },
    {
      "cell_type": "code",
      "execution_count": 29,
      "id": "f13c6085",
      "metadata": {
        "colab": {
          "base_uri": "https://localhost:8080/"
        },
        "id": "f13c6085",
        "outputId": "e8f754ac-734b-4bfb-d44f-e90696643e3e"
      },
      "outputs": [
        {
          "data": {
            "text/plain": [
              "tensor([[ 290, 2122, 2854,  ...,    0,    0,    0],\n",
              "        [ 290,  678,  301,  ...,    0,    0,    0],\n",
              "        [ 290,  247, 1743,  ...,    0,    0,    0],\n",
              "        ...,\n",
              "        [ 290, 2087,  485,  ...,    0,    0,    0],\n",
              "        [ 290,  543,  279,  ...,    0,    0,    0],\n",
              "        [ 290, 4096,  708,  ...,  419,   22,  252]])"
            ]
          },
          "execution_count": 29,
          "metadata": {},
          "output_type": "execute_result"
        }
      ],
      "source": [
        "batch['src']"
      ]
    },
    {
      "cell_type": "code",
      "execution_count": 30,
      "id": "26c52d3d",
      "metadata": {
        "id": "26c52d3d"
      },
      "outputs": [],
      "source": [
        "def count_parameters(model):\n",
        "    return sum(p.numel() for p in model.parameters() if p.requires_grad)"
      ]
    },
    {
      "cell_type": "markdown",
      "id": "7d5e38ff",
      "metadata": {
        "id": "7d5e38ff"
      },
      "source": [
        "# Model"
      ]
    },
    {
      "cell_type": "code",
      "execution_count": 31,
      "id": "cb_gQ-YnEMhF",
      "metadata": {
        "id": "cb_gQ-YnEMhF"
      },
      "outputs": [],
      "source": [
        "class MultiHeadAttentionLayer(nn.Module):\n",
        "    def __init__(self,\n",
        "                 hid_dim: int,\n",
        "                 n_heads: int,\n",
        "                 dropout: float = 0.2,\n",
        "                 device: str = 'cpu'\n",
        "                 ):\n",
        "        super().__init__()\n",
        "        self.device = device\n",
        "        if hid_dim % n_heads != 0:\n",
        "            raise NotImplementedError\n",
        "\n",
        "        self.hid_dim = hid_dim\n",
        "        self.n_heads = n_heads\n",
        "        self.head_dim = hid_dim // n_heads\n",
        "\n",
        "        self.fc_q = nn.Linear(hid_dim, hid_dim)\n",
        "        self.fc_k = nn.Linear(hid_dim, hid_dim)\n",
        "        self.fc_v = nn.Linear(hid_dim, hid_dim)\n",
        "\n",
        "        self.fc_o = nn.Linear(hid_dim, hid_dim)\n",
        "\n",
        "        self.dropout = nn.Dropout(p=dropout)\n",
        "        self.scale = torch.sqrt(torch.FloatTensor([hid_dim])).to(self.device)\n",
        "\n",
        "    def forward(self, query, key, value, mask=None):\n",
        "        batch_size = query.size(0)\n",
        "\n",
        "        # query = [batch_size, query_len, hid_dim]\n",
        "        # key = [batch_size, key_len, hid_dim]\n",
        "        # value = [batch_size, value_len, hid_dim]\n",
        "\n",
        "        Q = self.fc_q(query)\n",
        "        K = self.fc_k(key)\n",
        "        V = self.fc_v(value)\n",
        "\n",
        "        # Q = [batch_size, query_len, hid_dim]\n",
        "        # K = [batch_size, key_len, hid_dim]\n",
        "        # V = [batch_size, value_len, hid_dim]\n",
        "\n",
        "        Q = Q.view(batch_size, -1, self.n_heads, self.head_dim).permute(0, 2, 1, 3)\n",
        "        K = K.view(batch_size, -1, self.n_heads, self.head_dim).permute(0, 2, 1, 3)\n",
        "        V = V.view(batch_size, -1, self.n_heads, self.head_dim).permute(0, 2, 1, 3)\n",
        "\n",
        "        # Q = [batch_size, n_heads, query_len, head_dim]\n",
        "        # K = [batch_size, n_heads, key_len, head_dim]\n",
        "        # V = [batch_size, n_heads, value_len, head_dim]\n",
        "\n",
        "        energy = torch.matmul(Q, K.transpose(2, 3)) / self.scale\n",
        "\n",
        "        # energy = [batch_size, n_heds, query_len, key_len]\n",
        "\n",
        "        if mask is not None:\n",
        "            energy = energy.masked_fill(mask == 0, -1e10)\n",
        "\n",
        "        attn = torch.softmax(energy, dim=-1)\n",
        "\n",
        "        # attn = [batch_size, n_heds, query_len, key_len]\n",
        "\n",
        "        x = torch.matmul(self.dropout(attn), V)\n",
        "\n",
        "        # x = [batch_size, n_heads, query_len, head_dim]\n",
        "\n",
        "        x = x.permute(0, 2, 1, 3).contiguous()\n",
        "\n",
        "        # x = [batch_size, query_len, n_heads, head_dim]\n",
        "\n",
        "        x = x.view(batch_size, -1, self.hid_dim)\n",
        "\n",
        "        # x = [batch_size, query_len, hid_dim]\n",
        "\n",
        "        x = self.fc_o(x)\n",
        "\n",
        "        return x, attn"
      ]
    },
    {
      "cell_type": "code",
      "execution_count": 32,
      "id": "v9Iii3UJAV3z",
      "metadata": {
        "id": "v9Iii3UJAV3z"
      },
      "outputs": [],
      "source": [
        "class PositionwiseFeedforwardLayer(nn.Module):\n",
        "    def __init__(self,\n",
        "                 hid_dim: int,\n",
        "                 pf_dim: int,\n",
        "                 dropout: float = 0.2,\n",
        "                 ):\n",
        "        super().__init__()\n",
        "        self.fc_1 = nn.Linear(hid_dim, pf_dim)\n",
        "        self.fc_2 = nn.Linear(pf_dim, hid_dim)\n",
        "\n",
        "        self.dropout = nn.Dropout(p=dropout)\n",
        "\n",
        "    def forward(self, x):\n",
        "      # x = [batch_size, seq_len, hid_dim]\n",
        "      x = self.dropout(F.leaky_relu(self.fc_1(x)))\n",
        "\n",
        "      # x = [batch_size, seq_len, pf_dim]\n",
        "      x = self.fc_2(x)\n",
        "\n",
        "      # x = [batch_size, seq_len, hid_dim]\n",
        "      return x"
      ]
    },
    {
      "cell_type": "code",
      "execution_count": 33,
      "id": "pxAbumnYAVzh",
      "metadata": {
        "id": "pxAbumnYAVzh"
      },
      "outputs": [],
      "source": [
        "class EncoderLayer(nn.Module):\n",
        "    def __init__(self,\n",
        "                 hid_dim: int,\n",
        "                 n_heads: int,\n",
        "                 pf_dim: int,\n",
        "                 dropout: float = 0.2,\n",
        "                 device: str = 'cpu',\n",
        "                 ):\n",
        "        super().__init__()\n",
        "        self.self_attn_layer_norm = nn.LayerNorm(hid_dim)\n",
        "        self.ff_layer_norm = nn.LayerNorm(hid_dim)\n",
        "        self.self_attention = MultiHeadAttentionLayer(hid_dim, n_heads, dropout, device)\n",
        "        self.positionwise_ff = PositionwiseFeedforwardLayer(hid_dim, pf_dim, dropout)\n",
        "\n",
        "        self.dropout = nn.Dropout(p=dropout)\n",
        "\n",
        "    def forward(self, src, src_mask):\n",
        "        # src = [batch_size, src_len, hid_dim]\n",
        "        # src_mask = [batch_size, 1, 1, src_len]\n",
        "\n",
        "        # self_attention\n",
        "        _src, _ = self.self_attention(src, src, src, src_mask)\n",
        "\n",
        "        # dropout / residual conn / layer norm\n",
        "        src = self.self_attn_layer_norm(src + self.dropout(_src))\n",
        "\n",
        "        # src = [batch_size, src_len, hid_dim]\n",
        "\n",
        "        # positionwise feedforward\n",
        "        _src = self.positionwise_ff(src)\n",
        "\n",
        "        # dropout / residual conn / layer norm\n",
        "        src = self.ff_layer_norm(src + self.dropout(_src))\n",
        "\n",
        "        # src = [batch_size, src_len, hid_dim]\n",
        "\n",
        "        return src"
      ]
    },
    {
      "cell_type": "code",
      "execution_count": 34,
      "id": "73a178fc",
      "metadata": {
        "id": "73a178fc"
      },
      "outputs": [],
      "source": [
        "class Encoder(nn.Module):\n",
        "    def __init__(self,\n",
        "                 vocab_size: int,\n",
        "                 hid_dim: int,\n",
        "                 n_layers: int,\n",
        "                 n_heads: int,\n",
        "                 pf_dim: int,\n",
        "                 max_length: int = 100,\n",
        "                 dropout: float = 0.2,\n",
        "                 device: str = 'cpu',\n",
        "                ):\n",
        "        super().__init__()\n",
        "\n",
        "        self.device = device\n",
        "\n",
        "        self.tok_embedding = nn.Embedding(vocab_size, hid_dim)\n",
        "        self.pos_embedding = nn.Embedding(max_length, hid_dim)\n",
        "\n",
        "        self.layers = nn.ModuleList([\n",
        "            EncoderLayer(\n",
        "                hid_dim,\n",
        "                n_heads,\n",
        "                pf_dim,\n",
        "                dropout,\n",
        "                device,\n",
        "            ) for _ in range(n_layers)\n",
        "        ])\n",
        "\n",
        "        self.dropout = nn.Dropout(p=dropout)\n",
        "        self.scale = torch.sqrt(torch.FloatTensor([hid_dim])).to(self.device)\n",
        "\n",
        "    def forward(self, src, src_mask):\n",
        "        # src = [batch_size, seq_len]\n",
        "        # src_mask = [batch_size, 1, 1, src_len]\n",
        "\n",
        "        batch_size = src.size(0)\n",
        "        src_len = src.size(1)\n",
        "\n",
        "        pos = torch.arange(0, src_len).unsqueeze(0).repeat(batch_size, 1).to(self.device)\n",
        "        # pos = [batch_size, src_len]\n",
        "\n",
        "        src = self.dropout(\n",
        "            self.tok_embedding(src) * self.scale + self.pos_embedding(pos)\n",
        "        )\n",
        "\n",
        "        for layer in self.layers:\n",
        "            src = layer(src, src_mask)\n",
        "\n",
        "        # src = [batch_size, src_len, hid_dim]\n",
        "\n",
        "        return src"
      ]
    },
    {
      "cell_type": "code",
      "execution_count": 35,
      "id": "vweKc9uPtgG4",
      "metadata": {
        "id": "vweKc9uPtgG4"
      },
      "outputs": [],
      "source": [
        "encoder = Encoder(\n",
        "    vocab_size=en_bpe.vocab_size(),\n",
        "    hid_dim=256,\n",
        "    n_layers=3,\n",
        "    n_heads=8,\n",
        "    pf_dim=512,\n",
        "    max_length=256,\n",
        "    dropout=0.2,\n",
        "    device=device,\n",
        ")"
      ]
    },
    {
      "cell_type": "code",
      "execution_count": 36,
      "id": "MnibQOq_OOeR",
      "metadata": {
        "id": "MnibQOq_OOeR"
      },
      "outputs": [],
      "source": [
        "class DencoderLayer(nn.Module):\n",
        "    def __init__(self,\n",
        "                 hid_dim: int,\n",
        "                 n_heads: int,\n",
        "                 pf_dim: int,\n",
        "                 dropout: float = 0.2,\n",
        "                 device: str = 'cpu',\n",
        "                 ):\n",
        "        super().__init__()\n",
        "\n",
        "        self.self_attn_layer_norm = nn.LayerNorm(hid_dim)\n",
        "        self.enc_attn_layer_norm = nn.LayerNorm(hid_dim)\n",
        "        self.ff_layer_norm = nn.LayerNorm(hid_dim)\n",
        "\n",
        "        self.self_attention = MultiHeadAttentionLayer(hid_dim, n_heads, dropout, device)\n",
        "        self.encoder_attention = MultiHeadAttentionLayer(hid_dim, n_heads, dropout, device)\n",
        "        self.positionwise_ff = PositionwiseFeedforwardLayer(hid_dim, pf_dim, dropout)\n",
        "\n",
        "        self.dropout = nn.Dropout(p=dropout)\n",
        "\n",
        "    def forward(self, trg, enc_src, trg_mask, src_mask):\n",
        "        # trg = [batch_size, trg_len]\n",
        "        # enc_src = [batch_size, src_len, hid_dim]\n",
        "        # trg_mask = [batch_size, 1, trg_len, trg_len]\n",
        "        # src_mask = [batch_size, 1, 1, src_len]\n",
        "\n",
        "        # self_attention\n",
        "        _trg, _ = self.self_attention(trg, trg, trg, trg_mask)\n",
        "\n",
        "        # dropout / residual conn / layer norm\n",
        "        trg = self.self_attn_layer_norm(trg + self.dropout(_trg))\n",
        "\n",
        "        # trg = [batch_size, trg_len, hid_dim]\n",
        "\n",
        "        # encoder_attention\n",
        "        _trg, attn = self.encoder_attention(trg, enc_src, enc_src, src_mask)\n",
        "\n",
        "        # dropout / residual conn / layer norm\n",
        "        trg = self.enc_attn_layer_norm(trg + self.dropout(_trg))\n",
        "\n",
        "        # trg = [batch_size, trg_len, hid_dim]\n",
        "\n",
        "        # positionwise feedforward\n",
        "        _trg = self.positionwise_ff(trg)\n",
        "\n",
        "        # dropout / residual conn / layer norm\n",
        "        trg = self.ff_layer_norm(trg + self.dropout(_trg))\n",
        "\n",
        "        # trg = [batch_size, trg_len, hid_dim]\n",
        "        # attn = [batch_size, n_heads, trg_len, src_len]\n",
        "\n",
        "        return trg, attn"
      ]
    },
    {
      "cell_type": "code",
      "execution_count": 37,
      "id": "55e0bf5d",
      "metadata": {
        "id": "55e0bf5d"
      },
      "outputs": [],
      "source": [
        "class Decoder(nn.Module):\n",
        "    def __init__(self,\n",
        "                 output_dim: int,\n",
        "                 hid_dim: int,\n",
        "                 n_layers: int,\n",
        "                 n_heads: int,\n",
        "                 pf_dim,\n",
        "                 dropout: float = 0.2,\n",
        "                 device: str = 'cpu',\n",
        "                 max_length: int = 100,\n",
        "                ):\n",
        "        super().__init__()\n",
        "        self.device = device\n",
        "\n",
        "        self.tok_embedding = nn.Embedding(output_dim, hid_dim)\n",
        "        self.pos_embedding = nn.Embedding(max_length, hid_dim)\n",
        "\n",
        "        self.layers = nn.ModuleList([\n",
        "            DencoderLayer(\n",
        "                hid_dim,\n",
        "                n_heads,\n",
        "                pf_dim,\n",
        "                dropout,\n",
        "                device,\n",
        "            ) for _ in range(n_layers)\n",
        "        ])\n",
        "\n",
        "        self.fc_out = nn.Linear(hid_dim, output_dim)\n",
        "\n",
        "        self.dropout = nn.Dropout(p=dropout)\n",
        "        self.scale = torch.sqrt(torch.FloatTensor([hid_dim])).to(self.device)\n",
        "\n",
        "    def forward(self, trg, enc_src, trg_mask, src_mask):\n",
        "        # trg = [batch_size, trg_len]\n",
        "        # enc_src = [batch_size, src_len, hid_dim]\n",
        "        # trg_mask = [batch_size, 1, trg_len, trg_len]\n",
        "        # src_mask = [batch_size, 1, 1, src_len]\n",
        "\n",
        "        batch_size = trg.size(0)\n",
        "        trg_len = trg.size(1)\n",
        "\n",
        "        pos = torch.arange(0, trg_len).unsqueeze(0).repeat(batch_size, 1).to(self.device)\n",
        "        # pos = [batch_size, trg_len]\n",
        "\n",
        "        trg = self.dropout(\n",
        "            self.tok_embedding(trg) * self.scale + self.pos_embedding(pos)\n",
        "        )\n",
        "\n",
        "        for layer in self.layers:\n",
        "            trg, attn = layer(trg, enc_src, trg_mask, src_mask)\n",
        "\n",
        "        # trg = [batch_size, trg_len, hid_dim]\n",
        "        # attn = [batch_size, n_heads, trg_len, src_len]\n",
        "\n",
        "        out = self.fc_out(trg)\n",
        "\n",
        "        # out = [batch_size, trg_len, output_dim]\n",
        "\n",
        "        return out, attn"
      ]
    },
    {
      "cell_type": "code",
      "execution_count": 38,
      "id": "1b0ecee1",
      "metadata": {
        "id": "1b0ecee1"
      },
      "outputs": [],
      "source": [
        "decoder = Decoder(\n",
        "    output_dim=ru_bpe.vocab_size(),\n",
        "    hid_dim=256,\n",
        "    n_layers=3,\n",
        "    n_heads=8,\n",
        "    pf_dim=512,\n",
        "    dropout=0.2,\n",
        "    device=device,\n",
        "    max_length=256,\n",
        ")"
      ]
    },
    {
      "cell_type": "code",
      "execution_count": 39,
      "id": "60202f62",
      "metadata": {
        "id": "60202f62"
      },
      "outputs": [],
      "source": [
        "class Seq2Seq(nn.Module):\n",
        "    def __init__(self,\n",
        "                 encoder,\n",
        "                 decoder,\n",
        "                 src_pad_idx,\n",
        "                 trg_pad_idx,\n",
        "                 device,\n",
        "                 ):\n",
        "        super().__init__()\n",
        "\n",
        "        self.encoder = encoder\n",
        "        self.decoder = decoder\n",
        "\n",
        "        self.src_pad_idx = src_pad_idx\n",
        "        self.trg_pad_idx = trg_pad_idx\n",
        "        self.device = device\n",
        "\n",
        "    def make_src_mask(self, src):\n",
        "        # src = [batch_size, src_len]\n",
        "        src_mask = (src != self.src_pad_idx).unsqueeze(1).unsqueeze(2)\n",
        "\n",
        "        # src_mask = [batch_size, 1, 1, src_len]\n",
        "        return src_mask\n",
        "\n",
        "    def make_trg_mask(self, trg):\n",
        "        # trg = [batch_size, trg_len]\n",
        "        trg_len = trg.size(1)\n",
        "\n",
        "        trg_pad_mask = (trg != self.trg_pad_idx).unsqueeze(1).unsqueeze(2)\n",
        "\n",
        "        # trg_pad_mask = [batch_size, 1, 1, trg_len]\n",
        "\n",
        "        trg_sub_mask = torch.tril(torch.ones((trg_len, trg_len), device=self.device)).bool()\n",
        "\n",
        "        # trg_sub_mask = [trg_len, trg_len]\n",
        "\n",
        "        trg_mask = trg_pad_mask & trg_sub_mask\n",
        "        # trg_mask = [batch_size, 1, trg_len, trg_len]\n",
        "\n",
        "        return trg_mask\n",
        "\n",
        "\n",
        "    def forward(self, src, trg):\n",
        "        # src = [batch_size, seq_len]\n",
        "        # trg = [batch_size, seq_len]\n",
        "\n",
        "        src_mask = self.make_src_mask(src)\n",
        "        trg_mask = self.make_trg_mask(trg)\n",
        "\n",
        "        # src_mask = [batch_size, 1, 1, seq_len]\n",
        "        # trg_mask = [batch_size, 1, trg_len, trg_len]\n",
        "\n",
        "        enc_src = self.encoder(src, src_mask)\n",
        "        # enc_src = [batch_size, src_len, hid_dim]\n",
        "\n",
        "        out, attn = self.decoder(trg, enc_src, trg_mask, src_mask)\n",
        "        # out = [batch_size, trg_len, out_dim]\n",
        "        # attn = [batch_size, n_heads, trg_len, src_len]\n",
        "\n",
        "        return out, attn"
      ]
    },
    {
      "cell_type": "code",
      "execution_count": 40,
      "id": "7cc42d24",
      "metadata": {
        "colab": {
          "base_uri": "https://localhost:8080/"
        },
        "id": "7cc42d24",
        "outputId": "8baecd62-b7f2-494b-de33-2f1257a46890"
      },
      "outputs": [
        {
          "data": {
            "text/plain": [
              "Seq2Seq(\n",
              "  (encoder): Encoder(\n",
              "    (tok_embedding): Embedding(20000, 256)\n",
              "    (pos_embedding): Embedding(256, 256)\n",
              "    (layers): ModuleList(\n",
              "      (0-2): 3 x EncoderLayer(\n",
              "        (self_attn_layer_norm): LayerNorm((256,), eps=1e-05, elementwise_affine=True)\n",
              "        (ff_layer_norm): LayerNorm((256,), eps=1e-05, elementwise_affine=True)\n",
              "        (self_attention): MultiHeadAttentionLayer(\n",
              "          (fc_q): Linear(in_features=256, out_features=256, bias=True)\n",
              "          (fc_k): Linear(in_features=256, out_features=256, bias=True)\n",
              "          (fc_v): Linear(in_features=256, out_features=256, bias=True)\n",
              "          (fc_o): Linear(in_features=256, out_features=256, bias=True)\n",
              "          (dropout): Dropout(p=0.2, inplace=False)\n",
              "        )\n",
              "        (positionwise_ff): PositionwiseFeedforwardLayer(\n",
              "          (fc_1): Linear(in_features=256, out_features=512, bias=True)\n",
              "          (fc_2): Linear(in_features=512, out_features=256, bias=True)\n",
              "          (dropout): Dropout(p=0.2, inplace=False)\n",
              "        )\n",
              "        (dropout): Dropout(p=0.2, inplace=False)\n",
              "      )\n",
              "    )\n",
              "    (dropout): Dropout(p=0.2, inplace=False)\n",
              "  )\n",
              "  (decoder): Decoder(\n",
              "    (tok_embedding): Embedding(45000, 256)\n",
              "    (pos_embedding): Embedding(256, 256)\n",
              "    (layers): ModuleList(\n",
              "      (0-2): 3 x DencoderLayer(\n",
              "        (self_attn_layer_norm): LayerNorm((256,), eps=1e-05, elementwise_affine=True)\n",
              "        (enc_attn_layer_norm): LayerNorm((256,), eps=1e-05, elementwise_affine=True)\n",
              "        (ff_layer_norm): LayerNorm((256,), eps=1e-05, elementwise_affine=True)\n",
              "        (self_attention): MultiHeadAttentionLayer(\n",
              "          (fc_q): Linear(in_features=256, out_features=256, bias=True)\n",
              "          (fc_k): Linear(in_features=256, out_features=256, bias=True)\n",
              "          (fc_v): Linear(in_features=256, out_features=256, bias=True)\n",
              "          (fc_o): Linear(in_features=256, out_features=256, bias=True)\n",
              "          (dropout): Dropout(p=0.2, inplace=False)\n",
              "        )\n",
              "        (encoder_attention): MultiHeadAttentionLayer(\n",
              "          (fc_q): Linear(in_features=256, out_features=256, bias=True)\n",
              "          (fc_k): Linear(in_features=256, out_features=256, bias=True)\n",
              "          (fc_v): Linear(in_features=256, out_features=256, bias=True)\n",
              "          (fc_o): Linear(in_features=256, out_features=256, bias=True)\n",
              "          (dropout): Dropout(p=0.2, inplace=False)\n",
              "        )\n",
              "        (positionwise_ff): PositionwiseFeedforwardLayer(\n",
              "          (fc_1): Linear(in_features=256, out_features=512, bias=True)\n",
              "          (fc_2): Linear(in_features=512, out_features=256, bias=True)\n",
              "          (dropout): Dropout(p=0.2, inplace=False)\n",
              "        )\n",
              "        (dropout): Dropout(p=0.2, inplace=False)\n",
              "      )\n",
              "    )\n",
              "    (fc_out): Linear(in_features=256, out_features=45000, bias=True)\n",
              "    (dropout): Dropout(p=0.2, inplace=False)\n",
              "  )\n",
              ")"
            ]
          },
          "execution_count": 40,
          "metadata": {},
          "output_type": "execute_result"
        }
      ],
      "source": [
        "model = Seq2Seq(encoder, decoder, 0, 0, device)\n",
        "model.to(device)"
      ]
    },
    {
      "cell_type": "code",
      "execution_count": 41,
      "id": "8d166691",
      "metadata": {
        "colab": {
          "base_uri": "https://localhost:8080/"
        },
        "id": "8d166691",
        "outputId": "0f6c2489-bada-44db-d80d-fe688923ee83"
      },
      "outputs": [
        {
          "data": {
            "text/plain": [
              "(torch.Size([64, 57, 45000]), torch.Size([64, 8, 57, 57]))"
            ]
          },
          "execution_count": 41,
          "metadata": {},
          "output_type": "execute_result"
        }
      ],
      "source": [
        "output = model(batch['src'].to(device), batch['trg'].to(device))\n",
        "output[0].shape, output[1].shape"
      ]
    },
    {
      "cell_type": "code",
      "execution_count": 42,
      "id": "WFOWnA5Toc5T",
      "metadata": {
        "colab": {
          "base_uri": "https://localhost:8080/"
        },
        "id": "WFOWnA5Toc5T",
        "outputId": "b87fcead-53c5-4608-9174-84766db15305"
      },
      "outputs": [
        {
          "name": "stdout",
          "output_type": "stream",
          "text": [
            "The model has 32,289,736 trainable parameters\n"
          ]
        }
      ],
      "source": [
        "print(f'The model has {count_parameters(model):,} trainable parameters')"
      ]
    },
    {
      "cell_type": "code",
      "execution_count": 43,
      "id": "PNO3goVUqVw4",
      "metadata": {
        "id": "PNO3goVUqVw4"
      },
      "outputs": [],
      "source": [
        "# model.to(device)"
      ]
    },
    {
      "cell_type": "code",
      "execution_count": 49,
      "id": "35570bbf",
      "metadata": {
        "id": "35570bbf"
      },
      "outputs": [],
      "source": [
        "epochs = 3\n",
        "PAD_IDX = 0\n",
        "optimizer = optim.Adam(model.parameters(), lr=5e-4)\n",
        "scheduler = CosineAnnealingLR(optimizer, T_max=int(len(train_loader) + 1) * epochs)\n",
        "criterion = nn.CrossEntropyLoss(ignore_index=PAD_IDX)"
      ]
    },
    {
      "cell_type": "code",
      "execution_count": 50,
      "id": "d1b21583",
      "metadata": {
        "id": "d1b21583"
      },
      "outputs": [],
      "source": [
        "def train(model, iterator, optimizer, scheduler, criterion, clip, train_history=None, valid_history=None):\n",
        "    model.train()\n",
        "\n",
        "    epoch_loss = 0\n",
        "    history = []\n",
        "    i = 0\n",
        "    for batch in tqdm(iterator):\n",
        "\n",
        "        src = batch['src'].to(device)\n",
        "        trg = batch['trg'].to(device)\n",
        "\n",
        "        optimizer.zero_grad()\n",
        "\n",
        "        output, _ = model(src, trg[:,:-1])\n",
        "\n",
        "        #output = [batch size, trg len - 1, output dim]\n",
        "        #trg = [batch size, trg len]\n",
        "\n",
        "        output_dim = output.shape[-1]\n",
        "\n",
        "        output = output.contiguous().view(-1, output_dim)\n",
        "        trg = trg[:,1:].contiguous().view(-1)\n",
        "\n",
        "        #output = [batch size * trg len - 1, output dim]\n",
        "        #trg = [batch size * trg len - 1]\n",
        "\n",
        "        loss = criterion(output, trg)\n",
        "\n",
        "        loss.backward()\n",
        "\n",
        "        torch.nn.utils.clip_grad_norm_(model.parameters(), clip)\n",
        "\n",
        "        optimizer.step()\n",
        "\n",
        "        epoch_loss += loss.item()\n",
        "\n",
        "        history.append(loss.cpu().data.numpy())\n",
        "        if (i+1)%10==0:\n",
        "            fig, ax = plt.subplots(nrows=1, ncols=2, figsize=(12, 8))\n",
        "\n",
        "            clear_output(True)\n",
        "            ax[0].plot(history, label='train loss')\n",
        "            ax[0].set_xlabel('Batch')\n",
        "            ax[0].set_title('Train loss')\n",
        "            if train_history is not None:\n",
        "                ax[1].plot(train_history, label='general train history')\n",
        "                ax[1].set_xlabel('Epoch')\n",
        "            if valid_history is not None:\n",
        "                ax[1].plot(valid_history, label='general valid history')\n",
        "            plt.legend()\n",
        "\n",
        "            plt.show()\n",
        "        i+=1\n",
        "\n",
        "    return epoch_loss / len(iterator)\n",
        "\n",
        "\n",
        "def evaluate(model, iterator, criterion):\n",
        "\n",
        "    model.eval()\n",
        "\n",
        "    epoch_loss = 0\n",
        "\n",
        "    with torch.no_grad():\n",
        "\n",
        "        for batch in tqdm(iterator):\n",
        "\n",
        "            src = batch['src'].to(device)\n",
        "            trg = batch['trg'].to(device)\n",
        "\n",
        "            output, _ = model(src, trg[:,:-1])\n",
        "\n",
        "            #output = [batch size, trg len - 1, output dim]\n",
        "            #trg = [batch size, trg len]\n",
        "\n",
        "            output_dim = output.shape[-1]\n",
        "\n",
        "            output = output.contiguous().view(-1, output_dim)\n",
        "            trg = trg[:,1:].contiguous().view(-1)\n",
        "\n",
        "            #output = [batch size * trg len - 1, output dim]\n",
        "            #trg = [batch size * trg len - 1]\n",
        "\n",
        "            loss = criterion(output, trg)\n",
        "\n",
        "            epoch_loss += loss.item()\n",
        "\n",
        "    return epoch_loss / len(iterator)"
      ]
    },
    {
      "cell_type": "code",
      "execution_count": 51,
      "id": "baa96756",
      "metadata": {
        "colab": {
          "base_uri": "https://localhost:8080/",
          "height": 752
        },
        "id": "baa96756",
        "outputId": "fdbb11a1-d2c0-4517-c75c-64e4b281b470",
        "scrolled": true
      },
      "outputs": [
        {
          "data": {
            "image/png": "[encoded data removed]",
            "text/plain": [
              "<Figure size 1200x800 with 2 Axes>"
            ]
          },
          "metadata": {},
          "output_type": "display_data"
        },
        {
          "name": "stderr",
          "output_type": "stream",
          "text": [
            "100%|██████████| 9188/9188 [30:12<00:00,  5.07it/s]\n",
            "100%|██████████| 2297/2297 [01:56<00:00, 19.65it/s]\n"
          ]
        }
      ],
      "source": [
        "train_history = []\n",
        "valid_history = []\n",
        "for epoch in range(epochs):\n",
        "    train_loss = train(model, train_loader, optimizer, scheduler, criterion, 2, train_history, valid_history)\n",
        "    valid_loss = evaluate(model, valid_loader, criterion)\n",
        "\n",
        "    train_history.append(train_loss)\n",
        "    valid_history.append(valid_loss)"
      ]
    },
    {
      "cell_type": "code",
      "execution_count": 52,
      "id": "25v0E3JbMu2V",
      "metadata": {
        "id": "25v0E3JbMu2V"
      },
      "outputs": [],
      "source": [
        "def remove_tech_tokens(tokens: list, bpe):\n",
        "    result = []\n",
        "    for token in tokens:\n",
        "       if token not in [bpe.subword_to_id('▁<sos>'), bpe.subword_to_id('▁<eos>'), 0]:\n",
        "          result.append(token)\n",
        "    return result"
      ]
    },
    {
      "cell_type": "code",
      "execution_count": 53,
      "id": "4UdbhbAqoWdU",
      "metadata": {
        "colab": {
          "base_uri": "https://localhost:8080/"
        },
        "id": "4UdbhbAqoWdU",
        "outputId": "fdd86a1a-faee-40b8-8838-a52d71055fef"
      },
      "outputs": [
        {
          "name": "stdout",
          "output_type": "stream",
          "text": [
            "['the nights here are cold, and we are not thick-skinned enough not to freeze.']\n",
            "['ночи здесь холодно, и мы не достаточно плотным и не достаточно многоцветным для того, чтобы не хватило.']\n",
            "\n",
            "['development, support, promotion of sites.']\n",
            "['разработка, продвижение сайтов.']\n",
            "\n",
            "['this level controls the other six levels.']\n",
            "['этот уровень контролирует шесть уровней.']\n",
            "\n",
            "['the freedom to feel, to feel, to be sensual again, and the freedom to go beyond the mind.']\n",
            "['свобода чувствовать себя чувствовать себя чувствовать себя и снова, чтобы идти в истине.']\n",
            "\n",
            "['the trainee flew all ten metres, climbed over the railings and went down, but after ten seconds he came out of the air again right next to the portal.']\n",
            "['в сторону все десять метрах от десяти метров, поднялся на рельсы и пошел через десять минут, но после этого он снова вышел на следующий этап в сторону прямо в сторону города.']\n",
            "\n",
            "['in the morning i go to work on the first train, but return on the last one and have to walk along this tunnel in complete darkness.']\n",
            "['утром я иду на работу на первый поезд, но вернуться в последний раз в этом направлении и пройти в одном направлении.']\n",
            "\n",
            "['and our name is ram.']\n",
            "['и наш имя - это название.']\n",
            "\n",
            "[\"they didn't fine us, but they made a promise that we would come down the mound and step back from the stairs so as not to break it, which we did.\"]\n",
            "['они не были нами, но сделали обещание, что мы пришли к ней и не так же отступили, что мы не отступили, что мы не так же отступили.']\n",
            "\n",
            "['in such cases, which individuals will be held liable in the first place?']\n",
            "['в таких случаях будут проходить в первой инстанции, которые пройдут в первой инстанции.']\n",
            "\n",
            "['osteoporosis is a skeletal disease characterized by decreased bone mass and impaired bone microarchitectonics, accompanied by reduced bone strength and an increased risk of fracture.']\n",
            "['остеопороз позвоночника характеризуется остеопороза, вызванного кость и костной массы костной массы костной массы костной массы костной массы костной массы костной массы костной массы костной ткани.']\n",
            "\n"
          ]
        }
      ],
      "source": [
        "batch = next(iter(test_loader))\n",
        "\n",
        "for idx in range(10):\n",
        "    src = batch['src'][idx:idx+1, :].to(device)\n",
        "    trg = batch['trg'][idx:idx+1, :].to(device)\n",
        "\n",
        "    model.eval()\n",
        "    src_mask = model.make_src_mask(src)\n",
        "\n",
        "    with torch.no_grad():\n",
        "        enc_src = model.encoder(src, src_mask)\n",
        "\n",
        "    trg_indexes = [ru_bpe.subword_to_id('▁<sos>'),]\n",
        "\n",
        "    for i in range(100):\n",
        "\n",
        "        trg_tensor = torch.LongTensor(trg_indexes).unsqueeze(0).to(device)\n",
        "\n",
        "        trg_mask = model.make_trg_mask(trg_tensor)\n",
        "\n",
        "        with torch.no_grad():\n",
        "            output, attention = model.decoder(trg_tensor, enc_src, trg_mask, src_mask)\n",
        "\n",
        "        pred_token = output.reshape(-1, ru_bpe.vocab_size()).argmax(1)[-1].item()\n",
        "\n",
        "        trg_indexes.append(pred_token)\n",
        "\n",
        "        if pred_token == ru_bpe.subword_to_id('▁<eos>'):\n",
        "            break\n",
        "\n",
        "    original = en_bpe.decode(remove_tech_tokens(src.cpu().numpy()[0].tolist(), en_bpe))\n",
        "    generated = ru_bpe.decode(remove_tech_tokens(trg_indexes, ru_bpe))\n",
        "\n",
        "    print(original)\n",
        "    print(generated)\n",
        "    print()\n"
      ]
    },
    {
      "cell_type": "code",
      "execution_count": null,
      "id": "9Up4vdJX1Gvw",
      "metadata": {
        "id": "9Up4vdJX1Gvw"
      },
      "outputs": [],
      "source": []
    }
  ],
  "metadata": {
    "accelerator": "GPU",
    "colab": {
      "gpuType": "T4",
      "provenance": []
    },
    "kernelspec": {
      "display_name": "Python 3",
      "name": "python3"
    },
    "language_info": {
      "codemirror_mode": {
        "name": "ipython",
        "version": 3
      },
      "file_extension": ".py",
      "mimetype": "text/x-python",
      "name": "python",
      "nbconvert_exporter": "python",
      "pygments_lexer": "ipython3",
      "version": "3.10.11"
    }
  },
  "nbformat": 4,
  "nbformat_minor": 5
}
