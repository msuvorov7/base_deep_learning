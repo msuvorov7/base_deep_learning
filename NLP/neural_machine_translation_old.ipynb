{
 "cells": [
  {
   "cell_type": "markdown",
   "id": "5603cf8e",
   "metadata": {},
   "source": [
    "# Data Load"
   ]
  },
  {
   "cell_type": "code",
   "execution_count": 1,
   "id": "d5bf1104",
   "metadata": {},
   "outputs": [],
   "source": [
    "# !wget https://drive.google.com/uc?id=1NWYqJgeG_4883LINdEjKUr6nLQPY6Yb_ -O data.txt"
   ]
  },
  {
   "cell_type": "markdown",
   "id": "e48b54bf",
   "metadata": {},
   "source": [
    "https://huggingface.co/datasets/cointegrated/ru-paraphrase-NMT-Leipzig"
   ]
  },
  {
   "cell_type": "markdown",
   "id": "a565a9c9",
   "metadata": {},
   "source": [
    "paranmt_ru_leipzig.tsv"
   ]
  },
  {
   "cell_type": "markdown",
   "id": "95561b06",
   "metadata": {},
   "source": [
    "# Import"
   ]
  },
  {
   "cell_type": "code",
   "execution_count": 1,
   "id": "b6240ce0",
   "metadata": {},
   "outputs": [],
   "source": [
    "import pandas as pd\n",
    "import nltk\n",
    "from collections import Counter\n",
    "import random\n",
    "import numpy as np\n",
    "from tqdm import tqdm\n",
    "import matplotlib.pyplot as plt"
   ]
  },
  {
   "cell_type": "code",
   "execution_count": 2,
   "id": "e08bcb83",
   "metadata": {},
   "outputs": [],
   "source": [
    "from IPython.display import clear_output"
   ]
  },
  {
   "cell_type": "code",
   "execution_count": 3,
   "id": "d865ff8c",
   "metadata": {},
   "outputs": [],
   "source": [
    "import torch\n",
    "import torch.nn as nn\n",
    "import torch.optim as optim\n",
    "from torch.nn import functional as F\n",
    "from torch.utils.data import DataLoader, Dataset"
   ]
  },
  {
   "cell_type": "code",
   "execution_count": 4,
   "id": "75c81ec5",
   "metadata": {},
   "outputs": [],
   "source": [
    "SEED = 1234\n",
    "\n",
    "random.seed(SEED)\n",
    "np.random.seed(SEED)\n",
    "torch.manual_seed(SEED)\n",
    "torch.cuda.manual_seed(SEED)\n",
    "torch.backends.cudnn.deterministic = True"
   ]
  },
  {
   "cell_type": "markdown",
   "id": "be7d76f9",
   "metadata": {},
   "source": [
    "# Dataset"
   ]
  },
  {
   "cell_type": "code",
   "execution_count": 5,
   "id": "f9e9a0fb",
   "metadata": {},
   "outputs": [],
   "source": [
    "tokenizer = nltk.WordPunctTokenizer()"
   ]
  },
  {
   "cell_type": "code",
   "execution_count": 6,
   "id": "b16bf948",
   "metadata": {},
   "outputs": [],
   "source": [
    "df = pd.read_csv('data.txt', sep='\\t', names=['en', 'ru'])"
   ]
  },
  {
   "cell_type": "code",
   "execution_count": 92,
   "id": "ddc7860d",
   "metadata": {},
   "outputs": [],
   "source": [
    "df = pd.read_csv('paranmt_ru_leipzig.tsv', sep='\\t')"
   ]
  },
  {
   "cell_type": "code",
   "execution_count": 94,
   "id": "9c3de214",
   "metadata": {},
   "outputs": [
    {
     "data": {
      "text/plain": [
       "1000000"
      ]
     },
     "execution_count": 94,
     "metadata": {},
     "output_type": "execute_result"
    }
   ],
   "source": [
    "len(df)"
   ]
  },
  {
   "cell_type": "code",
   "execution_count": 93,
   "id": "da2f4bb1",
   "metadata": {},
   "outputs": [
    {
     "ename": "AttributeError",
     "evalue": "'float' object has no attribute 'split'",
     "output_type": "error",
     "traceback": [
      "\u001b[0;31m---------------------------------------------------------------------------\u001b[0m",
      "\u001b[0;31mAttributeError\u001b[0m                            Traceback (most recent call last)",
      "Cell \u001b[0;32mIn[93], line 1\u001b[0m\n\u001b[0;32m----> 1\u001b[0m (\u001b[43mdf\u001b[49m\u001b[38;5;241;43m.\u001b[39;49m\u001b[43men\u001b[49m\u001b[38;5;241;43m.\u001b[39;49m\u001b[43mapply\u001b[49m\u001b[43m(\u001b[49m\u001b[38;5;28;43;01mlambda\u001b[39;49;00m\u001b[43m \u001b[49m\u001b[43mitem\u001b[49m\u001b[43m:\u001b[49m\u001b[43m \u001b[49m\u001b[38;5;28;43mlen\u001b[39;49m\u001b[43m(\u001b[49m\u001b[43mitem\u001b[49m\u001b[38;5;241;43m.\u001b[39;49m\u001b[43msplit\u001b[49m\u001b[43m(\u001b[49m\u001b[43m)\u001b[49m\u001b[43m)\u001b[49m\u001b[43m)\u001b[49m \u001b[38;5;241m==\u001b[39m df\u001b[38;5;241m.\u001b[39mru\u001b[38;5;241m.\u001b[39mapply(\u001b[38;5;28;01mlambda\u001b[39;00m item: \u001b[38;5;28mlen\u001b[39m(item\u001b[38;5;241m.\u001b[39msplit())))\u001b[38;5;241m.\u001b[39mvalue_counts()\n",
      "File \u001b[0;32m~/common/lib/python3.10/site-packages/pandas/core/series.py:4630\u001b[0m, in \u001b[0;36mSeries.apply\u001b[0;34m(self, func, convert_dtype, args, **kwargs)\u001b[0m\n\u001b[1;32m   4520\u001b[0m \u001b[38;5;28;01mdef\u001b[39;00m \u001b[38;5;21mapply\u001b[39m(\n\u001b[1;32m   4521\u001b[0m     \u001b[38;5;28mself\u001b[39m,\n\u001b[1;32m   4522\u001b[0m     func: AggFuncType,\n\u001b[0;32m   (...)\u001b[0m\n\u001b[1;32m   4525\u001b[0m     \u001b[38;5;241m*\u001b[39m\u001b[38;5;241m*\u001b[39mkwargs,\n\u001b[1;32m   4526\u001b[0m ) \u001b[38;5;241m-\u001b[39m\u001b[38;5;241m>\u001b[39m DataFrame \u001b[38;5;241m|\u001b[39m Series:\n\u001b[1;32m   4527\u001b[0m \u001b[38;5;250m    \u001b[39m\u001b[38;5;124;03m\"\"\"\u001b[39;00m\n\u001b[1;32m   4528\u001b[0m \u001b[38;5;124;03m    Invoke function on values of Series.\u001b[39;00m\n\u001b[1;32m   4529\u001b[0m \n\u001b[0;32m   (...)\u001b[0m\n\u001b[1;32m   4628\u001b[0m \u001b[38;5;124;03m    dtype: float64\u001b[39;00m\n\u001b[1;32m   4629\u001b[0m \u001b[38;5;124;03m    \"\"\"\u001b[39;00m\n\u001b[0;32m-> 4630\u001b[0m     \u001b[38;5;28;01mreturn\u001b[39;00m \u001b[43mSeriesApply\u001b[49m\u001b[43m(\u001b[49m\u001b[38;5;28;43mself\u001b[39;49m\u001b[43m,\u001b[49m\u001b[43m \u001b[49m\u001b[43mfunc\u001b[49m\u001b[43m,\u001b[49m\u001b[43m \u001b[49m\u001b[43mconvert_dtype\u001b[49m\u001b[43m,\u001b[49m\u001b[43m \u001b[49m\u001b[43margs\u001b[49m\u001b[43m,\u001b[49m\u001b[43m \u001b[49m\u001b[43mkwargs\u001b[49m\u001b[43m)\u001b[49m\u001b[38;5;241;43m.\u001b[39;49m\u001b[43mapply\u001b[49m\u001b[43m(\u001b[49m\u001b[43m)\u001b[49m\n",
      "File \u001b[0;32m~/common/lib/python3.10/site-packages/pandas/core/apply.py:1025\u001b[0m, in \u001b[0;36mSeriesApply.apply\u001b[0;34m(self)\u001b[0m\n\u001b[1;32m   1022\u001b[0m     \u001b[38;5;28;01mreturn\u001b[39;00m \u001b[38;5;28mself\u001b[39m\u001b[38;5;241m.\u001b[39mapply_str()\n\u001b[1;32m   1024\u001b[0m \u001b[38;5;66;03m# self.f is Callable\u001b[39;00m\n\u001b[0;32m-> 1025\u001b[0m \u001b[38;5;28;01mreturn\u001b[39;00m \u001b[38;5;28;43mself\u001b[39;49m\u001b[38;5;241;43m.\u001b[39;49m\u001b[43mapply_standard\u001b[49m\u001b[43m(\u001b[49m\u001b[43m)\u001b[49m\n",
      "File \u001b[0;32m~/common/lib/python3.10/site-packages/pandas/core/apply.py:1076\u001b[0m, in \u001b[0;36mSeriesApply.apply_standard\u001b[0;34m(self)\u001b[0m\n\u001b[1;32m   1074\u001b[0m     \u001b[38;5;28;01melse\u001b[39;00m:\n\u001b[1;32m   1075\u001b[0m         values \u001b[38;5;241m=\u001b[39m obj\u001b[38;5;241m.\u001b[39mastype(\u001b[38;5;28mobject\u001b[39m)\u001b[38;5;241m.\u001b[39m_values\n\u001b[0;32m-> 1076\u001b[0m         mapped \u001b[38;5;241m=\u001b[39m \u001b[43mlib\u001b[49m\u001b[38;5;241;43m.\u001b[39;49m\u001b[43mmap_infer\u001b[49m\u001b[43m(\u001b[49m\n\u001b[1;32m   1077\u001b[0m \u001b[43m            \u001b[49m\u001b[43mvalues\u001b[49m\u001b[43m,\u001b[49m\n\u001b[1;32m   1078\u001b[0m \u001b[43m            \u001b[49m\u001b[43mf\u001b[49m\u001b[43m,\u001b[49m\n\u001b[1;32m   1079\u001b[0m \u001b[43m            \u001b[49m\u001b[43mconvert\u001b[49m\u001b[38;5;241;43m=\u001b[39;49m\u001b[38;5;28;43mself\u001b[39;49m\u001b[38;5;241;43m.\u001b[39;49m\u001b[43mconvert_dtype\u001b[49m\u001b[43m,\u001b[49m\n\u001b[1;32m   1080\u001b[0m \u001b[43m        \u001b[49m\u001b[43m)\u001b[49m\n\u001b[1;32m   1082\u001b[0m \u001b[38;5;28;01mif\u001b[39;00m \u001b[38;5;28mlen\u001b[39m(mapped) \u001b[38;5;129;01mand\u001b[39;00m \u001b[38;5;28misinstance\u001b[39m(mapped[\u001b[38;5;241m0\u001b[39m], ABCSeries):\n\u001b[1;32m   1083\u001b[0m     \u001b[38;5;66;03m# GH#43986 Need to do list(mapped) in order to get treated as nested\u001b[39;00m\n\u001b[1;32m   1084\u001b[0m     \u001b[38;5;66;03m#  See also GH#25959 regarding EA support\u001b[39;00m\n\u001b[1;32m   1085\u001b[0m     \u001b[38;5;28;01mreturn\u001b[39;00m obj\u001b[38;5;241m.\u001b[39m_constructor_expanddim(\u001b[38;5;28mlist\u001b[39m(mapped), index\u001b[38;5;241m=\u001b[39mobj\u001b[38;5;241m.\u001b[39mindex)\n",
      "File \u001b[0;32m~/common/lib/python3.10/site-packages/pandas/_libs/lib.pyx:2834\u001b[0m, in \u001b[0;36mpandas._libs.lib.map_infer\u001b[0;34m()\u001b[0m\n",
      "Cell \u001b[0;32mIn[93], line 1\u001b[0m, in \u001b[0;36m<lambda>\u001b[0;34m(item)\u001b[0m\n\u001b[0;32m----> 1\u001b[0m (df\u001b[38;5;241m.\u001b[39men\u001b[38;5;241m.\u001b[39mapply(\u001b[38;5;28;01mlambda\u001b[39;00m item: \u001b[38;5;28mlen\u001b[39m(item\u001b[38;5;241m.\u001b[39msplit())) \u001b[38;5;241m==\u001b[39m df\u001b[38;5;241m.\u001b[39mru\u001b[38;5;241m.\u001b[39mapply(\u001b[38;5;28;01mlambda\u001b[39;00m item: \u001b[38;5;28mlen\u001b[39m(item\u001b[38;5;241m.\u001b[39msplit())))\u001b[38;5;241m.\u001b[39mvalue_counts()\n",
      "\u001b[0;31mAttributeError\u001b[0m: 'float' object has no attribute 'split'"
     ]
    }
   ],
   "source": [
    "(df.en.apply(lambda item: len(item.split())) == df.ru.apply(lambda item: len(item.split()))).value_counts()"
   ]
  },
  {
   "cell_type": "code",
   "execution_count": 8,
   "id": "105e23c8",
   "metadata": {},
   "outputs": [],
   "source": [
    "class YandexDataset(Dataset):\n",
    "    def __init__(self, src: list, trg: list):\n",
    "        self.src = src\n",
    "        self.trg = trg\n",
    "        \n",
    "    def __getitem__(self, index):\n",
    "        return {\n",
    "            'src': self.src[index],\n",
    "            'trg': self.trg[index],\n",
    "        }\n",
    "    \n",
    "    def __len__(self):\n",
    "        return len(self.src)"
   ]
  },
  {
   "cell_type": "code",
   "execution_count": 9,
   "id": "3dc526db",
   "metadata": {},
   "outputs": [],
   "source": [
    "def build_vocab(tokens: list, min_freq: int = 2):\n",
    "    counter = Counter()\n",
    "    \n",
    "    for word in tokens:\n",
    "        counter.update(word)\n",
    "    \n",
    "    counter = list(filter(lambda word: word[1] > min_freq, counter.items()))\n",
    "    vocabulary = ['<pad>', '<unk>']\n",
    "    vocabulary += [key for key, _ in counter]\n",
    "\n",
    "    ind_to_vocab = dict(enumerate(vocabulary))\n",
    "    vocab_to_ind = {value: key for key, value in ind_to_vocab.items()}\n",
    "\n",
    "    return ind_to_vocab, vocab_to_ind"
   ]
  },
  {
   "cell_type": "code",
   "execution_count": 10,
   "id": "30722357",
   "metadata": {},
   "outputs": [],
   "source": [
    "src = df.en.apply(\n",
    "    lambda item: item.lower()\n",
    ").apply(\n",
    "    tokenizer.tokenize\n",
    ").apply(\n",
    "    lambda item: item[::-1]\n",
    ").apply(\n",
    "    lambda item: ['<sos>'] + item + ['<eos>']\n",
    ").values.tolist()"
   ]
  },
  {
   "cell_type": "code",
   "execution_count": 11,
   "id": "4d0685da",
   "metadata": {},
   "outputs": [
    {
     "data": {
      "text/plain": [
       "['<sos>',\n",
       " '.',\n",
       " 'church',\n",
       " 'trinity',\n",
       " 'saint',\n",
       " 'from',\n",
       " 'away',\n",
       " 'walk',\n",
       " 'minute',\n",
       " '-',\n",
       " '3',\n",
       " 'a',\n",
       " ',',\n",
       " 'tbilisi',\n",
       " 'in',\n",
       " 'situated',\n",
       " 'is',\n",
       " 'hotel',\n",
       " 'cordelia',\n",
       " '<eos>']"
      ]
     },
     "execution_count": 11,
     "metadata": {},
     "output_type": "execute_result"
    }
   ],
   "source": [
    "src[0]"
   ]
  },
  {
   "cell_type": "code",
   "execution_count": 12,
   "id": "b6b3b39e",
   "metadata": {},
   "outputs": [],
   "source": [
    "trg = df.ru.apply(\n",
    "    lambda item: item.lower()\n",
    ").apply(\n",
    "    tokenizer.tokenize\n",
    ").apply(\n",
    "    lambda item: ['<sos>'] + item + ['<eos>']\n",
    ").values.tolist()"
   ]
  },
  {
   "cell_type": "code",
   "execution_count": 13,
   "id": "55de8596",
   "metadata": {},
   "outputs": [
    {
     "data": {
      "text/plain": [
       "{'<eos>': '<sos>',\n",
       " 'each': 'каждые',\n",
       " 'apartment': 'апартаменты',\n",
       " 'is': 'располагают',\n",
       " 'fitted': 'балконом',\n",
       " 'with': ',',\n",
       " 'a': 'сейфом',\n",
       " 'balcony': 'и',\n",
       " ',': 'телевизором',\n",
       " 'flat': 'с',\n",
       " '-': 'плоским',\n",
       " 'screen': 'экраном',\n",
       " 'cable': 'и',\n",
       " 'tv': 'кабельными',\n",
       " 'and': 'каналами',\n",
       " 'safety': '.',\n",
       " 'deposit': '<eos>'}"
      ]
     },
     "execution_count": 13,
     "metadata": {},
     "output_type": "execute_result"
    }
   ],
   "source": [
    "dict(zip(src[11][::-1], trg[11]))"
   ]
  },
  {
   "cell_type": "code",
   "execution_count": 14,
   "id": "81e78d5c",
   "metadata": {},
   "outputs": [],
   "source": [
    "src_ind_to_vocab, src_vocab_to_ind = build_vocab(src)\n",
    "trg_ind_to_vocab, trg_vocab_to_ind = build_vocab(trg)"
   ]
  },
  {
   "cell_type": "code",
   "execution_count": 15,
   "id": "e0328882",
   "metadata": {},
   "outputs": [
    {
     "data": {
      "text/plain": [
       "(7828, 10799)"
      ]
     },
     "execution_count": 15,
     "metadata": {},
     "output_type": "execute_result"
    }
   ],
   "source": [
    "len(src_ind_to_vocab), len(trg_ind_to_vocab)"
   ]
  },
  {
   "cell_type": "code",
   "execution_count": 16,
   "id": "b1cee6a9",
   "metadata": {},
   "outputs": [],
   "source": [
    "train_data = YandexDataset(src[:40_000], trg[:40_000])\n",
    "valid_data = YandexDataset(src[40_000:43_000], trg[40_000:43_000])\n",
    "test_data = YandexDataset(src[43_000:], trg[43_000:])"
   ]
  },
  {
   "cell_type": "code",
   "execution_count": 17,
   "id": "93e7a27c",
   "metadata": {},
   "outputs": [],
   "source": [
    "src_transform = lambda x: src_vocab_to_ind[x] if x in src_vocab_to_ind else src_vocab_to_ind['<unk>']\n",
    "trg_transform = lambda x: trg_vocab_to_ind[x] if x in trg_vocab_to_ind else trg_vocab_to_ind['<unk>']"
   ]
  },
  {
   "cell_type": "code",
   "execution_count": 18,
   "id": "046d752e",
   "metadata": {},
   "outputs": [],
   "source": [
    "def collate_fn(batch):\n",
    "    max_src_len = max(len(row[\"src\"]) for row in batch)\n",
    "    max_trg_len = max(len(row[\"trg\"]) for row in batch)\n",
    "    max_len = max(max_src_len, max_trg_len)\n",
    "    src_list = torch.empty((len(batch), max_len), dtype=torch.long)\n",
    "    trg_list = torch.empty((len(batch), max_len), dtype=torch.long)\n",
    "\n",
    "    for idx, row in enumerate(batch):\n",
    "        to_pad_src = max_len - len(row[\"src\"])\n",
    "        to_pad_trg = max_len - len(row[\"trg\"])\n",
    "        _src = row['src']\n",
    "        _trg = row['trg']\n",
    "        src_list[idx] = torch.cat((torch.tensor(list(map(src_transform, _src))), \n",
    "                                torch.zeros(to_pad_src)))\n",
    "        trg_list[idx] = torch.cat((torch.tensor(list(map(trg_transform, _trg))), \n",
    "                                torch.zeros(to_pad_trg)))\n",
    "        \n",
    "    return {\n",
    "        'src': src_list,\n",
    "        'trg': trg_list,\n",
    "    }"
   ]
  },
  {
   "cell_type": "code",
   "execution_count": 19,
   "id": "9e8c9cee",
   "metadata": {},
   "outputs": [],
   "source": [
    "train_loader = DataLoader(train_data, batch_size=32, shuffle=False, collate_fn=collate_fn)\n",
    "valid_loader = DataLoader(valid_data, batch_size=32, shuffle=False, collate_fn=collate_fn)\n",
    "test_loader = DataLoader(test_data, batch_size=32, shuffle=False, collate_fn=collate_fn)"
   ]
  },
  {
   "cell_type": "code",
   "execution_count": 20,
   "id": "51aa541c",
   "metadata": {},
   "outputs": [
    {
     "name": "stdout",
     "output_type": "stream",
     "text": [
      "torch.Size([32, 33])\n",
      "torch.Size([32, 33])\n"
     ]
    }
   ],
   "source": [
    "for batch in train_loader:\n",
    "    print(batch['src'].shape)\n",
    "    print(batch['trg'].shape)\n",
    "    break"
   ]
  },
  {
   "cell_type": "code",
   "execution_count": 21,
   "id": "299f33a6",
   "metadata": {},
   "outputs": [
    {
     "data": {
      "text/plain": [
       "tensor([[  2,   3,   4,  ...,   0,   0,   0],\n",
       "        [  2,   3,  21,  ...,   0,   0,   0],\n",
       "        [  2,   3,  35,  ...,   0,   0,   0],\n",
       "        ...,\n",
       "        [  2,   3,  78,  ...,   0,   0,   0],\n",
       "        [  2,   3, 156,  ...,   0,   0,   0],\n",
       "        [  2,   3,   8,  ...,   0,   0,   0]])"
      ]
     },
     "execution_count": 21,
     "metadata": {},
     "output_type": "execute_result"
    }
   ],
   "source": [
    "batch['src']"
   ]
  },
  {
   "cell_type": "code",
   "execution_count": 22,
   "id": "416f87d1",
   "metadata": {},
   "outputs": [
    {
     "data": {
      "text/plain": [
       "device(type='cpu')"
      ]
     },
     "execution_count": 22,
     "metadata": {},
     "output_type": "execute_result"
    }
   ],
   "source": [
    "device = torch.device('cuda' if torch.cuda.is_available() else 'cpu')\n",
    "device"
   ]
  },
  {
   "cell_type": "code",
   "execution_count": 23,
   "id": "c943821a",
   "metadata": {},
   "outputs": [],
   "source": [
    "def count_parameters(model):\n",
    "    return sum(p.numel() for p in model.parameters() if p.requires_grad)"
   ]
  },
  {
   "cell_type": "markdown",
   "id": "7ba56916",
   "metadata": {},
   "source": [
    "# Encoder"
   ]
  },
  {
   "cell_type": "code",
   "execution_count": 24,
   "id": "146fe92f",
   "metadata": {},
   "outputs": [],
   "source": [
    "class Encoder(nn.Module):\n",
    "    def __init__(self,\n",
    "                 vocab_size: int,\n",
    "                 embed_dim: int,\n",
    "                 hidden_dim: int,\n",
    "                 dropout: float = 0.2,\n",
    "                 n_layers: int = 2,\n",
    "                 bidirectional: bool = True\n",
    "                ):\n",
    "        super().__init__()\n",
    "        self.vocab_size = vocab_size\n",
    "        self.emb_dim = embed_dim\n",
    "        self.hid_dim = hidden_dim\n",
    "        self.n_layers = n_layers\n",
    "        self.bidirectional = bidirectional\n",
    "        \n",
    "        self.embedding = nn.Embedding(vocab_size, embed_dim)\n",
    "        \n",
    "        self.rnn = nn.LSTM(\n",
    "            input_size=embed_dim,\n",
    "            hidden_size=hidden_dim,\n",
    "            num_layers=n_layers,\n",
    "            bidirectional=bidirectional,\n",
    "#             batch_first=True,\n",
    "        )\n",
    "        \n",
    "        self.dropout = nn.Dropout(p=dropout)\n",
    "        \n",
    "    def forward(self, x):\n",
    "        # x = [batch_size, seq_len]\n",
    "        embedded = self.embedding(x)\n",
    "        \n",
    "        # embedded = [batch_size, seq_len, emb_dim]\n",
    "        out, (hidden, cell) = self.rnn(embedded)\n",
    "        \n",
    "        # out = [batch_size, seq_len, hidden_dim * 2]\n",
    "        # hidden = [2 * n_layers, batch_size, hidden_dim]\n",
    "        # cell = [2 * n_layers, batch_size, hidden_dim]\n",
    "        if self.bidirectional:\n",
    "#             hidden = hidden.transpose(0, 1).reshape(-1, self.n_layers, 2, self.hid_dim)\n",
    "#             hidden = hidden.reshape(-1, self.n_layers, 2 * self.hid_dim)\n",
    "            \n",
    "#             cell = cell.transpose(0, 1).reshape(-1, self.n_layers, 2, self.hid_dim)\n",
    "#             cell = cell.reshape(-1, self.n_layers, 2 * self.hid_dim)\n",
    "            \n",
    "            hidden = hidden.reshape(self.n_layers, 2, -1, self.hid_dim)\n",
    "            hidden = hidden.transpose(1, 2).reshape(self.n_layers, -1, 2 * self.hid_dim)\n",
    "\n",
    "            cell = cell.reshape(self.n_layers, 2, -1, self.hid_dim)\n",
    "            cell = cell.transpose(1, 2).reshape(self.n_layers, -1, 2 * self.hid_dim)\n",
    "        \n",
    "        return out, hidden, cell"
   ]
  },
  {
   "cell_type": "code",
   "execution_count": 25,
   "id": "3f730172",
   "metadata": {},
   "outputs": [],
   "source": [
    "encoder = Encoder(\n",
    "    vocab_size=len(src_ind_to_vocab),\n",
    "    embed_dim=100,\n",
    "    hidden_dim=128,\n",
    "    n_layers=2,\n",
    "    dropout=0.2,\n",
    "    bidirectional=True\n",
    ")"
   ]
  },
  {
   "cell_type": "code",
   "execution_count": 26,
   "id": "553f31b4",
   "metadata": {},
   "outputs": [
    {
     "name": "stdout",
     "output_type": "stream",
     "text": [
      "torch.Size([33, 32, 256]) torch.Size([2, 32, 256]) torch.Size([2, 32, 256])\n"
     ]
    }
   ],
   "source": [
    "out, hidden, cell = encoder(batch['src'].transpose(0, 1))\n",
    "print(out.shape, hidden.shape, cell.shape)"
   ]
  },
  {
   "cell_type": "code",
   "execution_count": 28,
   "id": "55512624",
   "metadata": {},
   "outputs": [
    {
     "data": {
      "text/plain": [
       "tensor([[[ 0.1064, -0.4780,  0.1921,  ..., -0.0404, -0.3205, -0.0571],\n",
       "         [ 0.1050, -0.4788,  0.1927,  ..., -0.0773, -0.3003, -0.0942],\n",
       "         [ 0.1075, -0.4774,  0.1916,  ...,  0.0060, -0.3023, -0.0697],\n",
       "         ...,\n",
       "         [ 0.1073, -0.4776,  0.1919,  ..., -0.0095, -0.2331, -0.0370],\n",
       "         [ 0.1077, -0.4772,  0.1916,  ..., -0.0706, -0.2600, -0.0531],\n",
       "         [ 0.1077, -0.4772,  0.1916,  ..., -0.0246, -0.2701, -0.0796]],\n",
       "\n",
       "        [[-0.2393, -0.0587, -0.0224,  ...,  0.0152,  0.0217,  0.0912],\n",
       "         [-0.2408, -0.0580, -0.0220,  ...,  0.0388,  0.0875,  0.0459],\n",
       "         [-0.2383, -0.0588, -0.0220,  ...,  0.0477,  0.0319,  0.0606],\n",
       "         ...,\n",
       "         [-0.2385, -0.0588, -0.0221,  ..., -0.0160,  0.0192,  0.0524],\n",
       "         [-0.2380, -0.0588, -0.0219,  ...,  0.0173,  0.0849,  0.0630],\n",
       "         [-0.2380, -0.0588, -0.0219,  ...,  0.0111,  0.0562,  0.0667]]],\n",
       "       grad_fn=<UnsafeViewBackward0>)"
      ]
     },
     "execution_count": 28,
     "metadata": {},
     "output_type": "execute_result"
    }
   ],
   "source": [
    "hidden"
   ]
  },
  {
   "cell_type": "code",
   "execution_count": 29,
   "id": "79bdba5c",
   "metadata": {},
   "outputs": [],
   "source": [
    "class Decoder(nn.Module):\n",
    "    def __init__(self,\n",
    "                 output_dim: int,\n",
    "                 embed_dim: int,\n",
    "                 hidden_dim: int,\n",
    "                 n_layers,\n",
    "                ):\n",
    "        super().__init__()\n",
    "        self.output_dim = output_dim\n",
    "        self.hid_dim = hidden_dim\n",
    "        self.embed_dim = embed_dim\n",
    "        self.n_layers = n_layers\n",
    "        \n",
    "        self.embedding = nn.Embedding(output_dim, embed_dim)\n",
    "        \n",
    "        self.rnn = nn.LSTM(\n",
    "            input_size=embed_dim,\n",
    "            hidden_size=hidden_dim,\n",
    "            num_layers=n_layers,\n",
    "            bidirectional=False,\n",
    "#             batch_first=True,\n",
    "        )\n",
    "        \n",
    "        self.fc = nn.Linear(hidden_dim, output_dim)\n",
    "        \n",
    "    def forward(self, x, hidden, cell):\n",
    "        # x = [batch_size]\n",
    "        # hidden = [n_layers * n_directions, batch_size, hidden_dim]\n",
    "        # cell = [n_layers * n_directions, batch_size, hidden_dim]\n",
    "        print(x.shape)\n",
    "        \n",
    "        x = x.unsqueeze(0)\n",
    "        embedded = self.embedding(x)\n",
    "        print(embedded.shape)\n",
    "        # embedded = [1, batch_size, output_dim]\n",
    "        \n",
    "        output, (hidden, cell) = self.rnn(embedded, (hidden, cell))\n",
    "        \n",
    "        print(output.shape, hidden.shape, cell.shape)\n",
    "        \n",
    "        predicted = self.fc(output.squeeze(0))\n",
    "        print(predicted.shape)\n",
    "        \n",
    "        return predicted, hidden, cell"
   ]
  },
  {
   "cell_type": "code",
   "execution_count": 30,
   "id": "d335a99a",
   "metadata": {},
   "outputs": [],
   "source": [
    "decoder = Decoder(\n",
    "    output_dim=len(trg_ind_to_vocab),\n",
    "    embed_dim=100,\n",
    "    hidden_dim=128 * 2,\n",
    "    n_layers=2,\n",
    ")"
   ]
  },
  {
   "cell_type": "code",
   "execution_count": 31,
   "id": "be857cb6",
   "metadata": {},
   "outputs": [
    {
     "data": {
      "text/plain": [
       "torch.Size([2, 32, 256])"
      ]
     },
     "execution_count": 31,
     "metadata": {},
     "output_type": "execute_result"
    }
   ],
   "source": [
    "hidden.shape"
   ]
  },
  {
   "cell_type": "code",
   "execution_count": 32,
   "id": "a30aeaa3",
   "metadata": {},
   "outputs": [
    {
     "name": "stdout",
     "output_type": "stream",
     "text": [
      "torch.Size([32])\n",
      "torch.Size([1, 32, 100])\n",
      "torch.Size([1, 32, 256]) torch.Size([2, 32, 256]) torch.Size([2, 32, 256])\n",
      "torch.Size([32, 10799])\n"
     ]
    },
    {
     "data": {
      "text/plain": [
       "(tensor([[ 0.0511, -0.0724,  0.0173,  ..., -0.0569,  0.0695,  0.0259],\n",
       "         [ 0.0560, -0.0650,  0.0107,  ..., -0.0495,  0.0742,  0.0274],\n",
       "         [ 0.0517, -0.0754,  0.0170,  ..., -0.0491,  0.0741,  0.0239],\n",
       "         ...,\n",
       "         [ 0.0497, -0.0702,  0.0168,  ..., -0.0579,  0.0762,  0.0205],\n",
       "         [ 0.0584, -0.0736,  0.0144,  ..., -0.0605,  0.0685,  0.0268],\n",
       "         [ 0.0538, -0.0672,  0.0134,  ..., -0.0570,  0.0728,  0.0307]],\n",
       "        grad_fn=<AddmmBackward0>),\n",
       " tensor([[[-0.0827, -0.2284,  0.0364,  ...,  0.0236, -0.1341,  0.0748],\n",
       "          [-0.0897, -0.2266,  0.0351,  ...,  0.0106, -0.1188,  0.0380],\n",
       "          [-0.0788, -0.2273,  0.0347,  ...,  0.0369, -0.1220,  0.0637],\n",
       "          ...,\n",
       "          [-0.0866, -0.2274,  0.0394,  ...,  0.0301, -0.0825,  0.0883],\n",
       "          [-0.0932, -0.2208,  0.0381,  ...,  0.0136, -0.1014,  0.0802],\n",
       "          [-0.0908, -0.2253,  0.0413,  ...,  0.0304, -0.1067,  0.0586]],\n",
       " \n",
       "         [[-0.1325, -0.0230, -0.0375,  ..., -0.0014,  0.0352,  0.0751],\n",
       "          [-0.1280, -0.0229, -0.0323,  ...,  0.0118,  0.0684,  0.0516],\n",
       "          [-0.1272, -0.0234, -0.0323,  ...,  0.0144,  0.0429,  0.0602],\n",
       "          ...,\n",
       "          [-0.1304, -0.0227, -0.0334,  ..., -0.0142,  0.0356,  0.0558],\n",
       "          [-0.1275, -0.0188, -0.0251,  ...,  0.0023,  0.0659,  0.0503],\n",
       "          [-0.1294, -0.0221, -0.0283,  ..., -0.0028,  0.0492,  0.0600]]],\n",
       "        grad_fn=<StackBackward0>),\n",
       " tensor([[[-0.1600, -0.7123,  0.0707,  ...,  0.0768, -0.2255,  0.1345],\n",
       "          [-0.1708, -0.7141,  0.0685,  ...,  0.0348, -0.1988,  0.0680],\n",
       "          [-0.1536, -0.7107,  0.0673,  ...,  0.1233, -0.2067,  0.1140],\n",
       "          ...,\n",
       "          [-0.1668, -0.7048,  0.0771,  ...,  0.0992, -0.1382,  0.1610],\n",
       "          [-0.1820, -0.7018,  0.0730,  ...,  0.0451, -0.1669,  0.1438],\n",
       "          [-0.1784, -0.7059,  0.0796,  ...,  0.1002, -0.1761,  0.1059]],\n",
       " \n",
       "         [[-0.2872, -0.0459, -0.0787,  ..., -0.0030,  0.0708,  0.1543],\n",
       "          [-0.2773, -0.0462, -0.0675,  ...,  0.0248,  0.1408,  0.1068],\n",
       "          [-0.2744, -0.0468, -0.0680,  ...,  0.0304,  0.0868,  0.1230],\n",
       "          ...,\n",
       "          [-0.2792, -0.0453, -0.0701,  ..., -0.0301,  0.0724,  0.1139],\n",
       "          [-0.2773, -0.0373, -0.0529,  ...,  0.0048,  0.1340,  0.1031],\n",
       "          [-0.2794, -0.0442, -0.0592,  ..., -0.0058,  0.0992,  0.1241]]],\n",
       "        grad_fn=<StackBackward0>))"
      ]
     },
     "execution_count": 32,
     "metadata": {},
     "output_type": "execute_result"
    }
   ],
   "source": [
    "decoder(batch['trg'].transpose(0, 1)[0], hidden, cell)"
   ]
  },
  {
   "cell_type": "code",
   "execution_count": 80,
   "id": "8dda8f63",
   "metadata": {},
   "outputs": [],
   "source": [
    "class DecoderWithAttention(nn.Module):\n",
    "    def __init__(self, output_dim, emb_dim, enc_hid_dim, dec_hid_dim, n_layers, bidirectional, dropout, attention):\n",
    "        super().__init__()\n",
    "\n",
    "        self.emb_dim = emb_dim\n",
    "        self.enc_hid_dim = enc_hid_dim\n",
    "        self.dec_hid_dim = dec_hid_dim\n",
    "        self.n_layers = n_layers\n",
    "        self.output_dim = output_dim\n",
    "        self.attention = attention\n",
    "        \n",
    "        self.embedding = nn.Embedding(output_dim, emb_dim)\n",
    "        \n",
    "        self.rnn = nn.GRU(input_size=emb_dim + enc_hid_dim * (1+bidirectional), \n",
    "                          hidden_size=dec_hid_dim, \n",
    "                          num_layers=n_layers, \n",
    "                          dropout=dropout\n",
    "                          ) # use GRU\n",
    "        \n",
    "        self.out = nn.Linear(emb_dim + (1+bidirectional)*enc_hid_dim + dec_hid_dim, output_dim) # linear layer to get next word\n",
    "        \n",
    "        self.dropout = nn.Dropout(dropout)\n",
    "        \n",
    "    def forward(self, input, hidden, encoder_outputs):\n",
    "        #input = [batch size]\n",
    "        # print(hidden.shape)\n",
    "        #hidden = [n layers * n directions, batch size, hid dim]\n",
    "        \n",
    "        #n directions in the decoder will both always be 1, therefore:\n",
    "        #hidden = [n layers, batch size, hid dim]\n",
    "        \n",
    "        input = input.unsqueeze(0) # because only one word, no words sequence \n",
    "        \n",
    "        #input = [1, batch size]\n",
    "        embedded = self.embedding(input)\n",
    "        \n",
    "        #embedded = [1, batch size, emb dim]\n",
    "        \n",
    "        # get weighted sum of encoder_outputs\n",
    "        a_t = self.attention(hidden, encoder_outputs)\n",
    "#         print(out.shape)\n",
    "        w_t = torch.sum(a_t * encoder_outputs, dim=0, keepdim=True) # w_t = [1, batch size, enc_hid_dim * n directions]\n",
    "        # concatenate weighted sum and embedded, break through the GRU\n",
    "        output, hidden = self.rnn(torch.concat([embedded, w_t], axis=2), hidden) # [1, batch size, dec_hid_dim]\n",
    "        # get predictions\n",
    "        # print(embedded.shape)\n",
    "        # print(encoder_outputs.shape)\n",
    "        # print(hidden.shape)\n",
    "        prediction = self.out(torch.cat([embedded, # [1, batch size, emb dim]\n",
    "                                         w_t, # [1, batch size, enc_hid_dim]\n",
    "                                         hidden[-1,:,:].unsqueeze(0) # [1, batch size, dec_hid_dim]\n",
    "                                         ], dim=2).squeeze(0))\n",
    "        #prediction = [batch size, output dim]\n",
    "        \n",
    "        return prediction, hidden"
   ]
  },
  {
   "cell_type": "code",
   "execution_count": 81,
   "id": "2e0f5f61",
   "metadata": {},
   "outputs": [],
   "source": [
    "class Attention(nn.Module):\n",
    "    def __init__(self, enc_hid_dim, dec_hid_dim, bidirectional, temperature=1):\n",
    "        super().__init__()\n",
    "\n",
    "        self.enc_hid_dim = enc_hid_dim\n",
    "        self.dec_hid_dim = dec_hid_dim\n",
    "        self.temperature = temperature\n",
    "\n",
    "        self.attn = nn.Linear((1+bidirectional) * enc_hid_dim + dec_hid_dim, enc_hid_dim)\n",
    "        self.v = nn.Linear(enc_hid_dim, 1)\n",
    "        \n",
    "    def forward(self, hidden, encoder_outputs):\n",
    "        \n",
    "        # encoder_outputs = [src sent len, batch size, enc_hid_dim]\n",
    "        # hidden = [1, batch size, dec_hid_dim]\n",
    "        last_hidden = hidden[-1, :, :].unsqueeze(0)\n",
    "        hiddens = last_hidden.repeat(encoder_outputs.shape[0], 1, 1)\n",
    "        # repeat hidden and concatenate it with encoder_outputs\n",
    "        concat_h_s = torch.concat([encoder_outputs, hiddens], dim=2)\n",
    "        # calculate energy\n",
    "        E = torch.tanh(self.attn(concat_h_s))\n",
    "        # get attention, use softmax function which is defined, can change temperature\n",
    "        a = self.v(E)\n",
    "        print(a.shape)\n",
    "        return softmax(a, temperature=self.temperature)"
   ]
  },
  {
   "cell_type": "code",
   "execution_count": 82,
   "id": "5af61eeb",
   "metadata": {},
   "outputs": [],
   "source": [
    "def softmax(x, temperature=10): # use your temperature\n",
    "    e_x = torch.exp(x / temperature)\n",
    "    return e_x / torch.sum(e_x, dim=0)"
   ]
  },
  {
   "cell_type": "code",
   "execution_count": 83,
   "id": "b664918c",
   "metadata": {},
   "outputs": [],
   "source": [
    "class Seq2Seq(nn.Module):\n",
    "    def __init__(self, encoder, decoder, device):\n",
    "        super().__init__()\n",
    "        \n",
    "        self.encoder = encoder\n",
    "        self.decoder = decoder\n",
    "        self.device = device\n",
    "        \n",
    "        assert encoder.hid_dim * (1+encoder.bidirectional) == decoder.dec_hid_dim, \\\n",
    "            \"Hidden dimensions of encoder and decoder must be equal!\"\n",
    "        assert encoder.n_layers == decoder.n_layers, \\\n",
    "            \"Encoder and decoder must have equal number of layers!\"\n",
    "        \n",
    "    def forward(self, src, trg, teacher_forcing_ratio = 0.5):\n",
    "        # src = [src sent len, batch size]\n",
    "        # trg = [trg sent len, batch size]\n",
    "        # teacher_forcing_ratio is probability to use teacher forcing\n",
    "        # e.g. if teacher_forcing_ratio is 0.75 we use ground-truth inputs 75% of the time\n",
    "        \n",
    "        # Again, now batch is the first dimention instead of zero\n",
    "        batch_size = trg.shape[1]\n",
    "        trg_len = trg.shape[0]\n",
    "        trg_vocab_size = self.decoder.output_dim\n",
    "        \n",
    "        #tensor to store decoder outputs\n",
    "        outputs = torch.zeros(trg_len, batch_size, trg_vocab_size).to(self.device)\n",
    "        \n",
    "        #last hidden state of the encoder is used as the initial hidden state of the decoder\n",
    "        # encoder_outputs, hidden, cell = self.encoder(src)\n",
    "        encoder_outputs, hidden, cell = self.encoder(src)\n",
    "\n",
    "        #first input to the decoder is the <sos> tokens\n",
    "        input = trg[0,:]\n",
    "        \n",
    "        for t in range(1, trg_len):\n",
    "\n",
    "            output, hidden = self.decoder(input, hidden, encoder_outputs)\n",
    "\n",
    "            outputs[t] = output\n",
    "            #decide if we are going to use teacher forcing or not\n",
    "            teacher_force = random.random() < teacher_forcing_ratio\n",
    "            #get the highest predicted token from our predictions\n",
    "            top1 = output.argmax(-1) \n",
    "            #if teacher forcing, use actual next token as next input\n",
    "            #if not, use predicted token\n",
    "            input = trg[t] if teacher_force else top1\n",
    "        \n",
    "        return outputs"
   ]
  },
  {
   "cell_type": "code",
   "execution_count": 84,
   "id": "67f31d04",
   "metadata": {},
   "outputs": [],
   "source": [
    "INPUT_DIM = len(src_vocab_to_ind)\n",
    "OUTPUT_DIM = len(trg_vocab_to_ind)\n",
    "ENC_EMB_DIM = 100\n",
    "DEC_EMB_DIM = 100\n",
    "DEC_HID_DIM = 256\n",
    "BIDIRECTIONAL = True\n",
    "ENC_HID_DIM = DEC_HID_DIM // (1 + BIDIRECTIONAL)\n",
    "N_LAYERS = 2\n",
    "ENC_DROPOUT = 0.5\n",
    "DEC_DROPOUT = 0.5\n",
    "\n",
    "enc = Encoder(vocab_size=INPUT_DIM,\n",
    "              embed_dim=ENC_EMB_DIM,\n",
    "              hidden_dim=ENC_HID_DIM,\n",
    "              n_layers=N_LAYERS,\n",
    "              dropout=ENC_DROPOUT,\n",
    "              bidirectional=BIDIRECTIONAL)\n",
    "\n",
    "attention = Attention(enc_hid_dim=ENC_HID_DIM,\n",
    "                      dec_hid_dim=DEC_HID_DIM,\n",
    "                      bidirectional=BIDIRECTIONAL,\n",
    "                      temperature=1)\n",
    "\n",
    "dec = DecoderWithAttention(output_dim=OUTPUT_DIM,\n",
    "                           emb_dim=DEC_EMB_DIM,\n",
    "                           enc_hid_dim=ENC_HID_DIM,\n",
    "                           dec_hid_dim=DEC_HID_DIM,\n",
    "                           n_layers=N_LAYERS,\n",
    "                           bidirectional=BIDIRECTIONAL,\n",
    "                           dropout=DEC_DROPOUT,\n",
    "                           attention=attention)\n",
    "\n",
    "# dont forget to put the model to the right device\n",
    "model = Seq2Seq(enc, dec, device)"
   ]
  },
  {
   "cell_type": "code",
   "execution_count": 85,
   "id": "4c06714f",
   "metadata": {},
   "outputs": [
    {
     "name": "stdout",
     "output_type": "stream",
     "text": [
      "torch.Size([33, 32, 1])\n",
      "torch.Size([33, 32, 1])\n",
      "torch.Size([33, 32, 1])\n",
      "torch.Size([33, 32, 1])\n",
      "torch.Size([33, 32, 1])\n",
      "torch.Size([33, 32, 1])\n",
      "torch.Size([33, 32, 1])\n",
      "torch.Size([33, 32, 1])\n",
      "torch.Size([33, 32, 1])\n",
      "torch.Size([33, 32, 1])\n",
      "torch.Size([33, 32, 1])\n",
      "torch.Size([33, 32, 1])\n",
      "torch.Size([33, 32, 1])\n",
      "torch.Size([33, 32, 1])\n",
      "torch.Size([33, 32, 1])\n",
      "torch.Size([33, 32, 1])\n",
      "torch.Size([33, 32, 1])\n",
      "torch.Size([33, 32, 1])\n",
      "torch.Size([33, 32, 1])\n",
      "torch.Size([33, 32, 1])\n",
      "torch.Size([33, 32, 1])\n",
      "torch.Size([33, 32, 1])\n",
      "torch.Size([33, 32, 1])\n",
      "torch.Size([33, 32, 1])\n",
      "torch.Size([33, 32, 1])\n",
      "torch.Size([33, 32, 1])\n",
      "torch.Size([33, 32, 1])\n",
      "torch.Size([33, 32, 1])\n",
      "torch.Size([33, 32, 1])\n",
      "torch.Size([33, 32, 1])\n",
      "torch.Size([33, 32, 1])\n",
      "torch.Size([33, 32, 1])\n"
     ]
    },
    {
     "data": {
      "text/plain": [
       "torch.Size([33, 32, 10799])"
      ]
     },
     "execution_count": 85,
     "metadata": {},
     "output_type": "execute_result"
    }
   ],
   "source": [
    "model(batch['src'].transpose(0, 1), batch['trg'].transpose(0, 1)).shape"
   ]
  },
  {
   "cell_type": "code",
   "execution_count": 45,
   "id": "38ed0e9f",
   "metadata": {
    "scrolled": true
   },
   "outputs": [
    {
     "name": "stdout",
     "output_type": "stream",
     "text": [
      "The model has 10,045,368 trainable parameters\n"
     ]
    }
   ],
   "source": [
    "print(f'The model has {count_parameters(model):,} trainable parameters')"
   ]
  },
  {
   "cell_type": "code",
   "execution_count": 46,
   "id": "211d25e4",
   "metadata": {
    "scrolled": true
   },
   "outputs": [
    {
     "name": "stdout",
     "output_type": "stream",
     "text": [
      "The model has 1,413,584 trainable parameters\n"
     ]
    }
   ],
   "source": [
    "print(f'The model has {count_parameters(enc):,} trainable parameters')"
   ]
  },
  {
   "cell_type": "code",
   "execution_count": 47,
   "id": "e9adb738",
   "metadata": {
    "scrolled": true
   },
   "outputs": [
    {
     "name": "stdout",
     "output_type": "stream",
     "text": [
      "The model has 65,793 trainable parameters\n"
     ]
    }
   ],
   "source": [
    "print(f'The model has {count_parameters(attention):,} trainable parameters')"
   ]
  },
  {
   "cell_type": "code",
   "execution_count": 48,
   "id": "df4e1a9d",
   "metadata": {
    "scrolled": true
   },
   "outputs": [
    {
     "name": "stdout",
     "output_type": "stream",
     "text": [
      "The model has 8,631,784 trainable parameters\n"
     ]
    }
   ],
   "source": [
    "print(f'The model has {count_parameters(dec):,} trainable parameters')"
   ]
  },
  {
   "cell_type": "code",
   "execution_count": 86,
   "id": "17ca790c",
   "metadata": {},
   "outputs": [],
   "source": [
    "out, hid, cell = enc(batch['src'].transpose(0, 1))"
   ]
  },
  {
   "cell_type": "code",
   "execution_count": 87,
   "id": "b1310155",
   "metadata": {},
   "outputs": [
    {
     "data": {
      "text/plain": [
       "tensor([[[ 1.7987e-01, -2.5862e-01,  1.2340e-01,  ..., -1.6928e-03,\n",
       "           5.2860e-03, -7.1080e-02],\n",
       "         [ 1.8005e-01, -2.5866e-01,  1.2256e-01,  ..., -3.5929e-02,\n",
       "           5.5964e-02, -1.2284e-01],\n",
       "         [ 1.8005e-01, -2.5851e-01,  1.2342e-01,  ..., -4.2736e-02,\n",
       "          -9.1661e-02, -1.2436e-01],\n",
       "         ...,\n",
       "         [ 1.7998e-01, -2.5858e-01,  1.2349e-01,  ..., -2.2708e-02,\n",
       "           2.0011e-02, -9.4228e-02],\n",
       "         [ 1.8009e-01, -2.5837e-01,  1.2357e-01,  ...,  6.1523e-02,\n",
       "          -5.6790e-02, -1.4611e-01],\n",
       "         [ 1.8009e-01, -2.5839e-01,  1.2355e-01,  ...,  2.1434e-02,\n",
       "          -3.8592e-03, -1.0123e-01]],\n",
       "\n",
       "        [[-8.5914e-02,  1.8230e-02, -4.8975e-02,  ...,  7.2725e-02,\n",
       "          -6.2789e-03,  3.3094e-02],\n",
       "         [-8.3012e-02,  2.0139e-02, -4.5738e-02,  ...,  9.6784e-02,\n",
       "           8.7174e-03, -1.1650e-04],\n",
       "         [-8.6309e-02,  1.7667e-02, -4.9517e-02,  ...,  7.3170e-02,\n",
       "           5.6856e-02, -1.2827e-02],\n",
       "         ...,\n",
       "         [-8.6137e-02,  1.7829e-02, -4.9308e-02,  ...,  7.9341e-02,\n",
       "           2.2536e-02,  1.0919e-02],\n",
       "         [-8.6518e-02,  1.7386e-02, -4.9803e-02,  ...,  7.2196e-02,\n",
       "           2.4308e-03, -2.6194e-02],\n",
       "         [-8.6502e-02,  1.7406e-02, -4.9781e-02,  ...,  9.5205e-02,\n",
       "           3.5858e-02, -2.3005e-02]]], grad_fn=<UnsafeViewBackward0>)"
      ]
     },
     "execution_count": 87,
     "metadata": {},
     "output_type": "execute_result"
    }
   ],
   "source": [
    "hid"
   ]
  },
  {
   "cell_type": "code",
   "execution_count": 91,
   "id": "9fcda06d",
   "metadata": {},
   "outputs": [
    {
     "name": "stdout",
     "output_type": "stream",
     "text": [
      "torch.Size([33, 32, 1])\n"
     ]
    },
    {
     "data": {
      "text/plain": [
       "tensor([[[0.0304],\n",
       "         [0.0304],\n",
       "         [0.0304],\n",
       "         ...,\n",
       "         [0.0306],\n",
       "         [0.0306],\n",
       "         [0.0304]],\n",
       "\n",
       "        [[0.0304],\n",
       "         [0.0303],\n",
       "         [0.0304],\n",
       "         ...,\n",
       "         [0.0306],\n",
       "         [0.0306],\n",
       "         [0.0305]],\n",
       "\n",
       "        [[0.0305],\n",
       "         [0.0301],\n",
       "         [0.0305],\n",
       "         ...,\n",
       "         [0.0305],\n",
       "         [0.0306],\n",
       "         [0.0307]],\n",
       "\n",
       "        ...,\n",
       "\n",
       "        [[0.0303],\n",
       "         [0.0302],\n",
       "         [0.0304],\n",
       "         ...,\n",
       "         [0.0303],\n",
       "         [0.0303],\n",
       "         [0.0302]],\n",
       "\n",
       "        [[0.0303],\n",
       "         [0.0302],\n",
       "         [0.0304],\n",
       "         ...,\n",
       "         [0.0303],\n",
       "         [0.0303],\n",
       "         [0.0302]],\n",
       "\n",
       "        [[0.0303],\n",
       "         [0.0302],\n",
       "         [0.0304],\n",
       "         ...,\n",
       "         [0.0303],\n",
       "         [0.0303],\n",
       "         [0.0302]]], grad_fn=<DivBackward0>)"
      ]
     },
     "execution_count": 91,
     "metadata": {},
     "output_type": "execute_result"
    }
   ],
   "source": [
    "attention(hidden, out)"
   ]
  },
  {
   "cell_type": "code",
   "execution_count": 52,
   "id": "9f39efc3",
   "metadata": {},
   "outputs": [
    {
     "data": {
      "text/plain": [
       "torch.Size([33, 32, 1])"
      ]
     },
     "execution_count": 52,
     "metadata": {},
     "output_type": "execute_result"
    }
   ],
   "source": [
    "attention(hidden, out).shape"
   ]
  },
  {
   "cell_type": "code",
   "execution_count": 53,
   "id": "3af1eda5",
   "metadata": {},
   "outputs": [],
   "source": [
    "PAD_IDX = trg_vocab_to_ind['<pad>']\n",
    "optimizer = optim.Adam(model.parameters(), lr=1e-3)\n",
    "criterion = nn.CrossEntropyLoss(ignore_index=PAD_IDX)\n",
    "\n",
    "def train(model, iterator, optimizer, criterion, clip, train_history=None, valid_history=None):\n",
    "    model.train()\n",
    "    \n",
    "    epoch_loss = 0\n",
    "    history = []\n",
    "    i = 0\n",
    "    for batch in tqdm(iterator):\n",
    "        \n",
    "        src = batch['src'].transpose(0, 1)\n",
    "        trg = batch['trg'].transpose(0, 1)\n",
    "        \n",
    "        optimizer.zero_grad()\n",
    "        \n",
    "        output = model(src, trg)\n",
    "        \n",
    "        #trg = [trg sent len, batch size]\n",
    "        #output = [trg sent len, batch size, output dim]\n",
    "        \n",
    "        output = output[1:].reshape(-1, OUTPUT_DIM)\n",
    "        trg = trg[1:].reshape(-1)\n",
    "        \n",
    "        #trg = [(trg sent len - 1) * batch size]\n",
    "        #output = [(trg sent len - 1) * batch size, output dim]\n",
    "        \n",
    "        loss = criterion(output, trg)\n",
    "        \n",
    "        loss.backward()\n",
    "        \n",
    "        # Let's clip the gradient\n",
    "        torch.nn.utils.clip_grad_norm_(model.parameters(), clip)\n",
    "        \n",
    "        optimizer.step()\n",
    "        \n",
    "        epoch_loss += loss.item()\n",
    "        \n",
    "        history.append(loss.cpu().data.numpy())\n",
    "        if (i+1)%10==0:\n",
    "            fig, ax = plt.subplots(nrows=1, ncols=2, figsize=(12, 8))\n",
    "\n",
    "            clear_output(True)\n",
    "            ax[0].plot(history, label='train loss')\n",
    "            ax[0].set_xlabel('Batch')\n",
    "            ax[0].set_title('Train loss')\n",
    "            if train_history is not None:\n",
    "                ax[1].plot(train_history, label='general train history')\n",
    "                ax[1].set_xlabel('Epoch')\n",
    "            if valid_history is not None:\n",
    "                ax[1].plot(valid_history, label='general valid history')\n",
    "            plt.legend()\n",
    "            \n",
    "            plt.show()\n",
    "        i+=1\n",
    "\n",
    "        \n",
    "    return epoch_loss / len(iterator)\n",
    "\n",
    "def evaluate(model, iterator, criterion):\n",
    "    \n",
    "    model.eval()\n",
    "    \n",
    "    epoch_loss = 0\n",
    "    \n",
    "    history = []\n",
    "    \n",
    "    with torch.no_grad():\n",
    "    \n",
    "        for i, batch in enumerate(iterator):\n",
    "\n",
    "            src = batch.src\n",
    "            trg = batch.trg\n",
    "\n",
    "            output = model(src, trg, 0) #turn off teacher forcing\n",
    "\n",
    "            #trg = [trg sent len, batch size]\n",
    "            #output = [trg sent len, batch size, output dim]\n",
    "\n",
    "            output = output[1:].reshape(-1, OUTPUT_DIM)\n",
    "            trg = trg[1:].reshape(-1)\n",
    "\n",
    "            #trg = [(trg sent len - 1) * batch size]\n",
    "            #output = [(trg sent len - 1) * batch size, output dim]\n",
    "\n",
    "            loss = criterion(output, trg)\n",
    "            \n",
    "            epoch_loss += loss.item()\n",
    "        \n",
    "    return epoch_loss / len(iterator)\n",
    "\n",
    "def epoch_time(start_time, end_time):\n",
    "    elapsed_time = end_time - start_time\n",
    "    elapsed_mins = int(elapsed_time / 60)\n",
    "    elapsed_secs = int(elapsed_time - (elapsed_mins * 60))\n",
    "    return elapsed_mins, elapsed_secs"
   ]
  },
  {
   "cell_type": "code",
   "execution_count": 54,
   "id": "7e5e1c72",
   "metadata": {
    "scrolled": true
   },
   "outputs": [
    {
     "data": {
      "image/png": "[encoded data removed]",
      "text/plain": [
       "<Figure size 1200x800 with 2 Axes>"
      ]
     },
     "metadata": {},
     "output_type": "display_data"
    },
    {
     "name": "stderr",
     "output_type": "stream",
     "text": [
      "  2%|▊                                                   | 20/1250 [00:45<46:42,  2.28s/it]\n",
      "\n",
      "KeyboardInterrupt\n",
      "\n"
     ]
    }
   ],
   "source": [
    "train_history = []\n",
    "valid_history = []\n",
    "train(model, train_loader, optimizer, criterion, 2, train_history, valid_history)"
   ]
  },
  {
   "cell_type": "code",
   "execution_count": 44,
   "id": "7521f85c",
   "metadata": {},
   "outputs": [],
   "source": [
    "def cut_on_eos(tokens_iter):\n",
    "    for token in tokens_iter:\n",
    "        if token == '<eos>':\n",
    "            break\n",
    "        yield token\n",
    "\n",
    "def remove_tech_tokens(tokens_iter, tokens_to_remove=['<sos>', '<unk>', '<pad>']):\n",
    "    return [x for x in tokens_iter if x not in tokens_to_remove]\n",
    "\n",
    "def generate_translation(src, trg, model, TRG_vocab, SRC_vocab):\n",
    "    model.eval()\n",
    "\n",
    "    output = model(src, trg, 0) #turn off teacher forcing\n",
    "    output = output[1:].argmax(-1)\n",
    "\n",
    "#     source = remove_tech_tokens(cut_on_eos([SRC_vocab[x] for x in list(src[:,0].cpu().numpy())]))\n",
    "    original = remove_tech_tokens(cut_on_eos([TRG_vocab[x] for x in list(trg[:,0].cpu().numpy())]))\n",
    "    generated = remove_tech_tokens(cut_on_eos([TRG_vocab[x] for x in list(output[:, 0].cpu().numpy())]))\n",
    "    \n",
    "#     print('Source: {}'.format(' '.join(source[::-1])))\n",
    "    print('Original: {}'.format(' '.join(original)))\n",
    "    print('Generated: {}'.format(' '.join(generated)))\n",
    "    print()\n",
    "\n",
    "def get_text(x, TRG_vocab):\n",
    "    generated = remove_tech_tokens(cut_on_eos([TRG_vocab[elem] for elem in list(x)]))\n",
    "    return generated"
   ]
  },
  {
   "cell_type": "code",
   "execution_count": 45,
   "id": "cb3a638e",
   "metadata": {},
   "outputs": [
    {
     "name": "stdout",
     "output_type": "stream",
     "text": [
      "Original: в хостеле можно поиграть в настольный теннис и бильярд , а в окрестностях — заняться популярным в этих местах катанием на лыжах и велосипедными прогулками .\n",
      "Generated: в отеле и в и , а также .\n",
      "\n",
      "Original: к услугам гостей спа - салон , в котором работают сауна , паровая баня и инфракрасная сауна .\n",
      "Generated: в числе удобств апартаментов , в и , и , а также .\n",
      "\n",
      "Original: различные бары и рестораны находятся в 5 минутах ходьбы от дома отдыха .\n",
      "Generated: расстояние до аэропорта .\n",
      "\n",
      "Original: на полностью оборудованной кухне в распоряжении гостей холодильник и посуда .\n",
      "Generated: в числе удобств телевизор с плоским экраном и .\n",
      "\n",
      "Original: на территории обустроена бесплатная частная парковка .\n",
      "Generated: в территории обустроена бесплатная парковка .\n",
      "\n",
      "Original: площадь каталонии находится всего в 5 минутах ходьбы от этого гостевого дома . в местах общего пользования предоставляется бесплатный wi - fi .\n",
      "Generated: в .\n",
      "\n",
      "Original: отель находится в 18 км от города шклярска - и в 21 км от городка - .\n",
      "Generated: отель .\n",
      "\n",
      "Original: отель находится в 75 км от международного аэропорта , в 2 , 5 часах езды от коломбо .\n",
      "Generated: отель .\n",
      "\n",
      "Original: гости отеля atlantic могут воспользоваться камерой хранения багажа и услугами прачечной и гладильной .\n",
      "Generated: в отеле в отеле и в и , а также .\n",
      "\n",
      "Original: апартаменты roma расположены рядом с парком и в 20 минутах ходьбы от станции метро .\n",
      "Generated: отель .\n",
      "\n"
     ]
    }
   ],
   "source": [
    "batch = next(iter(test_loader))\n",
    "\n",
    "for idx in range(10):\n",
    "    src = batch['src']\n",
    "    trg = batch['trg']\n",
    "    trg = trg.transpose(0, 1)\n",
    "    #trg = [trg sent len, batch size]\n",
    "    src = src.transpose(0, 1)\n",
    "    #src = [src sent len, batch size]\n",
    "    src = src[:, idx:idx+1].to(device)\n",
    "    trg = trg[:, idx:idx+1].to(device)\n",
    "    generate_translation(src, trg, model, trg_ind_to_vocab, src_ind_to_vocab)"
   ]
  },
  {
   "cell_type": "code",
   "execution_count": null,
   "id": "087b1712",
   "metadata": {},
   "outputs": [],
   "source": []
  }
 ],
 "metadata": {
  "kernelspec": {
   "display_name": "Python 3 (ipykernel)",
   "language": "python",
   "name": "python3"
  },
  "language_info": {
   "codemirror_mode": {
    "name": "ipython",
    "version": 3
   },
   "file_extension": ".py",
   "mimetype": "text/x-python",
   "name": "python",
   "nbconvert_exporter": "python",
   "pygments_lexer": "ipython3",
   "version": "3.10.11"
  }
 },
 "nbformat": 4,
 "nbformat_minor": 5
}
